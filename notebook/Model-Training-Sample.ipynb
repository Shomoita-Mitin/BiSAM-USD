{
 "cells": [
  {
   "cell_type": "markdown",
   "id": "c32e35a7",
   "metadata": {},
   "source": [
    "# 1. Data Loading: EEG Signals Loading"
   ]
  },
  {
   "cell_type": "code",
   "execution_count": 1,
   "id": "8126b6d8",
   "metadata": {},
   "outputs": [],
   "source": [
    "import os\n",
    "import mne\n",
    "import numpy as np\n",
    "import matplotlib.pyplot as plt"
   ]
  },
  {
   "cell_type": "code",
   "execution_count": 2,
   "id": "daba3b48",
   "metadata": {},
   "outputs": [
    {
     "name": "stdout",
     "output_type": "stream",
     "text": [
      "Extracting parameters from D:\\Thesis Dataset\\IOWA Data\\All_Rest_Recordings_RAW\\All_Rest_Recordings_RAW\\Control1001.vhdr...\n",
      "Setting channel info structure...\n"
     ]
    },
    {
     "name": "stderr",
     "output_type": "stream",
     "text": [
      "C:\\Users\\shomo\\AppData\\Local\\Temp\\ipykernel_15136\\4022376818.py:11: RuntimeWarning: Online software filter detected. Using software filter settings and ignoring hardware values\n",
      "  raw = mne.io.read_raw_brainvision(file_path, preload=True)\n"
     ]
    },
    {
     "name": "stdout",
     "output_type": "stream",
     "text": [
      "Reading 0 ... 134449  =      0.000 ...   268.898 secs...\n",
      "Extracting parameters from D:\\Thesis Dataset\\IOWA Data\\All_Rest_Recordings_RAW\\All_Rest_Recordings_RAW\\Control1021.vhdr...\n",
      "Setting channel info structure...\n",
      "Reading 0 ... 105429  =      0.000 ...   210.858 secs...\n",
      "Extracting parameters from D:\\Thesis Dataset\\IOWA Data\\All_Rest_Recordings_RAW\\All_Rest_Recordings_RAW\\Control1031.vhdr...\n",
      "Setting channel info structure...\n",
      "Reading 0 ... 118229  =      0.000 ...   236.458 secs...\n"
     ]
    },
    {
     "name": "stderr",
     "output_type": "stream",
     "text": [
      "C:\\Users\\shomo\\AppData\\Local\\Temp\\ipykernel_15136\\4022376818.py:11: RuntimeWarning: Online software filter detected. Using software filter settings and ignoring hardware values\n",
      "  raw = mne.io.read_raw_brainvision(file_path, preload=True)\n",
      "C:\\Users\\shomo\\AppData\\Local\\Temp\\ipykernel_15136\\4022376818.py:11: RuntimeWarning: Online software filter detected. Using software filter settings and ignoring hardware values\n",
      "  raw = mne.io.read_raw_brainvision(file_path, preload=True)\n"
     ]
    },
    {
     "name": "stdout",
     "output_type": "stream",
     "text": [
      "Extracting parameters from D:\\Thesis Dataset\\IOWA Data\\All_Rest_Recordings_RAW\\All_Rest_Recordings_RAW\\Control1041.vhdr...\n",
      "Setting channel info structure...\n",
      "Reading 0 ... 108929  =      0.000 ...   217.858 secs...\n",
      "Extracting parameters from D:\\Thesis Dataset\\IOWA Data\\All_Rest_Recordings_RAW\\All_Rest_Recordings_RAW\\Control1051.vhdr...\n",
      "Setting channel info structure...\n",
      "Reading 0 ... 117089  =      0.000 ...   234.178 secs...\n"
     ]
    },
    {
     "name": "stderr",
     "output_type": "stream",
     "text": [
      "C:\\Users\\shomo\\AppData\\Local\\Temp\\ipykernel_15136\\4022376818.py:11: RuntimeWarning: Online software filter detected. Using software filter settings and ignoring hardware values\n",
      "  raw = mne.io.read_raw_brainvision(file_path, preload=True)\n",
      "C:\\Users\\shomo\\AppData\\Local\\Temp\\ipykernel_15136\\4022376818.py:11: RuntimeWarning: Online software filter detected. Using software filter settings and ignoring hardware values\n",
      "  raw = mne.io.read_raw_brainvision(file_path, preload=True)\n"
     ]
    },
    {
     "name": "stdout",
     "output_type": "stream",
     "text": [
      "Extracting parameters from D:\\Thesis Dataset\\IOWA Data\\All_Rest_Recordings_RAW\\All_Rest_Recordings_RAW\\Control1061.vhdr...\n",
      "Setting channel info structure...\n",
      "Reading 0 ... 106459  =      0.000 ...   212.918 secs...\n",
      "Extracting parameters from D:\\Thesis Dataset\\IOWA Data\\All_Rest_Recordings_RAW\\All_Rest_Recordings_RAW\\Control1071.vhdr...\n",
      "Setting channel info structure...\n",
      "Reading 0 ... 112789  =      0.000 ...   225.578 secs...\n"
     ]
    },
    {
     "name": "stderr",
     "output_type": "stream",
     "text": [
      "C:\\Users\\shomo\\AppData\\Local\\Temp\\ipykernel_15136\\4022376818.py:11: RuntimeWarning: Online software filter detected. Using software filter settings and ignoring hardware values\n",
      "  raw = mne.io.read_raw_brainvision(file_path, preload=True)\n",
      "C:\\Users\\shomo\\AppData\\Local\\Temp\\ipykernel_15136\\4022376818.py:11: RuntimeWarning: Online software filter detected. Using software filter settings and ignoring hardware values\n",
      "  raw = mne.io.read_raw_brainvision(file_path, preload=True)\n"
     ]
    },
    {
     "name": "stdout",
     "output_type": "stream",
     "text": [
      "Extracting parameters from D:\\Thesis Dataset\\IOWA Data\\All_Rest_Recordings_RAW\\All_Rest_Recordings_RAW\\Control1081.vhdr...\n",
      "Setting channel info structure...\n",
      "Reading 0 ... 131349  =      0.000 ...   262.698 secs...\n"
     ]
    },
    {
     "name": "stderr",
     "output_type": "stream",
     "text": [
      "C:\\Users\\shomo\\AppData\\Local\\Temp\\ipykernel_15136\\4022376818.py:11: RuntimeWarning: Online software filter detected. Using software filter settings and ignoring hardware values\n",
      "  raw = mne.io.read_raw_brainvision(file_path, preload=True)\n"
     ]
    },
    {
     "name": "stdout",
     "output_type": "stream",
     "text": [
      "Extracting parameters from D:\\Thesis Dataset\\IOWA Data\\All_Rest_Recordings_RAW\\All_Rest_Recordings_RAW\\Control1091.vhdr...\n",
      "Setting channel info structure...\n",
      "Reading 0 ... 118159  =      0.000 ...   236.318 secs...\n",
      "Extracting parameters from D:\\Thesis Dataset\\IOWA Data\\All_Rest_Recordings_RAW\\All_Rest_Recordings_RAW\\Control1101.vhdr...\n",
      "Setting channel info structure...\n"
     ]
    },
    {
     "name": "stderr",
     "output_type": "stream",
     "text": [
      "C:\\Users\\shomo\\AppData\\Local\\Temp\\ipykernel_15136\\4022376818.py:11: RuntimeWarning: Online software filter detected. Using software filter settings and ignoring hardware values\n",
      "  raw = mne.io.read_raw_brainvision(file_path, preload=True)\n",
      "C:\\Users\\shomo\\AppData\\Local\\Temp\\ipykernel_15136\\4022376818.py:11: RuntimeWarning: Online software filter detected. Using software filter settings and ignoring hardware values\n",
      "  raw = mne.io.read_raw_brainvision(file_path, preload=True)\n"
     ]
    },
    {
     "name": "stdout",
     "output_type": "stream",
     "text": [
      "Reading 0 ... 107399  =      0.000 ...   214.798 secs...\n",
      "Extracting parameters from D:\\Thesis Dataset\\IOWA Data\\All_Rest_Recordings_RAW\\All_Rest_Recordings_RAW\\Control1111.vhdr...\n",
      "Setting channel info structure...\n",
      "Reading 0 ... 164509  =      0.000 ...   329.018 secs...\n",
      "Extracting parameters from D:\\Thesis Dataset\\IOWA Data\\All_Rest_Recordings_RAW\\All_Rest_Recordings_RAW\\Control1121.vhdr...\n"
     ]
    },
    {
     "name": "stderr",
     "output_type": "stream",
     "text": [
      "C:\\Users\\shomo\\AppData\\Local\\Temp\\ipykernel_15136\\4022376818.py:11: RuntimeWarning: Online software filter detected. Using software filter settings and ignoring hardware values\n",
      "  raw = mne.io.read_raw_brainvision(file_path, preload=True)\n"
     ]
    },
    {
     "name": "stdout",
     "output_type": "stream",
     "text": [
      "Setting channel info structure...\n",
      "Reading 0 ... 60939  =      0.000 ...   121.878 secs...\n",
      "Extracting parameters from D:\\Thesis Dataset\\IOWA Data\\All_Rest_Recordings_RAW\\All_Rest_Recordings_RAW\\Control1131.vhdr...\n",
      "Setting channel info structure...\n",
      "Reading 0 ... 60469  =      0.000 ...   120.938 secs...\n"
     ]
    },
    {
     "name": "stderr",
     "output_type": "stream",
     "text": [
      "C:\\Users\\shomo\\AppData\\Local\\Temp\\ipykernel_15136\\4022376818.py:11: RuntimeWarning: Online software filter detected. Using software filter settings and ignoring hardware values\n",
      "  raw = mne.io.read_raw_brainvision(file_path, preload=True)\n",
      "C:\\Users\\shomo\\AppData\\Local\\Temp\\ipykernel_15136\\4022376818.py:11: RuntimeWarning: Online software filter detected. Using software filter settings and ignoring hardware values\n",
      "  raw = mne.io.read_raw_brainvision(file_path, preload=True)\n"
     ]
    },
    {
     "name": "stdout",
     "output_type": "stream",
     "text": [
      "Extracting parameters from D:\\Thesis Dataset\\IOWA Data\\All_Rest_Recordings_RAW\\All_Rest_Recordings_RAW\\Control1141.vhdr...\n",
      "Setting channel info structure...\n",
      "Reading 0 ... 60599  =      0.000 ...   121.198 secs...\n",
      "Extracting parameters from D:\\Thesis Dataset\\IOWA Data\\All_Rest_Recordings_RAW\\All_Rest_Recordings_RAW\\Control1151.vhdr...\n",
      "Setting channel info structure...\n",
      "Reading 0 ... 60939  =      0.000 ...   121.878 secs...\n",
      "Extracting parameters from D:\\Thesis Dataset\\IOWA Data\\All_Rest_Recordings_RAW\\All_Rest_Recordings_RAW\\Control1161.vhdr...\n",
      "Setting channel info structure...\n"
     ]
    },
    {
     "name": "stderr",
     "output_type": "stream",
     "text": [
      "C:\\Users\\shomo\\AppData\\Local\\Temp\\ipykernel_15136\\4022376818.py:11: RuntimeWarning: Online software filter detected. Using software filter settings and ignoring hardware values\n",
      "  raw = mne.io.read_raw_brainvision(file_path, preload=True)\n",
      "C:\\Users\\shomo\\AppData\\Local\\Temp\\ipykernel_15136\\4022376818.py:11: RuntimeWarning: Online software filter detected. Using software filter settings and ignoring hardware values\n",
      "  raw = mne.io.read_raw_brainvision(file_path, preload=True)\n",
      "C:\\Users\\shomo\\AppData\\Local\\Temp\\ipykernel_15136\\4022376818.py:11: RuntimeWarning: Online software filter detected. Using software filter settings and ignoring hardware values\n",
      "  raw = mne.io.read_raw_brainvision(file_path, preload=True)\n"
     ]
    },
    {
     "name": "stdout",
     "output_type": "stream",
     "text": [
      "Reading 0 ... 60499  =      0.000 ...   120.998 secs...\n",
      "Extracting parameters from D:\\Thesis Dataset\\IOWA Data\\All_Rest_Recordings_RAW\\All_Rest_Recordings_RAW\\Control1171.vhdr...\n",
      "Setting channel info structure...\n",
      "Reading 0 ... 90699  =      0.000 ...   181.398 secs...\n",
      "Extracting parameters from D:\\Thesis Dataset\\IOWA Data\\All_Rest_Recordings_RAW\\All_Rest_Recordings_RAW\\Control1181.vhdr...\n",
      "Setting channel info structure...\n",
      "Reading 0 ... 96299  =      0.000 ...   192.598 secs...\n"
     ]
    },
    {
     "name": "stderr",
     "output_type": "stream",
     "text": [
      "C:\\Users\\shomo\\AppData\\Local\\Temp\\ipykernel_15136\\4022376818.py:11: RuntimeWarning: Online software filter detected. Using software filter settings and ignoring hardware values\n",
      "  raw = mne.io.read_raw_brainvision(file_path, preload=True)\n",
      "C:\\Users\\shomo\\AppData\\Local\\Temp\\ipykernel_15136\\4022376818.py:11: RuntimeWarning: Online software filter detected. Using software filter settings and ignoring hardware values\n",
      "  raw = mne.io.read_raw_brainvision(file_path, preload=True)\n"
     ]
    },
    {
     "name": "stdout",
     "output_type": "stream",
     "text": [
      "Extracting parameters from D:\\Thesis Dataset\\IOWA Data\\All_Rest_Recordings_RAW\\All_Rest_Recordings_RAW\\Control1191.vhdr...\n",
      "Setting channel info structure...\n",
      "Reading 0 ... 95999  =      0.000 ...   191.998 secs...\n",
      "Extracting parameters from D:\\Thesis Dataset\\IOWA Data\\All_Rest_Recordings_RAW\\All_Rest_Recordings_RAW\\Control1201.vhdr...\n",
      "Setting channel info structure...\n",
      "Reading 0 ... 90359  =      0.000 ...   180.718 secs...\n"
     ]
    },
    {
     "name": "stderr",
     "output_type": "stream",
     "text": [
      "C:\\Users\\shomo\\AppData\\Local\\Temp\\ipykernel_15136\\4022376818.py:11: RuntimeWarning: Online software filter detected. Using software filter settings and ignoring hardware values\n",
      "  raw = mne.io.read_raw_brainvision(file_path, preload=True)\n",
      "C:\\Users\\shomo\\AppData\\Local\\Temp\\ipykernel_15136\\4022376818.py:11: RuntimeWarning: Online software filter detected. Using software filter settings and ignoring hardware values\n",
      "  raw = mne.io.read_raw_brainvision(file_path, preload=True)\n"
     ]
    },
    {
     "name": "stdout",
     "output_type": "stream",
     "text": [
      "Extracting parameters from D:\\Thesis Dataset\\IOWA Data\\All_Rest_Recordings_RAW\\All_Rest_Recordings_RAW\\Control1211.vhdr...\n",
      "Setting channel info structure...\n",
      "Reading 0 ... 75399  =      0.000 ...   150.798 secs...\n",
      "Extracting parameters from D:\\Thesis Dataset\\IOWA Data\\All_Rest_Recordings_RAW\\All_Rest_Recordings_RAW\\Control1221.vhdr...\n",
      "Setting channel info structure...\n",
      "Reading 0 ... 72439  =      0.000 ...   144.878 secs...\n",
      "Extracting parameters from D:\\Thesis Dataset\\IOWA Data\\All_Rest_Recordings_RAW\\All_Rest_Recordings_RAW\\Control1231.vhdr...\n"
     ]
    },
    {
     "name": "stderr",
     "output_type": "stream",
     "text": [
      "C:\\Users\\shomo\\AppData\\Local\\Temp\\ipykernel_15136\\4022376818.py:11: RuntimeWarning: Online software filter detected. Using software filter settings and ignoring hardware values\n",
      "  raw = mne.io.read_raw_brainvision(file_path, preload=True)\n",
      "C:\\Users\\shomo\\AppData\\Local\\Temp\\ipykernel_15136\\4022376818.py:11: RuntimeWarning: Online software filter detected. Using software filter settings and ignoring hardware values\n",
      "  raw = mne.io.read_raw_brainvision(file_path, preload=True)\n"
     ]
    },
    {
     "name": "stdout",
     "output_type": "stream",
     "text": [
      "Setting channel info structure...\n",
      "Reading 0 ... 82619  =      0.000 ...   165.238 secs...\n",
      "Extracting parameters from D:\\Thesis Dataset\\IOWA Data\\All_Rest_Recordings_RAW\\All_Rest_Recordings_RAW\\Control1241.vhdr...\n",
      "Setting channel info structure...\n",
      "Reading 0 ... 82549  =      0.000 ...   165.098 secs...\n"
     ]
    },
    {
     "name": "stderr",
     "output_type": "stream",
     "text": [
      "C:\\Users\\shomo\\AppData\\Local\\Temp\\ipykernel_15136\\4022376818.py:11: RuntimeWarning: Online software filter detected. Using software filter settings and ignoring hardware values\n",
      "  raw = mne.io.read_raw_brainvision(file_path, preload=True)\n",
      "C:\\Users\\shomo\\AppData\\Local\\Temp\\ipykernel_15136\\4022376818.py:11: RuntimeWarning: Online software filter detected. Using software filter settings and ignoring hardware values\n",
      "  raw = mne.io.read_raw_brainvision(file_path, preload=True)\n"
     ]
    },
    {
     "name": "stdout",
     "output_type": "stream",
     "text": [
      "Extracting parameters from D:\\Thesis Dataset\\IOWA Data\\All_Rest_Recordings_RAW\\All_Rest_Recordings_RAW\\Control1251.vhdr...\n",
      "Setting channel info structure...\n",
      "Reading 0 ... 75599  =      0.000 ...   151.198 secs...\n",
      "Extracting parameters from D:\\Thesis Dataset\\IOWA Data\\All_Rest_Recordings_RAW\\All_Rest_Recordings_RAW\\Control1261.vhdr...\n",
      "Setting channel info structure...\n",
      "Reading 0 ... 83029  =      0.000 ...   166.058 secs...\n"
     ]
    },
    {
     "name": "stderr",
     "output_type": "stream",
     "text": [
      "C:\\Users\\shomo\\AppData\\Local\\Temp\\ipykernel_15136\\4022376818.py:11: RuntimeWarning: Online software filter detected. Using software filter settings and ignoring hardware values\n",
      "  raw = mne.io.read_raw_brainvision(file_path, preload=True)\n",
      "C:\\Users\\shomo\\AppData\\Local\\Temp\\ipykernel_15136\\4022376818.py:11: RuntimeWarning: Online software filter detected. Using software filter settings and ignoring hardware values\n",
      "  raw = mne.io.read_raw_brainvision(file_path, preload=True)\n"
     ]
    },
    {
     "name": "stdout",
     "output_type": "stream",
     "text": [
      "Extracting parameters from D:\\Thesis Dataset\\IOWA Data\\All_Rest_Recordings_RAW\\All_Rest_Recordings_RAW\\Control1271.vhdr...\n",
      "Setting channel info structure...\n",
      "Reading 0 ... 80579  =      0.000 ...   161.158 secs...\n",
      "Extracting parameters from D:\\Thesis Dataset\\IOWA Data\\All_Rest_Recordings_RAW\\All_Rest_Recordings_RAW\\Control1281.vhdr...\n",
      "Setting channel info structure...\n",
      "Reading 0 ... 87799  =      0.000 ...   175.598 secs...\n"
     ]
    },
    {
     "name": "stderr",
     "output_type": "stream",
     "text": [
      "C:\\Users\\shomo\\AppData\\Local\\Temp\\ipykernel_15136\\4022376818.py:11: RuntimeWarning: Online software filter detected. Using software filter settings and ignoring hardware values\n",
      "  raw = mne.io.read_raw_brainvision(file_path, preload=True)\n",
      "C:\\Users\\shomo\\AppData\\Local\\Temp\\ipykernel_15136\\4022376818.py:11: RuntimeWarning: Online software filter detected. Using software filter settings and ignoring hardware values\n",
      "  raw = mne.io.read_raw_brainvision(file_path, preload=True)\n"
     ]
    },
    {
     "name": "stdout",
     "output_type": "stream",
     "text": [
      "Extracting parameters from D:\\Thesis Dataset\\IOWA Data\\All_Rest_Recordings_RAW\\All_Rest_Recordings_RAW\\Control1291.vhdr...\n",
      "Setting channel info structure...\n",
      "Reading 0 ... 60999  =      0.000 ...   121.998 secs...\n",
      "Extracting parameters from D:\\Thesis Dataset\\IOWA Data\\All_Rest_Recordings_RAW\\All_Rest_Recordings_RAW\\Control1301.vhdr...\n",
      "Setting channel info structure...\n",
      "Reading 0 ... 89039  =      0.000 ...   178.078 secs...\n"
     ]
    },
    {
     "name": "stderr",
     "output_type": "stream",
     "text": [
      "C:\\Users\\shomo\\AppData\\Local\\Temp\\ipykernel_15136\\4022376818.py:11: RuntimeWarning: Online software filter detected. Using software filter settings and ignoring hardware values\n",
      "  raw = mne.io.read_raw_brainvision(file_path, preload=True)\n",
      "C:\\Users\\shomo\\AppData\\Local\\Temp\\ipykernel_15136\\4022376818.py:11: RuntimeWarning: Online software filter detected. Using software filter settings and ignoring hardware values\n",
      "  raw = mne.io.read_raw_brainvision(file_path, preload=True)\n"
     ]
    },
    {
     "name": "stdout",
     "output_type": "stream",
     "text": [
      "Extracting parameters from D:\\Thesis Dataset\\IOWA Data\\All_Rest_Recordings_RAW\\All_Rest_Recordings_RAW\\Control1311.vhdr...\n",
      "Setting channel info structure...\n",
      "Reading 0 ... 93719  =      0.000 ...   187.438 secs...\n",
      "Extracting parameters from D:\\Thesis Dataset\\IOWA Data\\All_Rest_Recordings_RAW\\All_Rest_Recordings_RAW\\Control1321.vhdr...\n",
      "Setting channel info structure...\n",
      "Reading 0 ... 88389  =      0.000 ...   176.778 secs...\n"
     ]
    },
    {
     "name": "stderr",
     "output_type": "stream",
     "text": [
      "C:\\Users\\shomo\\AppData\\Local\\Temp\\ipykernel_15136\\4022376818.py:11: RuntimeWarning: Online software filter detected. Using software filter settings and ignoring hardware values\n",
      "  raw = mne.io.read_raw_brainvision(file_path, preload=True)\n",
      "C:\\Users\\shomo\\AppData\\Local\\Temp\\ipykernel_15136\\4022376818.py:11: RuntimeWarning: Online software filter detected. Using software filter settings and ignoring hardware values\n",
      "  raw = mne.io.read_raw_brainvision(file_path, preload=True)\n"
     ]
    },
    {
     "name": "stdout",
     "output_type": "stream",
     "text": [
      "Extracting parameters from D:\\Thesis Dataset\\IOWA Data\\All_Rest_Recordings_RAW\\All_Rest_Recordings_RAW\\Control1331.vhdr...\n",
      "Setting channel info structure...\n",
      "Reading 0 ... 71449  =      0.000 ...   142.898 secs...\n",
      "Extracting parameters from D:\\Thesis Dataset\\IOWA Data\\All_Rest_Recordings_RAW\\All_Rest_Recordings_RAW\\Control1341.vhdr...\n",
      "Setting channel info structure...\n",
      "Reading 0 ... 72549  =      0.000 ...   145.098 secs...\n"
     ]
    },
    {
     "name": "stderr",
     "output_type": "stream",
     "text": [
      "C:\\Users\\shomo\\AppData\\Local\\Temp\\ipykernel_15136\\4022376818.py:11: RuntimeWarning: Online software filter detected. Using software filter settings and ignoring hardware values\n",
      "  raw = mne.io.read_raw_brainvision(file_path, preload=True)\n",
      "C:\\Users\\shomo\\AppData\\Local\\Temp\\ipykernel_15136\\4022376818.py:11: RuntimeWarning: Online software filter detected. Using software filter settings and ignoring hardware values\n",
      "  raw = mne.io.read_raw_brainvision(file_path, preload=True)\n"
     ]
    },
    {
     "name": "stdout",
     "output_type": "stream",
     "text": [
      "Extracting parameters from D:\\Thesis Dataset\\IOWA Data\\All_Rest_Recordings_RAW\\All_Rest_Recordings_RAW\\Control1351.vhdr...\n",
      "Setting channel info structure...\n",
      "Reading 0 ... 67129  =      0.000 ...   134.258 secs...\n",
      "Extracting parameters from D:\\Thesis Dataset\\IOWA Data\\All_Rest_Recordings_RAW\\All_Rest_Recordings_RAW\\Control1361.vhdr...\n",
      "Setting channel info structure...\n",
      "Reading 0 ... 72859  =      0.000 ...   145.718 secs...\n"
     ]
    },
    {
     "name": "stderr",
     "output_type": "stream",
     "text": [
      "C:\\Users\\shomo\\AppData\\Local\\Temp\\ipykernel_15136\\4022376818.py:11: RuntimeWarning: Online software filter detected. Using software filter settings and ignoring hardware values\n",
      "  raw = mne.io.read_raw_brainvision(file_path, preload=True)\n",
      "C:\\Users\\shomo\\AppData\\Local\\Temp\\ipykernel_15136\\4022376818.py:11: RuntimeWarning: Online software filter detected. Using software filter settings and ignoring hardware values\n",
      "  raw = mne.io.read_raw_brainvision(file_path, preload=True)\n"
     ]
    },
    {
     "name": "stdout",
     "output_type": "stream",
     "text": [
      "Extracting parameters from D:\\Thesis Dataset\\IOWA Data\\All_Rest_Recordings_RAW\\All_Rest_Recordings_RAW\\Control1371.vhdr...\n",
      "Setting channel info structure...\n",
      "Reading 0 ... 62959  =      0.000 ...   125.918 secs...\n",
      "Extracting parameters from D:\\Thesis Dataset\\IOWA Data\\All_Rest_Recordings_RAW\\All_Rest_Recordings_RAW\\Control1381.vhdr...\n",
      "Setting channel info structure...\n",
      "Reading 0 ... 72919  =      0.000 ...   145.838 secs...\n"
     ]
    },
    {
     "name": "stderr",
     "output_type": "stream",
     "text": [
      "C:\\Users\\shomo\\AppData\\Local\\Temp\\ipykernel_15136\\4022376818.py:11: RuntimeWarning: Online software filter detected. Using software filter settings and ignoring hardware values\n",
      "  raw = mne.io.read_raw_brainvision(file_path, preload=True)\n",
      "C:\\Users\\shomo\\AppData\\Local\\Temp\\ipykernel_15136\\4022376818.py:11: RuntimeWarning: Online software filter detected. Using software filter settings and ignoring hardware values\n",
      "  raw = mne.io.read_raw_brainvision(file_path, preload=True)\n"
     ]
    },
    {
     "name": "stdout",
     "output_type": "stream",
     "text": [
      "Extracting parameters from D:\\Thesis Dataset\\IOWA Data\\All_Rest_Recordings_RAW\\All_Rest_Recordings_RAW\\Control1391.vhdr...\n",
      "Setting channel info structure...\n",
      "Reading 0 ... 92039  =      0.000 ...   184.078 secs...\n",
      "Extracting parameters from D:\\Thesis Dataset\\IOWA Data\\All_Rest_Recordings_RAW\\All_Rest_Recordings_RAW\\Control1401.vhdr...\n",
      "Setting channel info structure...\n",
      "Reading 0 ... 61659  =      0.000 ...   123.318 secs...\n"
     ]
    },
    {
     "name": "stderr",
     "output_type": "stream",
     "text": [
      "C:\\Users\\shomo\\AppData\\Local\\Temp\\ipykernel_15136\\4022376818.py:11: RuntimeWarning: Online software filter detected. Using software filter settings and ignoring hardware values\n",
      "  raw = mne.io.read_raw_brainvision(file_path, preload=True)\n",
      "C:\\Users\\shomo\\AppData\\Local\\Temp\\ipykernel_15136\\4022376818.py:11: RuntimeWarning: Online software filter detected. Using software filter settings and ignoring hardware values\n",
      "  raw = mne.io.read_raw_brainvision(file_path, preload=True)\n",
      "C:\\Users\\shomo\\AppData\\Local\\Temp\\ipykernel_15136\\4022376818.py:11: RuntimeWarning: Channels contain different highpass filters. Lowest (weakest) filter setting (0.00 Hz) will be stored.\n",
      "  raw = mne.io.read_raw_brainvision(file_path, preload=True)\n"
     ]
    },
    {
     "name": "stdout",
     "output_type": "stream",
     "text": [
      "Extracting parameters from D:\\Thesis Dataset\\IOWA Data\\All_Rest_Recordings_RAW\\All_Rest_Recordings_RAW\\Control1411.vhdr...\n",
      "Setting channel info structure...\n",
      "Reading 0 ... 62499  =      0.000 ...   124.998 secs...\n",
      "Extracting parameters from D:\\Thesis Dataset\\IOWA Data\\All_Rest_Recordings_RAW\\All_Rest_Recordings_RAW\\PD1001.vhdr...\n",
      "Setting channel info structure...\n",
      "Reading 0 ... 140829  =      0.000 ...   281.658 secs...\n"
     ]
    },
    {
     "name": "stderr",
     "output_type": "stream",
     "text": [
      "C:\\Users\\shomo\\AppData\\Local\\Temp\\ipykernel_15136\\4022376818.py:11: RuntimeWarning: Not setting position of 1 misc channel found in montage:\n",
      "['Resp']\n",
      "Consider setting the channel types to be of EEG/sEEG/ECoG/DBS/fNIRS using inst.set_channel_types before calling inst.set_montage, or omit these channels when creating your montage.\n",
      "  raw = mne.io.read_raw_brainvision(file_path, preload=True)\n",
      "C:\\Users\\shomo\\AppData\\Local\\Temp\\ipykernel_15136\\4022376818.py:11: RuntimeWarning: Online software filter detected. Using software filter settings and ignoring hardware values\n",
      "  raw = mne.io.read_raw_brainvision(file_path, preload=True)\n",
      "C:\\Users\\shomo\\AppData\\Local\\Temp\\ipykernel_15136\\4022376818.py:11: RuntimeWarning: Channels contain different highpass filters. Lowest (weakest) filter setting (0.00 Hz) will be stored.\n",
      "  raw = mne.io.read_raw_brainvision(file_path, preload=True)\n",
      "C:\\Users\\shomo\\AppData\\Local\\Temp\\ipykernel_15136\\4022376818.py:11: RuntimeWarning: Not setting position of 1 misc channel found in montage:\n",
      "['Resp']\n",
      "Consider setting the channel types to be of EEG/sEEG/ECoG/DBS/fNIRS using inst.set_channel_types before calling inst.set_montage, or omit these channels when creating your montage.\n",
      "  raw = mne.io.read_raw_brainvision(file_path, preload=True)\n",
      "C:\\Users\\shomo\\AppData\\Local\\Temp\\ipykernel_15136\\4022376818.py:11: RuntimeWarning: Online software filter detected. Using software filter settings and ignoring hardware values\n",
      "  raw = mne.io.read_raw_brainvision(file_path, preload=True)\n"
     ]
    },
    {
     "name": "stdout",
     "output_type": "stream",
     "text": [
      "Extracting parameters from D:\\Thesis Dataset\\IOWA Data\\All_Rest_Recordings_RAW\\All_Rest_Recordings_RAW\\PD1011.vhdr...\n",
      "Setting channel info structure...\n",
      "Reading 0 ... 163019  =      0.000 ...   326.038 secs...\n"
     ]
    },
    {
     "name": "stderr",
     "output_type": "stream",
     "text": [
      "C:\\Users\\shomo\\AppData\\Local\\Temp\\ipykernel_15136\\4022376818.py:11: RuntimeWarning: Online software filter detected. Using software filter settings and ignoring hardware values\n",
      "  raw = mne.io.read_raw_brainvision(file_path, preload=True)\n"
     ]
    },
    {
     "name": "stdout",
     "output_type": "stream",
     "text": [
      "Extracting parameters from D:\\Thesis Dataset\\IOWA Data\\All_Rest_Recordings_RAW\\All_Rest_Recordings_RAW\\PD1021.vhdr...\n",
      "Setting channel info structure...\n",
      "Reading 0 ... 126179  =      0.000 ...   252.358 secs...\n",
      "Extracting parameters from D:\\Thesis Dataset\\IOWA Data\\All_Rest_Recordings_RAW\\All_Rest_Recordings_RAW\\PD1031.vhdr...\n",
      "Setting channel info structure...\n"
     ]
    },
    {
     "name": "stderr",
     "output_type": "stream",
     "text": [
      "C:\\Users\\shomo\\AppData\\Local\\Temp\\ipykernel_15136\\4022376818.py:11: RuntimeWarning: Online software filter detected. Using software filter settings and ignoring hardware values\n",
      "  raw = mne.io.read_raw_brainvision(file_path, preload=True)\n",
      "C:\\Users\\shomo\\AppData\\Local\\Temp\\ipykernel_15136\\4022376818.py:11: RuntimeWarning: Online software filter detected. Using software filter settings and ignoring hardware values\n",
      "  raw = mne.io.read_raw_brainvision(file_path, preload=True)\n"
     ]
    },
    {
     "name": "stdout",
     "output_type": "stream",
     "text": [
      "Reading 0 ... 131979  =      0.000 ...   263.958 secs...\n",
      "Extracting parameters from D:\\Thesis Dataset\\IOWA Data\\All_Rest_Recordings_RAW\\All_Rest_Recordings_RAW\\PD1041.vhdr...\n",
      "Setting channel info structure...\n",
      "Reading 0 ... 124769  =      0.000 ...   249.538 secs...\n",
      "Extracting parameters from D:\\Thesis Dataset\\IOWA Data\\All_Rest_Recordings_RAW\\All_Rest_Recordings_RAW\\PD1051.vhdr...\n",
      "Setting channel info structure...\n"
     ]
    },
    {
     "name": "stderr",
     "output_type": "stream",
     "text": [
      "C:\\Users\\shomo\\AppData\\Local\\Temp\\ipykernel_15136\\4022376818.py:11: RuntimeWarning: Online software filter detected. Using software filter settings and ignoring hardware values\n",
      "  raw = mne.io.read_raw_brainvision(file_path, preload=True)\n",
      "C:\\Users\\shomo\\AppData\\Local\\Temp\\ipykernel_15136\\4022376818.py:11: RuntimeWarning: Online software filter detected. Using software filter settings and ignoring hardware values\n",
      "  raw = mne.io.read_raw_brainvision(file_path, preload=True)\n"
     ]
    },
    {
     "name": "stdout",
     "output_type": "stream",
     "text": [
      "Reading 0 ... 131029  =      0.000 ...   262.058 secs...\n",
      "Extracting parameters from D:\\Thesis Dataset\\IOWA Data\\All_Rest_Recordings_RAW\\All_Rest_Recordings_RAW\\PD1061.vhdr...\n",
      "Setting channel info structure...\n",
      "Reading 0 ... 119909  =      0.000 ...   239.818 secs...\n",
      "Extracting parameters from D:\\Thesis Dataset\\IOWA Data\\All_Rest_Recordings_RAW\\All_Rest_Recordings_RAW\\PD1071.vhdr...\n",
      "Setting channel info structure...\n"
     ]
    },
    {
     "name": "stderr",
     "output_type": "stream",
     "text": [
      "C:\\Users\\shomo\\AppData\\Local\\Temp\\ipykernel_15136\\4022376818.py:11: RuntimeWarning: Online software filter detected. Using software filter settings and ignoring hardware values\n",
      "  raw = mne.io.read_raw_brainvision(file_path, preload=True)\n",
      "C:\\Users\\shomo\\AppData\\Local\\Temp\\ipykernel_15136\\4022376818.py:11: RuntimeWarning: Online software filter detected. Using software filter settings and ignoring hardware values\n",
      "  raw = mne.io.read_raw_brainvision(file_path, preload=True)\n"
     ]
    },
    {
     "name": "stdout",
     "output_type": "stream",
     "text": [
      "Reading 0 ... 117239  =      0.000 ...   234.478 secs...\n",
      "Extracting parameters from D:\\Thesis Dataset\\IOWA Data\\All_Rest_Recordings_RAW\\All_Rest_Recordings_RAW\\PD1081.vhdr...\n",
      "Setting channel info structure...\n",
      "Reading 0 ... 124079  =      0.000 ...   248.158 secs...\n",
      "Extracting parameters from D:\\Thesis Dataset\\IOWA Data\\All_Rest_Recordings_RAW\\All_Rest_Recordings_RAW\\PD1091.vhdr...\n",
      "Setting channel info structure...\n"
     ]
    },
    {
     "name": "stderr",
     "output_type": "stream",
     "text": [
      "C:\\Users\\shomo\\AppData\\Local\\Temp\\ipykernel_15136\\4022376818.py:11: RuntimeWarning: Online software filter detected. Using software filter settings and ignoring hardware values\n",
      "  raw = mne.io.read_raw_brainvision(file_path, preload=True)\n",
      "C:\\Users\\shomo\\AppData\\Local\\Temp\\ipykernel_15136\\4022376818.py:11: RuntimeWarning: Online software filter detected. Using software filter settings and ignoring hardware values\n",
      "  raw = mne.io.read_raw_brainvision(file_path, preload=True)\n"
     ]
    },
    {
     "name": "stdout",
     "output_type": "stream",
     "text": [
      "Reading 0 ... 171349  =      0.000 ...   342.698 secs...\n",
      "Extracting parameters from D:\\Thesis Dataset\\IOWA Data\\All_Rest_Recordings_RAW\\All_Rest_Recordings_RAW\\PD1101.vhdr...\n",
      "Setting channel info structure...\n",
      "Reading 0 ... 78059  =      0.000 ...   156.118 secs...\n",
      "Extracting parameters from D:\\Thesis Dataset\\IOWA Data\\All_Rest_Recordings_RAW\\All_Rest_Recordings_RAW\\PD1111.vhdr...\n",
      "Setting channel info structure...\n",
      "Reading 0 ... 60279  =      0.000 ...   120.558 secs...\n",
      "Extracting parameters from D:\\Thesis Dataset\\IOWA Data\\All_Rest_Recordings_RAW\\All_Rest_Recordings_RAW\\PD1121.vhdr...\n"
     ]
    },
    {
     "name": "stderr",
     "output_type": "stream",
     "text": [
      "C:\\Users\\shomo\\AppData\\Local\\Temp\\ipykernel_15136\\4022376818.py:11: RuntimeWarning: Online software filter detected. Using software filter settings and ignoring hardware values\n",
      "  raw = mne.io.read_raw_brainvision(file_path, preload=True)\n",
      "C:\\Users\\shomo\\AppData\\Local\\Temp\\ipykernel_15136\\4022376818.py:11: RuntimeWarning: Online software filter detected. Using software filter settings and ignoring hardware values\n",
      "  raw = mne.io.read_raw_brainvision(file_path, preload=True)\n"
     ]
    },
    {
     "name": "stdout",
     "output_type": "stream",
     "text": [
      "Setting channel info structure...\n",
      "Reading 0 ... 61529  =      0.000 ...   123.058 secs...\n",
      "Extracting parameters from D:\\Thesis Dataset\\IOWA Data\\All_Rest_Recordings_RAW\\All_Rest_Recordings_RAW\\PD1131.vhdr...\n",
      "Setting channel info structure...\n",
      "Reading 0 ... 62799  =      0.000 ...   125.598 secs...\n",
      "Extracting parameters from D:\\Thesis Dataset\\IOWA Data\\All_Rest_Recordings_RAW\\All_Rest_Recordings_RAW\\PD1141.vhdr...\n"
     ]
    },
    {
     "name": "stderr",
     "output_type": "stream",
     "text": [
      "C:\\Users\\shomo\\AppData\\Local\\Temp\\ipykernel_15136\\4022376818.py:11: RuntimeWarning: Online software filter detected. Using software filter settings and ignoring hardware values\n",
      "  raw = mne.io.read_raw_brainvision(file_path, preload=True)\n",
      "C:\\Users\\shomo\\AppData\\Local\\Temp\\ipykernel_15136\\4022376818.py:11: RuntimeWarning: Online software filter detected. Using software filter settings and ignoring hardware values\n",
      "  raw = mne.io.read_raw_brainvision(file_path, preload=True)\n"
     ]
    },
    {
     "name": "stdout",
     "output_type": "stream",
     "text": [
      "Setting channel info structure...\n",
      "Reading 0 ... 60409  =      0.000 ...   120.818 secs...\n",
      "Extracting parameters from D:\\Thesis Dataset\\IOWA Data\\All_Rest_Recordings_RAW\\All_Rest_Recordings_RAW\\PD1151.vhdr...\n",
      "Setting channel info structure...\n",
      "Reading 0 ... 60829  =      0.000 ...   121.658 secs...\n",
      "Extracting parameters from D:\\Thesis Dataset\\IOWA Data\\All_Rest_Recordings_RAW\\All_Rest_Recordings_RAW\\PD1161.vhdr...\n",
      "Setting channel info structure...\n"
     ]
    },
    {
     "name": "stderr",
     "output_type": "stream",
     "text": [
      "C:\\Users\\shomo\\AppData\\Local\\Temp\\ipykernel_15136\\4022376818.py:11: RuntimeWarning: Online software filter detected. Using software filter settings and ignoring hardware values\n",
      "  raw = mne.io.read_raw_brainvision(file_path, preload=True)\n",
      "C:\\Users\\shomo\\AppData\\Local\\Temp\\ipykernel_15136\\4022376818.py:11: RuntimeWarning: Online software filter detected. Using software filter settings and ignoring hardware values\n",
      "  raw = mne.io.read_raw_brainvision(file_path, preload=True)\n",
      "C:\\Users\\shomo\\AppData\\Local\\Temp\\ipykernel_15136\\4022376818.py:11: RuntimeWarning: Online software filter detected. Using software filter settings and ignoring hardware values\n",
      "  raw = mne.io.read_raw_brainvision(file_path, preload=True)\n"
     ]
    },
    {
     "name": "stdout",
     "output_type": "stream",
     "text": [
      "Reading 0 ... 92609  =      0.000 ...   185.218 secs...\n",
      "Extracting parameters from D:\\Thesis Dataset\\IOWA Data\\All_Rest_Recordings_RAW\\All_Rest_Recordings_RAW\\PD1171.vhdr...\n",
      "Setting channel info structure...\n",
      "Reading 0 ... 75779  =      0.000 ...   151.558 secs...\n",
      "Extracting parameters from D:\\Thesis Dataset\\IOWA Data\\All_Rest_Recordings_RAW\\All_Rest_Recordings_RAW\\PD1181.vhdr...\n",
      "Setting channel info structure...\n",
      "Reading 0 ... 93039  =      0.000 ...   186.078 secs...\n"
     ]
    },
    {
     "name": "stderr",
     "output_type": "stream",
     "text": [
      "C:\\Users\\shomo\\AppData\\Local\\Temp\\ipykernel_15136\\4022376818.py:11: RuntimeWarning: Online software filter detected. Using software filter settings and ignoring hardware values\n",
      "  raw = mne.io.read_raw_brainvision(file_path, preload=True)\n",
      "C:\\Users\\shomo\\AppData\\Local\\Temp\\ipykernel_15136\\4022376818.py:11: RuntimeWarning: Online software filter detected. Using software filter settings and ignoring hardware values\n",
      "  raw = mne.io.read_raw_brainvision(file_path, preload=True)\n"
     ]
    },
    {
     "name": "stdout",
     "output_type": "stream",
     "text": [
      "Extracting parameters from D:\\Thesis Dataset\\IOWA Data\\All_Rest_Recordings_RAW\\All_Rest_Recordings_RAW\\PD1191.vhdr...\n",
      "Setting channel info structure...\n",
      "Reading 0 ... 90589  =      0.000 ...   181.178 secs...\n",
      "Extracting parameters from D:\\Thesis Dataset\\IOWA Data\\All_Rest_Recordings_RAW\\All_Rest_Recordings_RAW\\PD1201.vhdr...\n",
      "Setting channel info structure...\n",
      "Reading 0 ... 79669  =      0.000 ...   159.338 secs...\n"
     ]
    },
    {
     "name": "stderr",
     "output_type": "stream",
     "text": [
      "C:\\Users\\shomo\\AppData\\Local\\Temp\\ipykernel_15136\\4022376818.py:11: RuntimeWarning: Online software filter detected. Using software filter settings and ignoring hardware values\n",
      "  raw = mne.io.read_raw_brainvision(file_path, preload=True)\n",
      "C:\\Users\\shomo\\AppData\\Local\\Temp\\ipykernel_15136\\4022376818.py:11: RuntimeWarning: Online software filter detected. Using software filter settings and ignoring hardware values\n",
      "  raw = mne.io.read_raw_brainvision(file_path, preload=True)\n"
     ]
    },
    {
     "name": "stdout",
     "output_type": "stream",
     "text": [
      "Extracting parameters from D:\\Thesis Dataset\\IOWA Data\\All_Rest_Recordings_RAW\\All_Rest_Recordings_RAW\\PD1211.vhdr...\n",
      "Setting channel info structure...\n",
      "Reading 0 ... 76869  =      0.000 ...   153.738 secs...\n",
      "Extracting parameters from D:\\Thesis Dataset\\IOWA Data\\All_Rest_Recordings_RAW\\All_Rest_Recordings_RAW\\PD1221.vhdr...\n",
      "Setting channel info structure...\n",
      "Reading 0 ... 84549  =      0.000 ...   169.098 secs...\n"
     ]
    },
    {
     "name": "stderr",
     "output_type": "stream",
     "text": [
      "C:\\Users\\shomo\\AppData\\Local\\Temp\\ipykernel_15136\\4022376818.py:11: RuntimeWarning: Online software filter detected. Using software filter settings and ignoring hardware values\n",
      "  raw = mne.io.read_raw_brainvision(file_path, preload=True)\n",
      "C:\\Users\\shomo\\AppData\\Local\\Temp\\ipykernel_15136\\4022376818.py:11: RuntimeWarning: Online software filter detected. Using software filter settings and ignoring hardware values\n",
      "  raw = mne.io.read_raw_brainvision(file_path, preload=True)\n"
     ]
    },
    {
     "name": "stdout",
     "output_type": "stream",
     "text": [
      "Extracting parameters from D:\\Thesis Dataset\\IOWA Data\\All_Rest_Recordings_RAW\\All_Rest_Recordings_RAW\\PD1231.vhdr...\n",
      "Setting channel info structure...\n",
      "Reading 0 ... 75649  =      0.000 ...   151.298 secs...\n",
      "Extracting parameters from D:\\Thesis Dataset\\IOWA Data\\All_Rest_Recordings_RAW\\All_Rest_Recordings_RAW\\PD1241.vhdr...\n",
      "Setting channel info structure...\n",
      "Reading 0 ... 81949  =      0.000 ...   163.898 secs...\n",
      "Extracting parameters from D:\\Thesis Dataset\\IOWA Data\\All_Rest_Recordings_RAW\\All_Rest_Recordings_RAW\\PD1251.vhdr...\n"
     ]
    },
    {
     "name": "stderr",
     "output_type": "stream",
     "text": [
      "C:\\Users\\shomo\\AppData\\Local\\Temp\\ipykernel_15136\\4022376818.py:11: RuntimeWarning: Online software filter detected. Using software filter settings and ignoring hardware values\n",
      "  raw = mne.io.read_raw_brainvision(file_path, preload=True)\n",
      "C:\\Users\\shomo\\AppData\\Local\\Temp\\ipykernel_15136\\4022376818.py:11: RuntimeWarning: Online software filter detected. Using software filter settings and ignoring hardware values\n",
      "  raw = mne.io.read_raw_brainvision(file_path, preload=True)\n"
     ]
    },
    {
     "name": "stdout",
     "output_type": "stream",
     "text": [
      "Setting channel info structure...\n",
      "Reading 0 ... 71409  =      0.000 ...   142.818 secs...\n",
      "Extracting parameters from D:\\Thesis Dataset\\IOWA Data\\All_Rest_Recordings_RAW\\All_Rest_Recordings_RAW\\PD1261.vhdr...\n",
      "Setting channel info structure...\n",
      "Reading 0 ... 60599  =      0.000 ...   121.198 secs...\n",
      "Extracting parameters from D:\\Thesis Dataset\\IOWA Data\\All_Rest_Recordings_RAW\\All_Rest_Recordings_RAW\\PD1271.vhdr...\n",
      "Setting channel info structure...\n"
     ]
    },
    {
     "name": "stderr",
     "output_type": "stream",
     "text": [
      "C:\\Users\\shomo\\AppData\\Local\\Temp\\ipykernel_15136\\4022376818.py:11: RuntimeWarning: Online software filter detected. Using software filter settings and ignoring hardware values\n",
      "  raw = mne.io.read_raw_brainvision(file_path, preload=True)\n",
      "C:\\Users\\shomo\\AppData\\Local\\Temp\\ipykernel_15136\\4022376818.py:11: RuntimeWarning: Online software filter detected. Using software filter settings and ignoring hardware values\n",
      "  raw = mne.io.read_raw_brainvision(file_path, preload=True)\n",
      "C:\\Users\\shomo\\AppData\\Local\\Temp\\ipykernel_15136\\4022376818.py:11: RuntimeWarning: Online software filter detected. Using software filter settings and ignoring hardware values\n",
      "  raw = mne.io.read_raw_brainvision(file_path, preload=True)\n"
     ]
    },
    {
     "name": "stdout",
     "output_type": "stream",
     "text": [
      "Reading 0 ... 77299  =      0.000 ...   154.598 secs...\n",
      "Extracting parameters from D:\\Thesis Dataset\\IOWA Data\\All_Rest_Recordings_RAW\\All_Rest_Recordings_RAW\\PD1281.vhdr...\n",
      "Setting channel info structure...\n",
      "Reading 0 ... 101669  =      0.000 ...   203.338 secs...\n",
      "Extracting parameters from D:\\Thesis Dataset\\IOWA Data\\All_Rest_Recordings_RAW\\All_Rest_Recordings_RAW\\PD1291.vhdr...\n",
      "Setting channel info structure...\n",
      "Reading 0 ... 88069  =      0.000 ...   176.138 secs...\n"
     ]
    },
    {
     "name": "stderr",
     "output_type": "stream",
     "text": [
      "C:\\Users\\shomo\\AppData\\Local\\Temp\\ipykernel_15136\\4022376818.py:11: RuntimeWarning: Online software filter detected. Using software filter settings and ignoring hardware values\n",
      "  raw = mne.io.read_raw_brainvision(file_path, preload=True)\n",
      "C:\\Users\\shomo\\AppData\\Local\\Temp\\ipykernel_15136\\4022376818.py:11: RuntimeWarning: Online software filter detected. Using software filter settings and ignoring hardware values\n",
      "  raw = mne.io.read_raw_brainvision(file_path, preload=True)\n"
     ]
    },
    {
     "name": "stdout",
     "output_type": "stream",
     "text": [
      "Extracting parameters from D:\\Thesis Dataset\\IOWA Data\\All_Rest_Recordings_RAW\\All_Rest_Recordings_RAW\\PD1301.vhdr...\n",
      "Setting channel info structure...\n",
      "Reading 0 ... 90669  =      0.000 ...   181.338 secs...\n",
      "Extracting parameters from D:\\Thesis Dataset\\IOWA Data\\All_Rest_Recordings_RAW\\All_Rest_Recordings_RAW\\PD1311.vhdr...\n",
      "Setting channel info structure...\n",
      "Reading 0 ... 75799  =      0.000 ...   151.598 secs...\n"
     ]
    },
    {
     "name": "stderr",
     "output_type": "stream",
     "text": [
      "C:\\Users\\shomo\\AppData\\Local\\Temp\\ipykernel_15136\\4022376818.py:11: RuntimeWarning: Online software filter detected. Using software filter settings and ignoring hardware values\n",
      "  raw = mne.io.read_raw_brainvision(file_path, preload=True)\n",
      "C:\\Users\\shomo\\AppData\\Local\\Temp\\ipykernel_15136\\4022376818.py:11: RuntimeWarning: Online software filter detected. Using software filter settings and ignoring hardware values\n",
      "  raw = mne.io.read_raw_brainvision(file_path, preload=True)\n"
     ]
    },
    {
     "name": "stdout",
     "output_type": "stream",
     "text": [
      "Extracting parameters from D:\\Thesis Dataset\\IOWA Data\\All_Rest_Recordings_RAW\\All_Rest_Recordings_RAW\\PD1321.vhdr...\n",
      "Setting channel info structure...\n",
      "Reading 0 ... 65679  =      0.000 ...   131.358 secs...\n",
      "Extracting parameters from D:\\Thesis Dataset\\IOWA Data\\All_Rest_Recordings_RAW\\All_Rest_Recordings_RAW\\PD1331.vhdr...\n",
      "Setting channel info structure...\n",
      "Reading 0 ... 87449  =      0.000 ...   174.898 secs...\n"
     ]
    },
    {
     "name": "stderr",
     "output_type": "stream",
     "text": [
      "C:\\Users\\shomo\\AppData\\Local\\Temp\\ipykernel_15136\\4022376818.py:11: RuntimeWarning: Online software filter detected. Using software filter settings and ignoring hardware values\n",
      "  raw = mne.io.read_raw_brainvision(file_path, preload=True)\n",
      "C:\\Users\\shomo\\AppData\\Local\\Temp\\ipykernel_15136\\4022376818.py:11: RuntimeWarning: Online software filter detected. Using software filter settings and ignoring hardware values\n",
      "  raw = mne.io.read_raw_brainvision(file_path, preload=True)\n"
     ]
    },
    {
     "name": "stdout",
     "output_type": "stream",
     "text": [
      "Extracting parameters from D:\\Thesis Dataset\\IOWA Data\\All_Rest_Recordings_RAW\\All_Rest_Recordings_RAW\\PD1341.vhdr...\n",
      "Setting channel info structure...\n",
      "Reading 0 ... 101219  =      0.000 ...   202.438 secs...\n",
      "Extracting parameters from D:\\Thesis Dataset\\IOWA Data\\All_Rest_Recordings_RAW\\All_Rest_Recordings_RAW\\PD1351.vhdr...\n",
      "Setting channel info structure...\n",
      "Reading 0 ... 60859  =      0.000 ...   121.718 secs...\n"
     ]
    },
    {
     "name": "stderr",
     "output_type": "stream",
     "text": [
      "C:\\Users\\shomo\\AppData\\Local\\Temp\\ipykernel_15136\\4022376818.py:11: RuntimeWarning: Online software filter detected. Using software filter settings and ignoring hardware values\n",
      "  raw = mne.io.read_raw_brainvision(file_path, preload=True)\n",
      "C:\\Users\\shomo\\AppData\\Local\\Temp\\ipykernel_15136\\4022376818.py:11: RuntimeWarning: Online software filter detected. Using software filter settings and ignoring hardware values\n",
      "  raw = mne.io.read_raw_brainvision(file_path, preload=True)\n"
     ]
    },
    {
     "name": "stdout",
     "output_type": "stream",
     "text": [
      "Extracting parameters from D:\\Thesis Dataset\\IOWA Data\\All_Rest_Recordings_RAW\\All_Rest_Recordings_RAW\\PD1361.vhdr...\n",
      "Setting channel info structure...\n",
      "Reading 0 ... 64879  =      0.000 ...   129.758 secs...\n",
      "Extracting parameters from D:\\Thesis Dataset\\IOWA Data\\All_Rest_Recordings_RAW\\All_Rest_Recordings_RAW\\PD1371.vhdr...\n",
      "Setting channel info structure...\n",
      "Reading 0 ... 68019  =      0.000 ...   136.038 secs...\n"
     ]
    },
    {
     "name": "stderr",
     "output_type": "stream",
     "text": [
      "C:\\Users\\shomo\\AppData\\Local\\Temp\\ipykernel_15136\\4022376818.py:11: RuntimeWarning: Online software filter detected. Using software filter settings and ignoring hardware values\n",
      "  raw = mne.io.read_raw_brainvision(file_path, preload=True)\n",
      "C:\\Users\\shomo\\AppData\\Local\\Temp\\ipykernel_15136\\4022376818.py:11: RuntimeWarning: Online software filter detected. Using software filter settings and ignoring hardware values\n",
      "  raw = mne.io.read_raw_brainvision(file_path, preload=True)\n"
     ]
    },
    {
     "name": "stdout",
     "output_type": "stream",
     "text": [
      "Extracting parameters from D:\\Thesis Dataset\\IOWA Data\\All_Rest_Recordings_RAW\\All_Rest_Recordings_RAW\\PD1381.vhdr...\n",
      "Setting channel info structure...\n",
      "Reading 0 ... 82659  =      0.000 ...   165.318 secs...\n",
      "Extracting parameters from D:\\Thesis Dataset\\IOWA Data\\All_Rest_Recordings_RAW\\All_Rest_Recordings_RAW\\PD1391.vhdr...\n",
      "Setting channel info structure...\n",
      "Reading 0 ... 68659  =      0.000 ...   137.318 secs...\n"
     ]
    },
    {
     "name": "stderr",
     "output_type": "stream",
     "text": [
      "C:\\Users\\shomo\\AppData\\Local\\Temp\\ipykernel_15136\\4022376818.py:11: RuntimeWarning: Online software filter detected. Using software filter settings and ignoring hardware values\n",
      "  raw = mne.io.read_raw_brainvision(file_path, preload=True)\n",
      "C:\\Users\\shomo\\AppData\\Local\\Temp\\ipykernel_15136\\4022376818.py:11: RuntimeWarning: Online software filter detected. Using software filter settings and ignoring hardware values\n",
      "  raw = mne.io.read_raw_brainvision(file_path, preload=True)\n"
     ]
    },
    {
     "name": "stdout",
     "output_type": "stream",
     "text": [
      "Extracting parameters from D:\\Thesis Dataset\\IOWA Data\\All_Rest_Recordings_RAW\\All_Rest_Recordings_RAW\\PD1401.vhdr...\n",
      "Setting channel info structure...\n",
      "Reading 0 ... 75279  =      0.000 ...   150.558 secs...\n",
      "Extracting parameters from D:\\Thesis Dataset\\IOWA Data\\All_Rest_Recordings_RAW\\All_Rest_Recordings_RAW\\PD1411.vhdr...\n",
      "Setting channel info structure...\n",
      "Reading 0 ... 73329  =      0.000 ...   146.658 secs...\n"
     ]
    },
    {
     "name": "stderr",
     "output_type": "stream",
     "text": [
      "C:\\Users\\shomo\\AppData\\Local\\Temp\\ipykernel_15136\\4022376818.py:11: RuntimeWarning: Online software filter detected. Using software filter settings and ignoring hardware values\n",
      "  raw = mne.io.read_raw_brainvision(file_path, preload=True)\n",
      "C:\\Users\\shomo\\AppData\\Local\\Temp\\ipykernel_15136\\4022376818.py:11: RuntimeWarning: Online software filter detected. Using software filter settings and ignoring hardware values\n",
      "  raw = mne.io.read_raw_brainvision(file_path, preload=True)\n"
     ]
    },
    {
     "name": "stdout",
     "output_type": "stream",
     "text": [
      "Extracting parameters from D:\\Thesis Dataset\\IOWA Data\\All_Rest_Recordings_RAW\\All_Rest_Recordings_RAW\\PD1421.vhdr...\n",
      "Setting channel info structure...\n",
      "Reading 0 ... 65629  =      0.000 ...   131.258 secs...\n",
      "Extracting parameters from D:\\Thesis Dataset\\IOWA Data\\All_Rest_Recordings_RAW\\All_Rest_Recordings_RAW\\PD1431.vhdr...\n",
      "Setting channel info structure...\n",
      "Reading 0 ... 69749  =      0.000 ...   139.498 secs...\n",
      "Extracting parameters from D:\\Thesis Dataset\\IOWA Data\\All_Rest_Recordings_RAW\\All_Rest_Recordings_RAW\\PD1441.vhdr...\n"
     ]
    },
    {
     "name": "stderr",
     "output_type": "stream",
     "text": [
      "C:\\Users\\shomo\\AppData\\Local\\Temp\\ipykernel_15136\\4022376818.py:11: RuntimeWarning: Online software filter detected. Using software filter settings and ignoring hardware values\n",
      "  raw = mne.io.read_raw_brainvision(file_path, preload=True)\n",
      "C:\\Users\\shomo\\AppData\\Local\\Temp\\ipykernel_15136\\4022376818.py:11: RuntimeWarning: Online software filter detected. Using software filter settings and ignoring hardware values\n",
      "  raw = mne.io.read_raw_brainvision(file_path, preload=True)\n"
     ]
    },
    {
     "name": "stdout",
     "output_type": "stream",
     "text": [
      "Setting channel info structure...\n",
      "Reading 0 ... 72669  =      0.000 ...   145.338 secs...\n",
      "Extracting parameters from D:\\Thesis Dataset\\IOWA Data\\All_Rest_Recordings_RAW\\All_Rest_Recordings_RAW\\PD1451.vhdr...\n",
      "Setting channel info structure...\n",
      "Reading 0 ... 65639  =      0.000 ...   131.278 secs...\n"
     ]
    },
    {
     "name": "stderr",
     "output_type": "stream",
     "text": [
      "C:\\Users\\shomo\\AppData\\Local\\Temp\\ipykernel_15136\\4022376818.py:11: RuntimeWarning: Online software filter detected. Using software filter settings and ignoring hardware values\n",
      "  raw = mne.io.read_raw_brainvision(file_path, preload=True)\n",
      "C:\\Users\\shomo\\AppData\\Local\\Temp\\ipykernel_15136\\4022376818.py:11: RuntimeWarning: Online software filter detected. Using software filter settings and ignoring hardware values\n",
      "  raw = mne.io.read_raw_brainvision(file_path, preload=True)\n"
     ]
    },
    {
     "name": "stdout",
     "output_type": "stream",
     "text": [
      "Extracting parameters from D:\\Thesis Dataset\\IOWA Data\\All_Rest_Recordings_RAW\\All_Rest_Recordings_RAW\\PD1461.vhdr...\n",
      "Setting channel info structure...\n",
      "Reading 0 ... 65469  =      0.000 ...   130.938 secs...\n",
      "Extracting parameters from D:\\Thesis Dataset\\IOWA Data\\All_Rest_Recordings_RAW\\All_Rest_Recordings_RAW\\PD1471.vhdr...\n",
      "Setting channel info structure...\n",
      "Reading 0 ... 119009  =      0.000 ...   238.018 secs...\n"
     ]
    },
    {
     "name": "stderr",
     "output_type": "stream",
     "text": [
      "C:\\Users\\shomo\\AppData\\Local\\Temp\\ipykernel_15136\\4022376818.py:11: RuntimeWarning: Online software filter detected. Using software filter settings and ignoring hardware values\n",
      "  raw = mne.io.read_raw_brainvision(file_path, preload=True)\n",
      "C:\\Users\\shomo\\AppData\\Local\\Temp\\ipykernel_15136\\4022376818.py:11: RuntimeWarning: Online software filter detected. Using software filter settings and ignoring hardware values\n",
      "  raw = mne.io.read_raw_brainvision(file_path, preload=True)\n"
     ]
    },
    {
     "name": "stdout",
     "output_type": "stream",
     "text": [
      "Extracting parameters from D:\\Thesis Dataset\\IOWA Data\\All_Rest_Recordings_RAW\\All_Rest_Recordings_RAW\\PD1481.vhdr...\n",
      "Setting channel info structure...\n",
      "Reading 0 ... 60829  =      0.000 ...   121.658 secs...\n",
      "Extracting parameters from D:\\Thesis Dataset\\IOWA Data\\All_Rest_Recordings_RAW\\All_Rest_Recordings_RAW\\PD1491.vhdr...\n",
      "Setting channel info structure...\n",
      "Reading 0 ... 62219  =      0.000 ...   124.438 secs...\n"
     ]
    },
    {
     "name": "stderr",
     "output_type": "stream",
     "text": [
      "C:\\Users\\shomo\\AppData\\Local\\Temp\\ipykernel_15136\\4022376818.py:11: RuntimeWarning: Online software filter detected. Using software filter settings and ignoring hardware values\n",
      "  raw = mne.io.read_raw_brainvision(file_path, preload=True)\n",
      "C:\\Users\\shomo\\AppData\\Local\\Temp\\ipykernel_15136\\4022376818.py:11: RuntimeWarning: Channels contain different highpass filters. Lowest (weakest) filter setting (0.00 Hz) will be stored.\n",
      "  raw = mne.io.read_raw_brainvision(file_path, preload=True)\n",
      "C:\\Users\\shomo\\AppData\\Local\\Temp\\ipykernel_15136\\4022376818.py:11: RuntimeWarning: Not setting position of 1 misc channel found in montage:\n",
      "['Resp']\n",
      "Consider setting the channel types to be of EEG/sEEG/ECoG/DBS/fNIRS using inst.set_channel_types before calling inst.set_montage, or omit these channels when creating your montage.\n",
      "  raw = mne.io.read_raw_brainvision(file_path, preload=True)\n",
      "C:\\Users\\shomo\\AppData\\Local\\Temp\\ipykernel_15136\\4022376818.py:11: RuntimeWarning: Online software filter detected. Using software filter settings and ignoring hardware values\n",
      "  raw = mne.io.read_raw_brainvision(file_path, preload=True)\n",
      "C:\\Users\\shomo\\AppData\\Local\\Temp\\ipykernel_15136\\4022376818.py:11: RuntimeWarning: Channels contain different highpass filters. Lowest (weakest) filter setting (0.00 Hz) will be stored.\n",
      "  raw = mne.io.read_raw_brainvision(file_path, preload=True)\n"
     ]
    },
    {
     "name": "stdout",
     "output_type": "stream",
     "text": [
      "Extracting parameters from D:\\Thesis Dataset\\IOWA Data\\All_Rest_Recordings_RAW\\All_Rest_Recordings_RAW\\PD1501.vhdr...\n",
      "Setting channel info structure...\n",
      "Reading 0 ... 62229  =      0.000 ...   124.458 secs...\n",
      "Extracting parameters from D:\\Thesis Dataset\\IOWA Data\\All_Rest_Recordings_RAW\\All_Rest_Recordings_RAW\\PD1511.vhdr...\n",
      "Setting channel info structure...\n",
      "Reading 0 ... 65469  =      0.000 ...   130.938 secs...\n"
     ]
    },
    {
     "name": "stderr",
     "output_type": "stream",
     "text": [
      "C:\\Users\\shomo\\AppData\\Local\\Temp\\ipykernel_15136\\4022376818.py:11: RuntimeWarning: Not setting position of 1 misc channel found in montage:\n",
      "['Resp']\n",
      "Consider setting the channel types to be of EEG/sEEG/ECoG/DBS/fNIRS using inst.set_channel_types before calling inst.set_montage, or omit these channels when creating your montage.\n",
      "  raw = mne.io.read_raw_brainvision(file_path, preload=True)\n",
      "C:\\Users\\shomo\\AppData\\Local\\Temp\\ipykernel_15136\\4022376818.py:11: RuntimeWarning: Online software filter detected. Using software filter settings and ignoring hardware values\n",
      "  raw = mne.io.read_raw_brainvision(file_path, preload=True)\n",
      "C:\\Users\\shomo\\AppData\\Local\\Temp\\ipykernel_15136\\4022376818.py:11: RuntimeWarning: Online software filter detected. Using software filter settings and ignoring hardware values\n",
      "  raw = mne.io.read_raw_brainvision(file_path, preload=True)\n"
     ]
    },
    {
     "name": "stdout",
     "output_type": "stream",
     "text": [
      "Extracting parameters from D:\\Thesis Dataset\\IOWA Data\\All_Rest_Recordings_RAW\\All_Rest_Recordings_RAW\\PD1521.vhdr...\n",
      "Setting channel info structure...\n",
      "Reading 0 ... 63219  =      0.000 ...   126.438 secs...\n",
      "Extracting parameters from D:\\Thesis Dataset\\IOWA Data\\All_Rest_Recordings_RAW\\All_Rest_Recordings_RAW\\PD1531.vhdr...\n",
      "Setting channel info structure...\n",
      "Reading 0 ... 62499  =      0.000 ...   124.998 secs...\n",
      "Extracting parameters from D:\\Thesis Dataset\\IOWA Data\\All_Rest_Recordings_RAW\\All_Rest_Recordings_RAW\\PD1541.vhdr...\n"
     ]
    },
    {
     "name": "stderr",
     "output_type": "stream",
     "text": [
      "C:\\Users\\shomo\\AppData\\Local\\Temp\\ipykernel_15136\\4022376818.py:11: RuntimeWarning: Online software filter detected. Using software filter settings and ignoring hardware values\n",
      "  raw = mne.io.read_raw_brainvision(file_path, preload=True)\n",
      "C:\\Users\\shomo\\AppData\\Local\\Temp\\ipykernel_15136\\4022376818.py:11: RuntimeWarning: Online software filter detected. Using software filter settings and ignoring hardware values\n",
      "  raw = mne.io.read_raw_brainvision(file_path, preload=True)\n"
     ]
    },
    {
     "name": "stdout",
     "output_type": "stream",
     "text": [
      "Setting channel info structure...\n",
      "Reading 0 ... 62179  =      0.000 ...   124.358 secs...\n",
      "Extracting parameters from D:\\Thesis Dataset\\IOWA Data\\All_Rest_Recordings_RAW\\All_Rest_Recordings_RAW\\PD1551.vhdr...\n",
      "Setting channel info structure...\n",
      "Reading 0 ... 69589  =      0.000 ...   139.178 secs...\n",
      "Extracting parameters from D:\\Thesis Dataset\\IOWA Data\\All_Rest_Recordings_RAW\\All_Rest_Recordings_RAW\\PD1561.vhdr...\n",
      "Setting channel info structure...\n"
     ]
    },
    {
     "name": "stderr",
     "output_type": "stream",
     "text": [
      "C:\\Users\\shomo\\AppData\\Local\\Temp\\ipykernel_15136\\4022376818.py:11: RuntimeWarning: Online software filter detected. Using software filter settings and ignoring hardware values\n",
      "  raw = mne.io.read_raw_brainvision(file_path, preload=True)\n",
      "C:\\Users\\shomo\\AppData\\Local\\Temp\\ipykernel_15136\\4022376818.py:11: RuntimeWarning: Online software filter detected. Using software filter settings and ignoring hardware values\n",
      "  raw = mne.io.read_raw_brainvision(file_path, preload=True)\n",
      "C:\\Users\\shomo\\AppData\\Local\\Temp\\ipykernel_15136\\4022376818.py:11: RuntimeWarning: Online software filter detected. Using software filter settings and ignoring hardware values\n",
      "  raw = mne.io.read_raw_brainvision(file_path, preload=True)\n"
     ]
    },
    {
     "name": "stdout",
     "output_type": "stream",
     "text": [
      "Reading 0 ... 65889  =      0.000 ...   131.778 secs...\n",
      "Extracting parameters from D:\\Thesis Dataset\\IOWA Data\\All_Rest_Recordings_RAW\\All_Rest_Recordings_RAW\\PD1571.vhdr...\n",
      "Setting channel info structure...\n",
      "Reading 0 ... 62559  =      0.000 ...   125.118 secs...\n",
      "Extracting parameters from D:\\Thesis Dataset\\IOWA Data\\All_Rest_Recordings_RAW\\All_Rest_Recordings_RAW\\PD1581.vhdr...\n",
      "Setting channel info structure...\n",
      "Reading 0 ... 67849  =      0.000 ...   135.698 secs...\n",
      "Extracting parameters from D:\\Thesis Dataset\\IOWA Data\\All_Rest_Recordings_RAW\\All_Rest_Recordings_RAW\\PD1591.vhdr...\n"
     ]
    },
    {
     "name": "stderr",
     "output_type": "stream",
     "text": [
      "C:\\Users\\shomo\\AppData\\Local\\Temp\\ipykernel_15136\\4022376818.py:11: RuntimeWarning: Online software filter detected. Using software filter settings and ignoring hardware values\n",
      "  raw = mne.io.read_raw_brainvision(file_path, preload=True)\n",
      "C:\\Users\\shomo\\AppData\\Local\\Temp\\ipykernel_15136\\4022376818.py:11: RuntimeWarning: Online software filter detected. Using software filter settings and ignoring hardware values\n",
      "  raw = mne.io.read_raw_brainvision(file_path, preload=True)\n"
     ]
    },
    {
     "name": "stdout",
     "output_type": "stream",
     "text": [
      "Setting channel info structure...\n",
      "Reading 0 ... 73259  =      0.000 ...   146.518 secs...\n",
      "Extracting parameters from D:\\Thesis Dataset\\IOWA Data\\All_Rest_Recordings_RAW\\All_Rest_Recordings_RAW\\PD1601.vhdr...\n",
      "Setting channel info structure...\n",
      "Reading 0 ... 62499  =      0.000 ...   124.998 secs...\n",
      "Extracting parameters from D:\\Thesis Dataset\\IOWA Data\\All_Rest_Recordings_RAW\\All_Rest_Recordings_RAW\\PD1611.vhdr...\n"
     ]
    },
    {
     "name": "stderr",
     "output_type": "stream",
     "text": [
      "C:\\Users\\shomo\\AppData\\Local\\Temp\\ipykernel_15136\\4022376818.py:11: RuntimeWarning: Online software filter detected. Using software filter settings and ignoring hardware values\n",
      "  raw = mne.io.read_raw_brainvision(file_path, preload=True)\n",
      "C:\\Users\\shomo\\AppData\\Local\\Temp\\ipykernel_15136\\4022376818.py:11: RuntimeWarning: Online software filter detected. Using software filter settings and ignoring hardware values\n",
      "  raw = mne.io.read_raw_brainvision(file_path, preload=True)\n"
     ]
    },
    {
     "name": "stdout",
     "output_type": "stream",
     "text": [
      "Setting channel info structure...\n",
      "Reading 0 ... 62539  =      0.000 ...   125.078 secs...\n",
      "Extracting parameters from D:\\Thesis Dataset\\IOWA Data\\All_Rest_Recordings_RAW\\All_Rest_Recordings_RAW\\PD1621.vhdr...\n",
      "Setting channel info structure...\n",
      "Reading 0 ... 78169  =      0.000 ...   156.338 secs...\n"
     ]
    },
    {
     "name": "stderr",
     "output_type": "stream",
     "text": [
      "C:\\Users\\shomo\\AppData\\Local\\Temp\\ipykernel_15136\\4022376818.py:11: RuntimeWarning: Online software filter detected. Using software filter settings and ignoring hardware values\n",
      "  raw = mne.io.read_raw_brainvision(file_path, preload=True)\n",
      "C:\\Users\\shomo\\AppData\\Local\\Temp\\ipykernel_15136\\4022376818.py:11: RuntimeWarning: Online software filter detected. Using software filter settings and ignoring hardware values\n",
      "  raw = mne.io.read_raw_brainvision(file_path, preload=True)\n"
     ]
    },
    {
     "name": "stdout",
     "output_type": "stream",
     "text": [
      "Extracting parameters from D:\\Thesis Dataset\\IOWA Data\\All_Rest_Recordings_RAW\\All_Rest_Recordings_RAW\\PD1631.vhdr...\n",
      "Setting channel info structure...\n",
      "Reading 0 ... 80809  =      0.000 ...   161.618 secs...\n",
      "Extracting parameters from D:\\Thesis Dataset\\IOWA Data\\All_Rest_Recordings_RAW\\All_Rest_Recordings_RAW\\PD1641.vhdr...\n",
      "Setting channel info structure...\n",
      "Reading 0 ... 61929  =      0.000 ...   123.858 secs...\n"
     ]
    },
    {
     "name": "stderr",
     "output_type": "stream",
     "text": [
      "C:\\Users\\shomo\\AppData\\Local\\Temp\\ipykernel_15136\\4022376818.py:11: RuntimeWarning: Online software filter detected. Using software filter settings and ignoring hardware values\n",
      "  raw = mne.io.read_raw_brainvision(file_path, preload=True)\n",
      "C:\\Users\\shomo\\AppData\\Local\\Temp\\ipykernel_15136\\4022376818.py:11: RuntimeWarning: Online software filter detected. Using software filter settings and ignoring hardware values\n",
      "  raw = mne.io.read_raw_brainvision(file_path, preload=True)\n",
      "C:\\Users\\shomo\\AppData\\Local\\Temp\\ipykernel_15136\\4022376818.py:11: RuntimeWarning: Channels contain different highpass filters. Lowest (weakest) filter setting (0.00 Hz) will be stored.\n",
      "  raw = mne.io.read_raw_brainvision(file_path, preload=True)\n"
     ]
    },
    {
     "name": "stdout",
     "output_type": "stream",
     "text": [
      "Extracting parameters from D:\\Thesis Dataset\\IOWA Data\\All_Rest_Recordings_RAW\\All_Rest_Recordings_RAW\\PD1651.vhdr...\n",
      "Setting channel info structure...\n",
      "Reading 0 ... 69309  =      0.000 ...   138.618 secs...\n",
      "Extracting parameters from D:\\Thesis Dataset\\IOWA Data\\All_Rest_Recordings_RAW\\All_Rest_Recordings_RAW\\PD1661.vhdr...\n",
      "Setting channel info structure...\n",
      "Reading 0 ... 64349  =      0.000 ...   128.698 secs...\n"
     ]
    },
    {
     "name": "stderr",
     "output_type": "stream",
     "text": [
      "C:\\Users\\shomo\\AppData\\Local\\Temp\\ipykernel_15136\\4022376818.py:11: RuntimeWarning: Not setting position of 1 misc channel found in montage:\n",
      "['Resp']\n",
      "Consider setting the channel types to be of EEG/sEEG/ECoG/DBS/fNIRS using inst.set_channel_types before calling inst.set_montage, or omit these channels when creating your montage.\n",
      "  raw = mne.io.read_raw_brainvision(file_path, preload=True)\n",
      "C:\\Users\\shomo\\AppData\\Local\\Temp\\ipykernel_15136\\4022376818.py:11: RuntimeWarning: Online software filter detected. Using software filter settings and ignoring hardware values\n",
      "  raw = mne.io.read_raw_brainvision(file_path, preload=True)\n",
      "C:\\Users\\shomo\\AppData\\Local\\Temp\\ipykernel_15136\\4022376818.py:11: RuntimeWarning: Channels contain different highpass filters. Lowest (weakest) filter setting (0.00 Hz) will be stored.\n",
      "  raw = mne.io.read_raw_brainvision(file_path, preload=True)\n",
      "C:\\Users\\shomo\\AppData\\Local\\Temp\\ipykernel_15136\\4022376818.py:11: RuntimeWarning: Not setting position of 1 misc channel found in montage:\n",
      "['Resp']\n",
      "Consider setting the channel types to be of EEG/sEEG/ECoG/DBS/fNIRS using inst.set_channel_types before calling inst.set_montage, or omit these channels when creating your montage.\n",
      "  raw = mne.io.read_raw_brainvision(file_path, preload=True)\n",
      "C:\\Users\\shomo\\AppData\\Local\\Temp\\ipykernel_15136\\4022376818.py:11: RuntimeWarning: Online software filter detected. Using software filter settings and ignoring hardware values\n",
      "  raw = mne.io.read_raw_brainvision(file_path, preload=True)\n"
     ]
    },
    {
     "name": "stdout",
     "output_type": "stream",
     "text": [
      "Extracting parameters from D:\\Thesis Dataset\\IOWA Data\\All_Rest_Recordings_RAW\\All_Rest_Recordings_RAW\\PD1671.vhdr...\n",
      "Setting channel info structure...\n",
      "Reading 0 ... 60849  =      0.000 ...   121.698 secs...\n",
      "Extracting parameters from D:\\Thesis Dataset\\IOWA Data\\All_Rest_Recordings_RAW\\All_Rest_Recordings_RAW\\PD1681.vhdr...\n",
      "Setting channel info structure...\n",
      "Reading 0 ... 63259  =      0.000 ...   126.518 secs...\n"
     ]
    },
    {
     "name": "stderr",
     "output_type": "stream",
     "text": [
      "C:\\Users\\shomo\\AppData\\Local\\Temp\\ipykernel_15136\\4022376818.py:11: RuntimeWarning: Online software filter detected. Using software filter settings and ignoring hardware values\n",
      "  raw = mne.io.read_raw_brainvision(file_path, preload=True)\n",
      "C:\\Users\\shomo\\AppData\\Local\\Temp\\ipykernel_15136\\4022376818.py:11: RuntimeWarning: Channels contain different highpass filters. Lowest (weakest) filter setting (0.00 Hz) will be stored.\n",
      "  raw = mne.io.read_raw_brainvision(file_path, preload=True)\n",
      "C:\\Users\\shomo\\AppData\\Local\\Temp\\ipykernel_15136\\4022376818.py:11: RuntimeWarning: Not setting positions of 3 misc channels found in montage:\n",
      "['X', 'Y', 'Z']\n",
      "Consider setting the channel types to be of EEG/sEEG/ECoG/DBS/fNIRS using inst.set_channel_types before calling inst.set_montage, or omit these channels when creating your montage.\n",
      "  raw = mne.io.read_raw_brainvision(file_path, preload=True)\n",
      "C:\\Users\\shomo\\AppData\\Local\\Temp\\ipykernel_15136\\4022376818.py:11: RuntimeWarning: Online software filter detected. Using software filter settings and ignoring hardware values\n",
      "  raw = mne.io.read_raw_brainvision(file_path, preload=True)\n",
      "C:\\Users\\shomo\\AppData\\Local\\Temp\\ipykernel_15136\\4022376818.py:11: RuntimeWarning: Channels contain different highpass filters. Lowest (weakest) filter setting (0.00 Hz) will be stored.\n",
      "  raw = mne.io.read_raw_brainvision(file_path, preload=True)\n"
     ]
    },
    {
     "name": "stdout",
     "output_type": "stream",
     "text": [
      "Extracting parameters from D:\\Thesis Dataset\\IOWA Data\\All_Rest_Recordings_RAW\\All_Rest_Recordings_RAW\\PD1691.vhdr...\n",
      "Setting channel info structure...\n",
      "Reading 0 ... 60689  =      0.000 ...   121.378 secs...\n",
      "Extracting parameters from D:\\Thesis Dataset\\IOWA Data\\All_Rest_Recordings_RAW\\All_Rest_Recordings_RAW\\PD1701.vhdr...\n",
      "Setting channel info structure...\n",
      "Reading 0 ... 68129  =      0.000 ...   136.258 secs...\n",
      "Extracting parameters from D:\\Thesis Dataset\\IOWA Data\\All_Rest_Recordings_RAW\\All_Rest_Recordings_RAW\\PD1711.vhdr...\n"
     ]
    },
    {
     "name": "stderr",
     "output_type": "stream",
     "text": [
      "C:\\Users\\shomo\\AppData\\Local\\Temp\\ipykernel_15136\\4022376818.py:11: RuntimeWarning: Not setting position of 1 misc channel found in montage:\n",
      "['Resp']\n",
      "Consider setting the channel types to be of EEG/sEEG/ECoG/DBS/fNIRS using inst.set_channel_types before calling inst.set_montage, or omit these channels when creating your montage.\n",
      "  raw = mne.io.read_raw_brainvision(file_path, preload=True)\n",
      "C:\\Users\\shomo\\AppData\\Local\\Temp\\ipykernel_15136\\4022376818.py:11: RuntimeWarning: Online software filter detected. Using software filter settings and ignoring hardware values\n",
      "  raw = mne.io.read_raw_brainvision(file_path, preload=True)\n",
      "C:\\Users\\shomo\\AppData\\Local\\Temp\\ipykernel_15136\\4022376818.py:11: RuntimeWarning: Online software filter detected. Using software filter settings and ignoring hardware values\n",
      "  raw = mne.io.read_raw_brainvision(file_path, preload=True)\n"
     ]
    },
    {
     "name": "stdout",
     "output_type": "stream",
     "text": [
      "Setting channel info structure...\n",
      "Reading 0 ... 75769  =      0.000 ...   151.538 secs...\n",
      "Extracting parameters from D:\\Thesis Dataset\\IOWA Data\\All_Rest_Recordings_RAW\\All_Rest_Recordings_RAW\\PD1721.vhdr...\n",
      "Setting channel info structure...\n",
      "Reading 0 ... 66689  =      0.000 ...   133.378 secs...\n"
     ]
    },
    {
     "name": "stderr",
     "output_type": "stream",
     "text": [
      "C:\\Users\\shomo\\AppData\\Local\\Temp\\ipykernel_15136\\4022376818.py:11: RuntimeWarning: Online software filter detected. Using software filter settings and ignoring hardware values\n",
      "  raw = mne.io.read_raw_brainvision(file_path, preload=True)\n",
      "C:\\Users\\shomo\\AppData\\Local\\Temp\\ipykernel_15136\\4022376818.py:11: RuntimeWarning: Online software filter detected. Using software filter settings and ignoring hardware values\n",
      "  raw = mne.io.read_raw_brainvision(file_path, preload=True)\n"
     ]
    },
    {
     "name": "stdout",
     "output_type": "stream",
     "text": [
      "Extracting parameters from D:\\Thesis Dataset\\IOWA Data\\All_Rest_Recordings_RAW\\All_Rest_Recordings_RAW\\PD1731.vhdr...\n",
      "Setting channel info structure...\n",
      "Reading 0 ... 69949  =      0.000 ...   139.898 secs...\n",
      "Extracting parameters from D:\\Thesis Dataset\\IOWA Data\\All_Rest_Recordings_RAW\\All_Rest_Recordings_RAW\\PD1741.vhdr...\n",
      "Setting channel info structure...\n",
      "Reading 0 ... 65809  =      0.000 ...   131.618 secs...\n",
      "Extracting parameters from D:\\Thesis Dataset\\IOWA Data\\All_Rest_Recordings_RAW\\All_Rest_Recordings_RAW\\PD1751.vhdr...\n",
      "Setting channel info structure...\n"
     ]
    },
    {
     "name": "stderr",
     "output_type": "stream",
     "text": [
      "C:\\Users\\shomo\\AppData\\Local\\Temp\\ipykernel_15136\\4022376818.py:11: RuntimeWarning: Online software filter detected. Using software filter settings and ignoring hardware values\n",
      "  raw = mne.io.read_raw_brainvision(file_path, preload=True)\n",
      "C:\\Users\\shomo\\AppData\\Local\\Temp\\ipykernel_15136\\4022376818.py:11: RuntimeWarning: Online software filter detected. Using software filter settings and ignoring hardware values\n",
      "  raw = mne.io.read_raw_brainvision(file_path, preload=True)\n",
      "C:\\Users\\shomo\\AppData\\Local\\Temp\\ipykernel_15136\\4022376818.py:11: RuntimeWarning: Online software filter detected. Using software filter settings and ignoring hardware values\n",
      "  raw = mne.io.read_raw_brainvision(file_path, preload=True)\n"
     ]
    },
    {
     "name": "stdout",
     "output_type": "stream",
     "text": [
      "Reading 0 ... 66049  =      0.000 ...   132.098 secs...\n",
      "Extracting parameters from D:\\Thesis Dataset\\IOWA Data\\All_Rest_Recordings_RAW\\All_Rest_Recordings_RAW\\PD1761.vhdr...\n",
      "Setting channel info structure...\n",
      "Reading 0 ... 81119  =      0.000 ...   162.238 secs...\n",
      "Extracting parameters from D:\\Thesis Dataset\\IOWA Data\\All_Rest_Recordings_RAW\\All_Rest_Recordings_RAW\\PD1771.vhdr...\n",
      "Setting channel info structure...\n",
      "Reading 0 ... 72929  =      0.000 ...   145.858 secs...\n"
     ]
    },
    {
     "name": "stderr",
     "output_type": "stream",
     "text": [
      "C:\\Users\\shomo\\AppData\\Local\\Temp\\ipykernel_15136\\4022376818.py:11: RuntimeWarning: Online software filter detected. Using software filter settings and ignoring hardware values\n",
      "  raw = mne.io.read_raw_brainvision(file_path, preload=True)\n",
      "C:\\Users\\shomo\\AppData\\Local\\Temp\\ipykernel_15136\\4022376818.py:11: RuntimeWarning: Channels contain different highpass filters. Lowest (weakest) filter setting (0.00 Hz) will be stored.\n",
      "  raw = mne.io.read_raw_brainvision(file_path, preload=True)\n",
      "C:\\Users\\shomo\\AppData\\Local\\Temp\\ipykernel_15136\\4022376818.py:11: RuntimeWarning: Not setting position of 1 misc channel found in montage:\n",
      "['Resp']\n",
      "Consider setting the channel types to be of EEG/sEEG/ECoG/DBS/fNIRS using inst.set_channel_types before calling inst.set_montage, or omit these channels when creating your montage.\n",
      "  raw = mne.io.read_raw_brainvision(file_path, preload=True)\n",
      "C:\\Users\\shomo\\AppData\\Local\\Temp\\ipykernel_15136\\4022376818.py:11: RuntimeWarning: Online software filter detected. Using software filter settings and ignoring hardware values\n",
      "  raw = mne.io.read_raw_brainvision(file_path, preload=True)\n",
      "C:\\Users\\shomo\\AppData\\Local\\Temp\\ipykernel_15136\\4022376818.py:11: RuntimeWarning: Channels contain different highpass filters. Lowest (weakest) filter setting (0.00 Hz) will be stored.\n",
      "  raw = mne.io.read_raw_brainvision(file_path, preload=True)\n"
     ]
    },
    {
     "name": "stdout",
     "output_type": "stream",
     "text": [
      "Extracting parameters from D:\\Thesis Dataset\\IOWA Data\\All_Rest_Recordings_RAW\\All_Rest_Recordings_RAW\\PD1781.vhdr...\n",
      "Setting channel info structure...\n",
      "Reading 0 ... 79469  =      0.000 ...   158.938 secs...\n",
      "Extracting parameters from D:\\Thesis Dataset\\IOWA Data\\All_Rest_Recordings_RAW\\All_Rest_Recordings_RAW\\PD1791.vhdr...\n",
      "Setting channel info structure...\n",
      "Reading 0 ... 73569  =      0.000 ...   147.138 secs...\n"
     ]
    },
    {
     "name": "stderr",
     "output_type": "stream",
     "text": [
      "C:\\Users\\shomo\\AppData\\Local\\Temp\\ipykernel_15136\\4022376818.py:11: RuntimeWarning: Not setting position of 1 misc channel found in montage:\n",
      "['Resp']\n",
      "Consider setting the channel types to be of EEG/sEEG/ECoG/DBS/fNIRS using inst.set_channel_types before calling inst.set_montage, or omit these channels when creating your montage.\n",
      "  raw = mne.io.read_raw_brainvision(file_path, preload=True)\n",
      "C:\\Users\\shomo\\AppData\\Local\\Temp\\ipykernel_15136\\4022376818.py:11: RuntimeWarning: Online software filter detected. Using software filter settings and ignoring hardware values\n",
      "  raw = mne.io.read_raw_brainvision(file_path, preload=True)\n",
      "C:\\Users\\shomo\\AppData\\Local\\Temp\\ipykernel_15136\\4022376818.py:11: RuntimeWarning: Channels contain different highpass filters. Lowest (weakest) filter setting (0.00 Hz) will be stored.\n",
      "  raw = mne.io.read_raw_brainvision(file_path, preload=True)\n",
      "C:\\Users\\shomo\\AppData\\Local\\Temp\\ipykernel_15136\\4022376818.py:11: RuntimeWarning: Not setting position of 1 misc channel found in montage:\n",
      "['Resp']\n",
      "Consider setting the channel types to be of EEG/sEEG/ECoG/DBS/fNIRS using inst.set_channel_types before calling inst.set_montage, or omit these channels when creating your montage.\n",
      "  raw = mne.io.read_raw_brainvision(file_path, preload=True)\n",
      "C:\\Users\\shomo\\AppData\\Local\\Temp\\ipykernel_15136\\4022376818.py:11: RuntimeWarning: Online software filter detected. Using software filter settings and ignoring hardware values\n",
      "  raw = mne.io.read_raw_brainvision(file_path, preload=True)\n"
     ]
    },
    {
     "name": "stdout",
     "output_type": "stream",
     "text": [
      "Extracting parameters from D:\\Thesis Dataset\\IOWA Data\\All_Rest_Recordings_RAW\\All_Rest_Recordings_RAW\\PD1801.vhdr...\n",
      "Setting channel info structure...\n",
      "Reading 0 ... 65499  =      0.000 ...   130.998 secs...\n",
      "Extracting parameters from D:\\Thesis Dataset\\IOWA Data\\All_Rest_Recordings_RAW\\All_Rest_Recordings_RAW\\PD1811.vhdr...\n",
      "Setting channel info structure...\n",
      "Reading 0 ... 80309  =      0.000 ...   160.618 secs...\n"
     ]
    },
    {
     "name": "stderr",
     "output_type": "stream",
     "text": [
      "C:\\Users\\shomo\\AppData\\Local\\Temp\\ipykernel_15136\\4022376818.py:11: RuntimeWarning: Online software filter detected. Using software filter settings and ignoring hardware values\n",
      "  raw = mne.io.read_raw_brainvision(file_path, preload=True)\n",
      "C:\\Users\\shomo\\AppData\\Local\\Temp\\ipykernel_15136\\4022376818.py:11: RuntimeWarning: Online software filter detected. Using software filter settings and ignoring hardware values\n",
      "  raw = mne.io.read_raw_brainvision(file_path, preload=True)\n"
     ]
    },
    {
     "name": "stdout",
     "output_type": "stream",
     "text": [
      "Extracting parameters from D:\\Thesis Dataset\\IOWA Data\\All_Rest_Recordings_RAW\\All_Rest_Recordings_RAW\\PD1821.vhdr...\n",
      "Setting channel info structure...\n",
      "Reading 0 ... 91629  =      0.000 ...   183.258 secs...\n"
     ]
    },
    {
     "name": "stderr",
     "output_type": "stream",
     "text": [
      "C:\\Users\\shomo\\AppData\\Local\\Temp\\ipykernel_15136\\4022376818.py:11: RuntimeWarning: Online software filter detected. Using software filter settings and ignoring hardware values\n",
      "  raw = mne.io.read_raw_brainvision(file_path, preload=True)\n"
     ]
    }
   ],
   "source": [
    "data_folder = 'D:\\Thesis Dataset\\IOWA Data\\All_Rest_Recordings_RAW\\All_Rest_Recordings_RAW'\n",
    "\n",
    "all_files = os.listdir(data_folder)\n",
    "\n",
    "vhdr_files = [file for file in all_files if file.endswith('.vhdr')]\n",
    "\n",
    "raw_list = []\n",
    "\n",
    "for vhdr_file in vhdr_files:\n",
    "    file_path = os.path.join(data_folder, vhdr_file)\n",
    "    raw = mne.io.read_raw_brainvision(file_path, preload=True)\n",
    "    raw_list.append(raw)"
   ]
  },
  {
   "cell_type": "code",
   "execution_count": 3,
   "id": "fda513ab",
   "metadata": {},
   "outputs": [
    {
     "name": "stdout",
     "output_type": "stream",
     "text": [
      "<RawBrainVision | PD1821.eeg, 63 x 91630 (183.3 s), ~44.1 MB, data loaded>\n",
      "<Info | 8 non-empty values\n",
      " bads: []\n",
      " ch_names: Fp1, Fz, F3, F7, Iz, FC5, FC1, C3, T7, TP9, CP5, CP1, P3, P7, ...\n",
      " chs: 63 EEG\n",
      " custom_ref_applied: False\n",
      " dig: 66 items (3 Cardinal, 63 EEG)\n",
      " highpass: 0.0 Hz\n",
      " lowpass: 250.0 Hz\n",
      " meas_date: 2020-01-06 13:44:54 UTC\n",
      " nchan: 63\n",
      " projs: []\n",
      " sfreq: 500.0 Hz\n",
      ">\n"
     ]
    }
   ],
   "source": [
    "print(raw)\n",
    "print(raw.info)"
   ]
  },
  {
   "cell_type": "markdown",
   "id": "1163c515",
   "metadata": {},
   "source": [
    "# 2. Feature Selection: PSD Band Features "
   ]
  },
  {
   "cell_type": "code",
   "execution_count": 4,
   "id": "f573d7ba",
   "metadata": {},
   "outputs": [],
   "source": [
    "from mne.time_frequency import psd_array_multitaper\n",
    "def extract_psd_features(signal, sfreq):\n",
    "    fmin, fmax = 1, 200  \n",
    "    psd, freqs = psd_array_multitaper(signal, fmin=fmin, fmax=fmax, sfreq=sfreq, n_jobs=1)\n",
    "    theta_band = (freqs > 4) & (freqs <= 8)\n",
    "    alpha_band = (freqs > 8) & (freqs <= 12)\n",
    "    beta_band = (freqs > 12) & (freqs <= 30)\n",
    "    \n",
    "    features = [np.mean(psd[:, theta_band]), np.mean(psd[:, alpha_band]), np.mean(psd[:, beta_band])]\n",
    "    \n",
    "    return features"
   ]
  },
  {
   "cell_type": "code",
   "execution_count": 5,
   "id": "d7290a36",
   "metadata": {},
   "outputs": [
    {
     "name": "stdout",
     "output_type": "stream",
     "text": [
      "    Using multitaper spectrum estimation with 1 DPSS windows\n"
     ]
    },
    {
     "name": "stderr",
     "output_type": "stream",
     "text": [
      "C:\\Users\\shomo\\AppData\\Local\\Temp\\ipykernel_15136\\1218248354.py:4: RuntimeWarning: Could not properly use low_bias, keeping lowest-bias taper\n",
      "  psd, freqs = psd_array_multitaper(signal, fmin=fmin, fmax=fmax, sfreq=sfreq, n_jobs=1)\n"
     ]
    },
    {
     "name": "stdout",
     "output_type": "stream",
     "text": [
      "    Using multitaper spectrum estimation with 2 DPSS windows\n",
      "    Using multitaper spectrum estimation with 2 DPSS windows\n",
      "    Using multitaper spectrum estimation with 2 DPSS windows\n",
      "    Using multitaper spectrum estimation with 2 DPSS windows\n",
      "    Using multitaper spectrum estimation with 2 DPSS windows\n",
      "    Using multitaper spectrum estimation with 2 DPSS windows\n",
      "    Using multitaper spectrum estimation with 1 DPSS windows\n"
     ]
    },
    {
     "name": "stderr",
     "output_type": "stream",
     "text": [
      "C:\\Users\\shomo\\AppData\\Local\\Temp\\ipykernel_15136\\1218248354.py:4: RuntimeWarning: Could not properly use low_bias, keeping lowest-bias taper\n",
      "  psd, freqs = psd_array_multitaper(signal, fmin=fmin, fmax=fmax, sfreq=sfreq, n_jobs=1)\n"
     ]
    },
    {
     "name": "stdout",
     "output_type": "stream",
     "text": [
      "    Using multitaper spectrum estimation with 2 DPSS windows\n",
      "    Using multitaper spectrum estimation with 2 DPSS windows\n",
      "    Using multitaper spectrum estimation with 1 DPSS windows\n"
     ]
    },
    {
     "name": "stderr",
     "output_type": "stream",
     "text": [
      "C:\\Users\\shomo\\AppData\\Local\\Temp\\ipykernel_15136\\1218248354.py:4: RuntimeWarning: Could not properly use low_bias, keeping lowest-bias taper\n",
      "  psd, freqs = psd_array_multitaper(signal, fmin=fmin, fmax=fmax, sfreq=sfreq, n_jobs=1)\n"
     ]
    },
    {
     "name": "stdout",
     "output_type": "stream",
     "text": [
      "    Using multitaper spectrum estimation with 7 DPSS windows\n",
      "    Using multitaper spectrum estimation with 7 DPSS windows\n",
      "    Using multitaper spectrum estimation with 7 DPSS windows\n",
      "    Using multitaper spectrum estimation with 7 DPSS windows\n",
      "    Using multitaper spectrum estimation with 7 DPSS windows\n",
      "    Using multitaper spectrum estimation with 7 DPSS windows\n",
      "    Using multitaper spectrum estimation with 4 DPSS windows\n",
      "    Using multitaper spectrum estimation with 4 DPSS windows\n",
      "    Using multitaper spectrum estimation with 7 DPSS windows\n",
      "    Using multitaper spectrum estimation with 7 DPSS windows\n",
      "    Using multitaper spectrum estimation with 7 DPSS windows\n",
      "    Using multitaper spectrum estimation with 7 DPSS windows\n",
      "    Using multitaper spectrum estimation with 7 DPSS windows\n",
      "    Using multitaper spectrum estimation with 7 DPSS windows\n",
      "    Using multitaper spectrum estimation with 7 DPSS windows\n",
      "    Using multitaper spectrum estimation with 7 DPSS windows\n",
      "    Using multitaper spectrum estimation with 7 DPSS windows\n",
      "    Using multitaper spectrum estimation with 7 DPSS windows\n",
      "    Using multitaper spectrum estimation with 7 DPSS windows\n",
      "    Using multitaper spectrum estimation with 5 DPSS windows\n",
      "    Using multitaper spectrum estimation with 7 DPSS windows\n",
      "    Using multitaper spectrum estimation with 7 DPSS windows\n",
      "    Using multitaper spectrum estimation with 7 DPSS windows\n",
      "    Using multitaper spectrum estimation with 7 DPSS windows\n",
      "    Using multitaper spectrum estimation with 7 DPSS windows\n",
      "    Using multitaper spectrum estimation with 7 DPSS windows\n",
      "    Using multitaper spectrum estimation with 7 DPSS windows\n",
      "    Using multitaper spectrum estimation with 7 DPSS windows\n",
      "    Using multitaper spectrum estimation with 7 DPSS windows\n",
      "    Using multitaper spectrum estimation with 7 DPSS windows\n",
      "    Using multitaper spectrum estimation with 1 DPSS windows\n"
     ]
    },
    {
     "name": "stderr",
     "output_type": "stream",
     "text": [
      "C:\\Users\\shomo\\AppData\\Local\\Temp\\ipykernel_15136\\1218248354.py:4: RuntimeWarning: Could not properly use low_bias, keeping lowest-bias taper\n",
      "  psd, freqs = psd_array_multitaper(signal, fmin=fmin, fmax=fmax, sfreq=sfreq, n_jobs=1)\n"
     ]
    },
    {
     "name": "stdout",
     "output_type": "stream",
     "text": [
      "    Using multitaper spectrum estimation with 1 DPSS windows\n"
     ]
    },
    {
     "name": "stderr",
     "output_type": "stream",
     "text": [
      "C:\\Users\\shomo\\AppData\\Local\\Temp\\ipykernel_15136\\1218248354.py:4: RuntimeWarning: Could not properly use low_bias, keeping lowest-bias taper\n",
      "  psd, freqs = psd_array_multitaper(signal, fmin=fmin, fmax=fmax, sfreq=sfreq, n_jobs=1)\n"
     ]
    },
    {
     "name": "stdout",
     "output_type": "stream",
     "text": [
      "    Using multitaper spectrum estimation with 1 DPSS windows\n"
     ]
    },
    {
     "name": "stderr",
     "output_type": "stream",
     "text": [
      "C:\\Users\\shomo\\AppData\\Local\\Temp\\ipykernel_15136\\1218248354.py:4: RuntimeWarning: Could not properly use low_bias, keeping lowest-bias taper\n",
      "  psd, freqs = psd_array_multitaper(signal, fmin=fmin, fmax=fmax, sfreq=sfreq, n_jobs=1)\n"
     ]
    },
    {
     "name": "stdout",
     "output_type": "stream",
     "text": [
      "    Using multitaper spectrum estimation with 1 DPSS windows\n"
     ]
    },
    {
     "name": "stderr",
     "output_type": "stream",
     "text": [
      "C:\\Users\\shomo\\AppData\\Local\\Temp\\ipykernel_15136\\1218248354.py:4: RuntimeWarning: Could not properly use low_bias, keeping lowest-bias taper\n",
      "  psd, freqs = psd_array_multitaper(signal, fmin=fmin, fmax=fmax, sfreq=sfreq, n_jobs=1)\n"
     ]
    },
    {
     "name": "stdout",
     "output_type": "stream",
     "text": [
      "    Using multitaper spectrum estimation with 1 DPSS windows\n"
     ]
    },
    {
     "name": "stderr",
     "output_type": "stream",
     "text": [
      "C:\\Users\\shomo\\AppData\\Local\\Temp\\ipykernel_15136\\1218248354.py:4: RuntimeWarning: Could not properly use low_bias, keeping lowest-bias taper\n",
      "  psd, freqs = psd_array_multitaper(signal, fmin=fmin, fmax=fmax, sfreq=sfreq, n_jobs=1)\n"
     ]
    },
    {
     "name": "stdout",
     "output_type": "stream",
     "text": [
      "    Using multitaper spectrum estimation with 1 DPSS windows\n"
     ]
    },
    {
     "name": "stderr",
     "output_type": "stream",
     "text": [
      "C:\\Users\\shomo\\AppData\\Local\\Temp\\ipykernel_15136\\1218248354.py:4: RuntimeWarning: Could not properly use low_bias, keeping lowest-bias taper\n",
      "  psd, freqs = psd_array_multitaper(signal, fmin=fmin, fmax=fmax, sfreq=sfreq, n_jobs=1)\n"
     ]
    },
    {
     "name": "stdout",
     "output_type": "stream",
     "text": [
      "    Using multitaper spectrum estimation with 1 DPSS windows\n"
     ]
    },
    {
     "name": "stderr",
     "output_type": "stream",
     "text": [
      "C:\\Users\\shomo\\AppData\\Local\\Temp\\ipykernel_15136\\1218248354.py:4: RuntimeWarning: Could not properly use low_bias, keeping lowest-bias taper\n",
      "  psd, freqs = psd_array_multitaper(signal, fmin=fmin, fmax=fmax, sfreq=sfreq, n_jobs=1)\n"
     ]
    },
    {
     "name": "stdout",
     "output_type": "stream",
     "text": [
      "    Using multitaper spectrum estimation with 2 DPSS windows\n",
      "    Using multitaper spectrum estimation with 1 DPSS windows\n"
     ]
    },
    {
     "name": "stderr",
     "output_type": "stream",
     "text": [
      "C:\\Users\\shomo\\AppData\\Local\\Temp\\ipykernel_15136\\1218248354.py:4: RuntimeWarning: Could not properly use low_bias, keeping lowest-bias taper\n",
      "  psd, freqs = psd_array_multitaper(signal, fmin=fmin, fmax=fmax, sfreq=sfreq, n_jobs=1)\n"
     ]
    },
    {
     "name": "stdout",
     "output_type": "stream",
     "text": [
      "    Using multitaper spectrum estimation with 1 DPSS windows\n"
     ]
    },
    {
     "name": "stderr",
     "output_type": "stream",
     "text": [
      "C:\\Users\\shomo\\AppData\\Local\\Temp\\ipykernel_15136\\1218248354.py:4: RuntimeWarning: Could not properly use low_bias, keeping lowest-bias taper\n",
      "  psd, freqs = psd_array_multitaper(signal, fmin=fmin, fmax=fmax, sfreq=sfreq, n_jobs=1)\n"
     ]
    },
    {
     "name": "stdout",
     "output_type": "stream",
     "text": [
      "    Using multitaper spectrum estimation with 7 DPSS windows\n",
      "    Using multitaper spectrum estimation with 7 DPSS windows\n",
      "    Using multitaper spectrum estimation with 7 DPSS windows\n",
      "    Using multitaper spectrum estimation with 7 DPSS windows\n",
      "    Using multitaper spectrum estimation with 7 DPSS windows\n",
      "    Using multitaper spectrum estimation with 7 DPSS windows\n",
      "    Using multitaper spectrum estimation with 7 DPSS windows\n",
      "    Using multitaper spectrum estimation with 7 DPSS windows\n",
      "    Using multitaper spectrum estimation with 5 DPSS windows\n",
      "    Using multitaper spectrum estimation with 7 DPSS windows\n",
      "    Using multitaper spectrum estimation with 7 DPSS windows\n",
      "    Using multitaper spectrum estimation with 7 DPSS windows\n",
      "    Using multitaper spectrum estimation with 7 DPSS windows\n",
      "    Using multitaper spectrum estimation with 7 DPSS windows\n",
      "    Using multitaper spectrum estimation with 7 DPSS windows\n",
      "    Using multitaper spectrum estimation with 7 DPSS windows\n",
      "    Using multitaper spectrum estimation with 7 DPSS windows\n",
      "    Using multitaper spectrum estimation with 7 DPSS windows\n",
      "    Using multitaper spectrum estimation with 2 DPSS windows\n",
      "    Using multitaper spectrum estimation with 7 DPSS windows\n",
      "    Using multitaper spectrum estimation with 7 DPSS windows\n",
      "    Using multitaper spectrum estimation with 7 DPSS windows\n",
      "    Using multitaper spectrum estimation with 7 DPSS windows\n",
      "    Using multitaper spectrum estimation with 7 DPSS windows\n",
      "    Using multitaper spectrum estimation with 2 DPSS windows\n",
      "    Using multitaper spectrum estimation with 7 DPSS windows\n",
      "    Using multitaper spectrum estimation with 7 DPSS windows\n",
      "    Using multitaper spectrum estimation with 7 DPSS windows\n",
      "    Using multitaper spectrum estimation with 7 DPSS windows\n",
      "    Using multitaper spectrum estimation with 7 DPSS windows\n",
      "    Using multitaper spectrum estimation with 7 DPSS windows\n",
      "    Using multitaper spectrum estimation with 7 DPSS windows\n",
      "    Using multitaper spectrum estimation with 7 DPSS windows\n",
      "    Using multitaper spectrum estimation with 7 DPSS windows\n",
      "    Using multitaper spectrum estimation with 7 DPSS windows\n",
      "    Using multitaper spectrum estimation with 7 DPSS windows\n",
      "    Using multitaper spectrum estimation with 7 DPSS windows\n",
      "    Using multitaper spectrum estimation with 2 DPSS windows\n",
      "    Using multitaper spectrum estimation with 7 DPSS windows\n",
      "    Using multitaper spectrum estimation with 7 DPSS windows\n",
      "    Using multitaper spectrum estimation with 7 DPSS windows\n",
      "    Using multitaper spectrum estimation with 7 DPSS windows\n",
      "    Using multitaper spectrum estimation with 7 DPSS windows\n",
      "    Using multitaper spectrum estimation with 7 DPSS windows\n",
      "    Using multitaper spectrum estimation with 7 DPSS windows\n",
      "    Using multitaper spectrum estimation with 7 DPSS windows\n",
      "    Using multitaper spectrum estimation with 7 DPSS windows\n",
      "    Using multitaper spectrum estimation with 7 DPSS windows\n",
      "    Using multitaper spectrum estimation with 7 DPSS windows\n",
      "    Using multitaper spectrum estimation with 7 DPSS windows\n",
      "    Using multitaper spectrum estimation with 7 DPSS windows\n",
      "    Using multitaper spectrum estimation with 7 DPSS windows\n",
      "    Using multitaper spectrum estimation with 7 DPSS windows\n",
      "    Using multitaper spectrum estimation with 7 DPSS windows\n",
      "    Using multitaper spectrum estimation with 7 DPSS windows\n",
      "    Using multitaper spectrum estimation with 7 DPSS windows\n",
      "    Using multitaper spectrum estimation with 7 DPSS windows\n",
      "    Using multitaper spectrum estimation with 7 DPSS windows\n",
      "    Using multitaper spectrum estimation with 7 DPSS windows\n",
      "    Using multitaper spectrum estimation with 7 DPSS windows\n",
      "    Using multitaper spectrum estimation with 7 DPSS windows\n",
      "    Using multitaper spectrum estimation with 7 DPSS windows\n",
      "    Using multitaper spectrum estimation with 7 DPSS windows\n",
      "    Using multitaper spectrum estimation with 7 DPSS windows\n",
      "    Using multitaper spectrum estimation with 7 DPSS windows\n",
      "    Using multitaper spectrum estimation with 7 DPSS windows\n",
      "    Using multitaper spectrum estimation with 7 DPSS windows\n",
      "    Using multitaper spectrum estimation with 7 DPSS windows\n",
      "    Using multitaper spectrum estimation with 7 DPSS windows\n",
      "    Using multitaper spectrum estimation with 7 DPSS windows\n",
      "    Using multitaper spectrum estimation with 7 DPSS windows\n",
      "    Using multitaper spectrum estimation with 7 DPSS windows\n",
      "    Using multitaper spectrum estimation with 7 DPSS windows\n"
     ]
    }
   ],
   "source": [
    "feature_list = [extract_psd_features(raw.get_data(), raw.info['sfreq']) for raw in raw_list]"
   ]
  },
  {
   "cell_type": "code",
   "execution_count": 6,
   "id": "3781a200",
   "metadata": {},
   "outputs": [
    {
     "name": "stdout",
     "output_type": "stream",
     "text": [
      "Features for EEG signal 1: [3.1747875214948834e-09, 6.747947033296697e-10, 7.561961090281527e-10]\n",
      "Features for EEG signal 2: [4.439765119865e-09, 1.5748723842428478e-09, 5.682345339703445e-10]\n",
      "Features for EEG signal 3: [4.655770481276484e-09, 9.068125015738324e-10, 4.200528498131942e-10]\n",
      "Features for EEG signal 4: [8.230543914752198e-09, 2.9132352313446903e-09, 1.311143858107481e-09]\n",
      "Features for EEG signal 5: [2.7692430417991755e-09, 5.816623841905178e-10, 3.722200058617291e-10]\n",
      "Features for EEG signal 6: [2.7521817309113065e-09, 2.244135207533467e-09, 7.10970080437394e-10]\n",
      "Features for EEG signal 7: [8.722816489214775e-10, 2.6522889210420874e-09, 6.253712385515967e-10]\n",
      "Features for EEG signal 8: [8.333926441981972e-09, 2.8204451262611347e-09, 9.305624757455865e-10]\n",
      "Features for EEG signal 9: [3.672737453291922e-10, 2.1581573513618395e-09, 5.421115118440273e-10]\n",
      "Features for EEG signal 10: [1.3517401317975663e-09, 7.22017660875737e-10, 4.42582281562551e-10]\n",
      "Features for EEG signal 11: [3.977447904870999e-09, 1.0516779114694758e-09, 1.159578111473513e-09]\n",
      "Features for EEG signal 12: [1.6476060146204523e-09, 7.200378427713706e-10, 3.318071451577139e-10]\n",
      "Features for EEG signal 13: [1.3356224498861739e-09, 5.032235047240252e-09, 6.503569632169149e-10]\n",
      "Features for EEG signal 14: [6.794485746057399e-10, 8.879875352559993e-10, 1.743187272093357e-10]\n",
      "Features for EEG signal 15: [7.03487146723377e-09, 2.6879367735809878e-08, 1.626257854814323e-09]\n",
      "Features for EEG signal 16: [1.8369195333667342e-09, 7.719361629244418e-10, 3.1234436331320676e-10]\n",
      "Features for EEG signal 17: [3.7801579267255576e-09, 9.180445390238325e-10, 3.9878724732523754e-10]\n",
      "Features for EEG signal 18: [7.513315704990806e-10, 2.9522684690685726e-10, 3.099026100845069e-10]\n",
      "Features for EEG signal 19: [1.1536154635046503e-09, 3.1814319509039596e-09, 2.8815108795362395e-10]\n",
      "Features for EEG signal 20: [1.5344393230374062e-09, 8.764188740435723e-10, 2.498356504141543e-10]\n",
      "Features for EEG signal 21: [8.293559705860744e-10, 1.0629568849326329e-10, 9.40577044965925e-11]\n",
      "Features for EEG signal 22: [1.0729578734501336e-10, 1.7155638821605938e-10, 4.687131056625302e-11]\n",
      "Features for EEG signal 23: [7.697654664593607e-10, 3.4113536290090657e-10, 1.5417575146026887e-10]\n",
      "Features for EEG signal 24: [1.9620588111574974e-09, 6.10447958748109e-10, 2.816153021499291e-10]\n",
      "Features for EEG signal 25: [7.320157573742241e-10, 5.101389382465776e-10, 3.04159380180544e-10]\n",
      "Features for EEG signal 26: [3.3452607887468223e-09, 1.0342266928797606e-09, 3.74403279122561e-10]\n",
      "Features for EEG signal 27: [4.3173134158878505e-09, 2.544459312507817e-09, 5.317368279148695e-10]\n",
      "Features for EEG signal 28: [5.3289039162590705e-09, 6.573026493894573e-09, 3.984688117983377e-10]\n",
      "Features for EEG signal 29: [3.0288552946250035e-09, 6.901460286769529e-10, 2.9240075181856637e-10]\n",
      "Features for EEG signal 30: [2.321093701665709e-09, 7.175790857628076e-10, 2.894251009649961e-10]\n",
      "Features for EEG signal 31: [1.7895715095682514e-09, 5.556416901790684e-10, 2.348088342249246e-10]\n",
      "Features for EEG signal 32: [9.20901226404616e-10, 9.213669703284554e-10, 2.9389834625436125e-10]\n",
      "Features for EEG signal 33: [1.1624881530102554e-09, 4.472741623321527e-10, 2.4602483798763764e-10]\n",
      "Features for EEG signal 34: [7.175659202507069e-10, 1.1091742921343951e-09, 3.150209598180544e-10]\n",
      "Features for EEG signal 35: [6.67034808310003e-10, 1.7641198707018102e-09, 1.1649223990772767e-10]\n",
      "Features for EEG signal 36: [1.1923568639033045e-09, 6.415444773128507e-10, 2.6123082163087697e-10]\n",
      "Features for EEG signal 37: [1.230923648033049e-09, 2.1463653283508173e-09, 3.721030980723162e-10]\n",
      "Features for EEG signal 38: [3.914502721178003e-10, 1.5952455653215959e-09, 3.6979423139160963e-10]\n",
      "Features for EEG signal 39: [4.44847441696122e-09, 1.4447748742927706e-09, 5.057393988823388e-10]\n",
      "Features for EEG signal 40: [4.078789379504683, 0.4119436215693894, 0.056137344332366584]\n",
      "Features for EEG signal 41: [8.84564170114934, 1.2862238031095257, 0.23088516073590135]\n",
      "Features for EEG signal 42: [2.2782072589142377e-09, 1.1970393872636253e-09, 1.8323311405263248e-09]\n",
      "Features for EEG signal 43: [7.011923952161121e-09, 1.3157561599045573e-09, 5.120316682861183e-10]\n",
      "Features for EEG signal 44: [1.6146077127285827e-08, 7.327200740651388e-09, 9.89538069763438e-10]\n",
      "Features for EEG signal 45: [3.826499919415227e-09, 3.8158384983197783e-10, 6.251310726173869e-11]\n",
      "Features for EEG signal 46: [2.684511633397127e-09, 7.871539452414396e-10, 8.616399514243043e-10]\n",
      "Features for EEG signal 47: [3.6771895563085943e-09, 4.147908637754959e-09, 7.506208793941591e-10]\n",
      "Features for EEG signal 48: [2.3627338706500587e-09, 3.897947842405562e-09, 6.243387866697286e-10]\n",
      "Features for EEG signal 49: [4.842620318229088e-09, 1.1019145554274186e-09, 4.4627943921263027e-10]\n",
      "Features for EEG signal 50: [5.997375145314074e-09, 3.0576491062759382e-09, 8.463769792474357e-10]\n",
      "Features for EEG signal 51: [3.932409277798389e-09, 1.2869275039259132e-09, 2.6221339644076204e-10]\n",
      "Features for EEG signal 52: [5.019330760545343e-09, 2.42746896767312e-09, 8.117313992499726e-10]\n",
      "Features for EEG signal 53: [4.845220736870234e-09, 4.100050612292547e-09, 7.21450237985781e-10]\n",
      "Features for EEG signal 54: [6.0483712069701885e-09, 2.1610644840939175e-09, 6.55018318584728e-10]\n",
      "Features for EEG signal 55: [1.764130565139523e-08, 8.78554774895946e-09, 5.841156122049816e-10]\n",
      "Features for EEG signal 56: [3.0176758638176466e-09, 9.487424275365395e-10, 2.590979255865131e-10]\n",
      "Features for EEG signal 57: [1.7955695284390173e-09, 5.320861302240883e-09, 1.4861357132972934e-09]\n",
      "Features for EEG signal 58: [4.732158714582535e-09, 3.2645586603906095e-09, 5.592087431443219e-10]\n",
      "Features for EEG signal 59: [1.0659612617411808e-09, 7.610881454611825e-10, 6.693893207407939e-10]\n",
      "Features for EEG signal 60: [3.880804969414874e-09, 3.069479137305735e-09, 1.2501531607688796e-09]\n",
      "Features for EEG signal 61: [2.1903140222242223e-09, 1.3922846655852165e-09, 1.5152540052109788e-10]\n",
      "Features for EEG signal 62: [6.785888952142875e-10, 3.51107872764137e-10, 1.6033741379428326e-10]\n",
      "Features for EEG signal 63: [2.016329895394186e-09, 1.6471357097290244e-09, 8.053309018201905e-10]\n",
      "Features for EEG signal 64: [2.3420771404976773e-09, 4.811031478019399e-10, 4.83262325323799e-10]\n",
      "Features for EEG signal 65: [4.1569664673007133e-10, 1.6212131876462135e-09, 1.9439681128072646e-10]\n",
      "Features for EEG signal 66: [6.108397038154803e-09, 1.3973201287655172e-09, 2.784738039550144e-10]\n",
      "Features for EEG signal 67: [1.5764012876899797e-09, 5.611563538164236e-09, 6.207462987076456e-10]\n",
      "Features for EEG signal 68: [2.1595424806762074e-09, 2.3971221512662782e-09, 3.7520967932954386e-10]\n",
      "Features for EEG signal 69: [3.5954493317642713e-09, 1.5730309557428178e-09, 4.5795469194731227e-10]\n",
      "Features for EEG signal 70: [4.2102668178872636e-10, 1.1244929096091576e-09, 2.2703357563559268e-10]\n",
      "Features for EEG signal 71: [9.993107215828083e-10, 2.869323999980579e-09, 7.384175341112236e-10]\n",
      "Features for EEG signal 72: [4.574635493934293e-09, 1.662389710732979e-08, 9.131073628923984e-10]\n",
      "Features for EEG signal 73: [7.083560469230876e-09, 1.3631984053961817e-09, 2.0889903425755974e-10]\n",
      "Features for EEG signal 74: [2.3095595356064108e-09, 3.9460351087270076e-10, 2.132068746328609e-10]\n",
      "Features for EEG signal 75: [6.905477269526887e-09, 1.819246222018009e-09, 6.236802710750689e-10]\n",
      "Features for EEG signal 76: [1.8367304308368716e-09, 1.0377593467080823e-09, 5.518597637482079e-10]\n",
      "Features for EEG signal 77: [3.4592450177114292e-09, 1.0619670858929875e-09, 1.5602457265545104e-10]\n",
      "Features for EEG signal 78: [8.211143102340323e-10, 6.647390860028399e-10, 1.9914112154846318e-10]\n",
      "Features for EEG signal 79: [2.876202549014456e-09, 1.643564186602764e-09, 2.2391212049918366e-10]\n",
      "Features for EEG signal 80: [6.562302009732588e-10, 1.5837335978329733e-09, 5.775151183645346e-10]\n",
      "Features for EEG signal 81: [1.7739270321786556e-05, 5.8118418523050816e-06, 1.470516232817429e-06]\n",
      "Features for EEG signal 82: [5.988680000678117e-09, 2.0306101001390903e-09, 4.781803835071221e-10]\n",
      "Features for EEG signal 83: [1.579305939189028e-09, 2.509821803954583e-09, 6.003565983896718e-10]\n",
      "Features for EEG signal 84: [3.7814936472884145e-09, 1.5334583823416968e-09, 5.22703677192345e-10]\n",
      "Features for EEG signal 85: [3.1980278807258006e-09, 9.40959131353659e-10, 1.9310775928375156e-10]\n",
      "Features for EEG signal 86: [2.1746536588476597e-08, 1.5313680107622347e-08, 2.9975010428084603e-09]\n",
      "Features for EEG signal 87: [1.0485264854317292e-09, 7.099734473342424e-10, 1.6061300573903552e-10]\n",
      "Features for EEG signal 88: [1.1782157037641778e-09, 6.355873311093319e-10, 9.132562362080345e-10]\n",
      "Features for EEG signal 89: [5.559674751720522e-09, 2.6810551554946324e-09, 2.6468632903754023e-09]\n",
      "Features for EEG signal 90: [0.21864024312066296, 0.02870784900299708, 0.0009532174777826304]\n",
      "Features for EEG signal 91: [22.290044202846687, 6.98819011237935, 0.5467339673400776]\n",
      "Features for EEG signal 92: [1.3048384275710553e-09, 2.8747535778836656e-10, 8.85156044972067e-11]\n",
      "Features for EEG signal 93: [7.729251681935332e-10, 6.004746463633411e-10, 1.1658490811831192e-10]\n",
      "Features for EEG signal 94: [1.8600440389261907e-09, 2.4997173978608854e-09, 2.974499888932468e-10]\n",
      "Features for EEG signal 95: [9.79289583896627e-10, 4.2305085328124645e-09, 3.06619797883478e-10]\n",
      "Features for EEG signal 96: [3.5559165989912647e-10, 3.834657425877007e-10, 2.1232575698171582e-10]\n",
      "Features for EEG signal 97: [1.7198750066317929e-09, 2.322411034619871e-09, 4.863679265047023e-10]\n",
      "Features for EEG signal 98: [1.0823753582012008e-09, 4.995482029953329e-10, 1.2785762183755292e-10]\n",
      "Features for EEG signal 99: [9.752659476150884e-10, 8.462089327604563e-10, 3.313646970596182e-10]\n",
      "Features for EEG signal 100: [1.9985653831703345e-09, 5.764029581282365e-10, 1.648187522599902e-10]\n",
      "Features for EEG signal 101: [6.008776265577273e-10, 6.81736616484666e-10, 1.7537280462158616e-10]\n",
      "Features for EEG signal 102: [8.257027789078084e-10, 8.741498186074132e-10, 1.918264683980378e-10]\n",
      "Features for EEG signal 103: [2.485375750581907e-09, 6.281247028040445e-10, 8.975604098039417e-11]\n",
      "Features for EEG signal 104: [5.5431405196146565e-09, 1.969691623838617e-09, 2.674257230484975e-10]\n",
      "Features for EEG signal 105: [4.570922429506288e-09, 1.03395256210064e-09, 1.7481107782900546e-10]\n",
      "Features for EEG signal 106: [51.632399273473126, 3.4243115935768507, 0.10255338049463235]\n",
      "Features for EEG signal 107: [82.9377649102067, 5.582824901149458, 0.2737230146578134]\n",
      "Features for EEG signal 108: [3.501554464634949e-10, 3.963312057817216e-10, 2.309310087883659e-10]\n",
      "Features for EEG signal 109: [1.7680911148959972, 1.721421465487444, 2.2633282292592374]\n",
      "Features for EEG signal 110: [0.36261889030252303, 0.02072346999208867, 0.002222426876844441]\n",
      "Features for EEG signal 111: [1.60466628569119e-09, 2.0911810471984167e-09, 2.635616450475661e-10]\n",
      "Features for EEG signal 112: [3.4701497261211823e-10, 2.949410981162715e-10, 2.40876487885756e-10]\n",
      "Features for EEG signal 113: [7.015934994470441e-09, 1.1004722357431818e-09, 1.7613794791650863e-10]\n",
      "Features for EEG signal 114: [4.713093672506172e-10, 3.890484048932845e-09, 3.028512930318669e-10]\n",
      "Features for EEG signal 115: [1.229571513097198e-09, 6.8090736840821485e-09, 5.150841944482731e-10]\n",
      "Features for EEG signal 116: [3.829668307950181e-10, 3.841907246732158e-10, 1.2088162953806416e-10]\n",
      "Features for EEG signal 117: [1.261820271296382e-09, 9.447958680091875e-10, 3.070628748865034e-10]\n",
      "Features for EEG signal 118: [3.5635737808874537, 0.44502657202992957, 0.03964299322647833]\n",
      "Features for EEG signal 119: [17.007204275976715, 3.7224276052131495, 0.2688436288758658]\n",
      "Features for EEG signal 120: [20.017473076022476, 3.7167385267588036, 0.24238462800650729]\n",
      "Features for EEG signal 121: [5.348968781090807e-10, 6.216397060914139e-10, 3.366794326883865e-10]\n",
      "Features for EEG signal 122: [7.981178049494396e-10, 4.237851153489238e-09, 2.679104230891686e-10]\n",
      "Features for EEG signal 123: [1.2134589673947937e-08, 4.318471043817276e-09, 5.205654031112826e-10]\n",
      "Features for EEG signal 124: [3.330912426746882e-09, 2.1317598539015728e-09, 3.707340183660112e-10]\n"
     ]
    }
   ],
   "source": [
    "for idx, features in enumerate(feature_list):\n",
    "    print(f\"Features for EEG signal {idx + 1}: {features}\")"
   ]
  },
  {
   "cell_type": "markdown",
   "id": "3e2ab39b",
   "metadata": {},
   "source": [
    "# 3. Dataframe Transformation: Putting all the features in a dataframe"
   ]
  },
  {
   "cell_type": "code",
   "execution_count": 7,
   "id": "e6bdfe2a",
   "metadata": {},
   "outputs": [
    {
     "name": "stdout",
     "output_type": "stream",
     "text": [
      "                       Theta         Alpha          Beta\n",
      "EEG Signal 1    3.174788e-09  6.747947e-10  7.561961e-10\n",
      "EEG Signal 2    4.439765e-09  1.574872e-09  5.682345e-10\n",
      "EEG Signal 3    4.655770e-09  9.068125e-10  4.200528e-10\n",
      "EEG Signal 4    8.230544e-09  2.913235e-09  1.311144e-09\n",
      "EEG Signal 5    2.769243e-09  5.816624e-10  3.722200e-10\n",
      "...                      ...           ...           ...\n",
      "EEG Signal 120  2.001747e+01  3.716739e+00  2.423846e-01\n",
      "EEG Signal 121  5.348969e-10  6.216397e-10  3.366794e-10\n",
      "EEG Signal 122  7.981178e-10  4.237851e-09  2.679104e-10\n",
      "EEG Signal 123  1.213459e-08  4.318471e-09  5.205654e-10\n",
      "EEG Signal 124  3.330912e-09  2.131760e-09  3.707340e-10\n",
      "\n",
      "[124 rows x 3 columns]\n"
     ]
    }
   ],
   "source": [
    "import pandas as pd\n",
    "\n",
    "df = pd.DataFrame(feature_list, columns=['Theta', 'Alpha', 'Beta'])\n",
    "\n",
    "df.index = [f\"EEG Signal {i+1}\" for i in range(len(feature_list))]\n",
    "\n",
    "print(df)"
   ]
  },
  {
   "cell_type": "code",
   "execution_count": 8,
   "id": "e13824d3",
   "metadata": {},
   "outputs": [],
   "source": [
    "file_names = []\n",
    "\n",
    "for vhdr_file in vhdr_files:\n",
    "    file_names.append(vhdr_file)"
   ]
  },
  {
   "cell_type": "code",
   "execution_count": 9,
   "id": "ee671864",
   "metadata": {},
   "outputs": [
    {
     "name": "stdout",
     "output_type": "stream",
     "text": [
      "Control1001.vhdr\n",
      "Control1021.vhdr\n",
      "Control1031.vhdr\n",
      "Control1041.vhdr\n",
      "Control1051.vhdr\n",
      "Control1061.vhdr\n",
      "Control1071.vhdr\n",
      "Control1081.vhdr\n",
      "Control1091.vhdr\n",
      "Control1101.vhdr\n",
      "Control1111.vhdr\n",
      "Control1121.vhdr\n",
      "Control1131.vhdr\n",
      "Control1141.vhdr\n",
      "Control1151.vhdr\n",
      "Control1161.vhdr\n",
      "Control1171.vhdr\n",
      "Control1181.vhdr\n",
      "Control1191.vhdr\n",
      "Control1201.vhdr\n",
      "Control1211.vhdr\n",
      "Control1221.vhdr\n",
      "Control1231.vhdr\n",
      "Control1241.vhdr\n",
      "Control1251.vhdr\n",
      "Control1261.vhdr\n",
      "Control1271.vhdr\n",
      "Control1281.vhdr\n",
      "Control1291.vhdr\n",
      "Control1301.vhdr\n",
      "Control1311.vhdr\n",
      "Control1321.vhdr\n",
      "Control1331.vhdr\n",
      "Control1341.vhdr\n",
      "Control1351.vhdr\n",
      "Control1361.vhdr\n",
      "Control1371.vhdr\n",
      "Control1381.vhdr\n",
      "Control1391.vhdr\n",
      "Control1401.vhdr\n",
      "Control1411.vhdr\n",
      "PD1001.vhdr\n",
      "PD1011.vhdr\n",
      "PD1021.vhdr\n",
      "PD1031.vhdr\n",
      "PD1041.vhdr\n",
      "PD1051.vhdr\n",
      "PD1061.vhdr\n",
      "PD1071.vhdr\n",
      "PD1081.vhdr\n",
      "PD1091.vhdr\n",
      "PD1101.vhdr\n",
      "PD1111.vhdr\n",
      "PD1121.vhdr\n",
      "PD1131.vhdr\n",
      "PD1141.vhdr\n",
      "PD1151.vhdr\n",
      "PD1161.vhdr\n",
      "PD1171.vhdr\n",
      "PD1181.vhdr\n",
      "PD1191.vhdr\n",
      "PD1201.vhdr\n",
      "PD1211.vhdr\n",
      "PD1221.vhdr\n",
      "PD1231.vhdr\n",
      "PD1241.vhdr\n",
      "PD1251.vhdr\n",
      "PD1261.vhdr\n",
      "PD1271.vhdr\n",
      "PD1281.vhdr\n",
      "PD1291.vhdr\n",
      "PD1301.vhdr\n",
      "PD1311.vhdr\n",
      "PD1321.vhdr\n",
      "PD1331.vhdr\n",
      "PD1341.vhdr\n",
      "PD1351.vhdr\n",
      "PD1361.vhdr\n",
      "PD1371.vhdr\n",
      "PD1381.vhdr\n",
      "PD1391.vhdr\n",
      "PD1401.vhdr\n",
      "PD1411.vhdr\n",
      "PD1421.vhdr\n",
      "PD1431.vhdr\n",
      "PD1441.vhdr\n",
      "PD1451.vhdr\n",
      "PD1461.vhdr\n",
      "PD1471.vhdr\n",
      "PD1481.vhdr\n",
      "PD1491.vhdr\n",
      "PD1501.vhdr\n",
      "PD1511.vhdr\n",
      "PD1521.vhdr\n",
      "PD1531.vhdr\n",
      "PD1541.vhdr\n",
      "PD1551.vhdr\n",
      "PD1561.vhdr\n",
      "PD1571.vhdr\n",
      "PD1581.vhdr\n",
      "PD1591.vhdr\n",
      "PD1601.vhdr\n",
      "PD1611.vhdr\n",
      "PD1621.vhdr\n",
      "PD1631.vhdr\n",
      "PD1641.vhdr\n",
      "PD1651.vhdr\n",
      "PD1661.vhdr\n",
      "PD1671.vhdr\n",
      "PD1681.vhdr\n",
      "PD1691.vhdr\n",
      "PD1701.vhdr\n",
      "PD1711.vhdr\n",
      "PD1721.vhdr\n",
      "PD1731.vhdr\n",
      "PD1741.vhdr\n",
      "PD1751.vhdr\n",
      "PD1761.vhdr\n",
      "PD1771.vhdr\n",
      "PD1781.vhdr\n",
      "PD1791.vhdr\n",
      "PD1801.vhdr\n",
      "PD1811.vhdr\n",
      "PD1821.vhdr\n"
     ]
    }
   ],
   "source": [
    "for file_name in file_names:\n",
    "    print(file_name)"
   ]
  },
  {
   "cell_type": "code",
   "execution_count": 10,
   "id": "539dcefe",
   "metadata": {},
   "outputs": [
    {
     "name": "stdout",
     "output_type": "stream",
     "text": [
      "                       Theta         Alpha          Beta         File_name\n",
      "EEG Signal 1    3.174788e-09  6.747947e-10  7.561961e-10  Control1001.vhdr\n",
      "EEG Signal 2    4.439765e-09  1.574872e-09  5.682345e-10  Control1021.vhdr\n",
      "EEG Signal 3    4.655770e-09  9.068125e-10  4.200528e-10  Control1031.vhdr\n",
      "EEG Signal 4    8.230544e-09  2.913235e-09  1.311144e-09  Control1041.vhdr\n",
      "EEG Signal 5    2.769243e-09  5.816624e-10  3.722200e-10  Control1051.vhdr\n",
      "...                      ...           ...           ...               ...\n",
      "EEG Signal 120  2.001747e+01  3.716739e+00  2.423846e-01       PD1781.vhdr\n",
      "EEG Signal 121  5.348969e-10  6.216397e-10  3.366794e-10       PD1791.vhdr\n",
      "EEG Signal 122  7.981178e-10  4.237851e-09  2.679104e-10       PD1801.vhdr\n",
      "EEG Signal 123  1.213459e-08  4.318471e-09  5.205654e-10       PD1811.vhdr\n",
      "EEG Signal 124  3.330912e-09  2.131760e-09  3.707340e-10       PD1821.vhdr\n",
      "\n",
      "[124 rows x 4 columns]\n"
     ]
    }
   ],
   "source": [
    "df['File_name'] = file_names\n",
    "\n",
    "print(df)"
   ]
  },
  {
   "cell_type": "code",
   "execution_count": 11,
   "id": "8d662c05",
   "metadata": {},
   "outputs": [
    {
     "name": "stdout",
     "output_type": "stream",
     "text": [
      "                       Theta         Alpha          Beta         File_name\n",
      "EEG Signal 1    3.174788e-09  6.747947e-10  7.561961e-10  Control1001.vhdr\n",
      "EEG Signal 2    4.439765e-09  1.574872e-09  5.682345e-10  Control1021.vhdr\n",
      "EEG Signal 3    4.655770e-09  9.068125e-10  4.200528e-10  Control1031.vhdr\n",
      "EEG Signal 4    8.230544e-09  2.913235e-09  1.311144e-09  Control1041.vhdr\n",
      "EEG Signal 5    2.769243e-09  5.816624e-10  3.722200e-10  Control1051.vhdr\n",
      "...                      ...           ...           ...               ...\n",
      "EEG Signal 120  2.001747e+01  3.716739e+00  2.423846e-01       PD1781.vhdr\n",
      "EEG Signal 121  5.348969e-10  6.216397e-10  3.366794e-10       PD1791.vhdr\n",
      "EEG Signal 122  7.981178e-10  4.237851e-09  2.679104e-10       PD1801.vhdr\n",
      "EEG Signal 123  1.213459e-08  4.318471e-09  5.205654e-10       PD1811.vhdr\n",
      "EEG Signal 124  3.330912e-09  2.131760e-09  3.707340e-10       PD1821.vhdr\n",
      "\n",
      "[124 rows x 4 columns]\n"
     ]
    }
   ],
   "source": [
    "print(df)"
   ]
  },
  {
   "cell_type": "markdown",
   "id": "56e7e59f",
   "metadata": {},
   "source": [
    "# 4. Text Features Loading: Loading the Features from the text data "
   ]
  },
  {
   "cell_type": "code",
   "execution_count": 12,
   "id": "b107b107",
   "metadata": {},
   "outputs": [
    {
     "data": {
      "text/html": [
       "<div>\n",
       "<style scoped>\n",
       "    .dataframe tbody tr th:only-of-type {\n",
       "        vertical-align: middle;\n",
       "    }\n",
       "\n",
       "    .dataframe tbody tr th {\n",
       "        vertical-align: top;\n",
       "    }\n",
       "\n",
       "    .dataframe thead th {\n",
       "        text-align: right;\n",
       "    }\n",
       "</style>\n",
       "<table border=\"1\" class=\"dataframe\">\n",
       "  <thead>\n",
       "    <tr style=\"text-align: right;\">\n",
       "      <th></th>\n",
       "      <th>Date</th>\n",
       "      <th>Rest</th>\n",
       "      <th>File_name</th>\n",
       "      <th>Gender</th>\n",
       "      <th>Date of Birth</th>\n",
       "      <th>Age</th>\n",
       "      <th>Schooling</th>\n",
       "      <th>Handedness</th>\n",
       "      <th>MOCA</th>\n",
       "      <th>Category</th>\n",
       "    </tr>\n",
       "  </thead>\n",
       "  <tbody>\n",
       "    <tr>\n",
       "      <th>0</th>\n",
       "      <td>2017-11-14</td>\n",
       "      <td>Control1001</td>\n",
       "      <td>Control1001.vhdr</td>\n",
       "      <td>M</td>\n",
       "      <td>1956-02-17</td>\n",
       "      <td>61</td>\n",
       "      <td>16</td>\n",
       "      <td>R</td>\n",
       "      <td>26</td>\n",
       "      <td>0</td>\n",
       "    </tr>\n",
       "    <tr>\n",
       "      <th>1</th>\n",
       "      <td>2018-01-02</td>\n",
       "      <td>Control1021</td>\n",
       "      <td>Control1021.vhdr</td>\n",
       "      <td>M</td>\n",
       "      <td>1937-04-05</td>\n",
       "      <td>80</td>\n",
       "      <td>20</td>\n",
       "      <td>R</td>\n",
       "      <td>26</td>\n",
       "      <td>0</td>\n",
       "    </tr>\n",
       "    <tr>\n",
       "      <th>2</th>\n",
       "      <td>2018-01-09</td>\n",
       "      <td>Control1031</td>\n",
       "      <td>Control1031.vhdr</td>\n",
       "      <td>M</td>\n",
       "      <td>1941-06-02</td>\n",
       "      <td>76</td>\n",
       "      <td>18</td>\n",
       "      <td>R</td>\n",
       "      <td>25</td>\n",
       "      <td>0</td>\n",
       "    </tr>\n",
       "    <tr>\n",
       "      <th>3</th>\n",
       "      <td>2018-01-16</td>\n",
       "      <td>Control1041</td>\n",
       "      <td>Control1041.vhdr</td>\n",
       "      <td>F</td>\n",
       "      <td>1946-02-07</td>\n",
       "      <td>71</td>\n",
       "      <td>20</td>\n",
       "      <td>L</td>\n",
       "      <td>27</td>\n",
       "      <td>0</td>\n",
       "    </tr>\n",
       "    <tr>\n",
       "      <th>4</th>\n",
       "      <td>2018-01-23</td>\n",
       "      <td>Control1051</td>\n",
       "      <td>Control1051.vhdr</td>\n",
       "      <td>M</td>\n",
       "      <td>1953-05-29</td>\n",
       "      <td>64</td>\n",
       "      <td>18</td>\n",
       "      <td>R</td>\n",
       "      <td>26</td>\n",
       "      <td>0</td>\n",
       "    </tr>\n",
       "    <tr>\n",
       "      <th>5</th>\n",
       "      <td>2018-01-30</td>\n",
       "      <td>Control1061</td>\n",
       "      <td>Control1061.vhdr</td>\n",
       "      <td>F</td>\n",
       "      <td>1951-03-09</td>\n",
       "      <td>66</td>\n",
       "      <td>16</td>\n",
       "      <td>R</td>\n",
       "      <td>29</td>\n",
       "      <td>0</td>\n",
       "    </tr>\n",
       "    <tr>\n",
       "      <th>6</th>\n",
       "      <td>2018-02-06</td>\n",
       "      <td>Control1071</td>\n",
       "      <td>Control1071.vhdr</td>\n",
       "      <td>F</td>\n",
       "      <td>1941-12-02</td>\n",
       "      <td>76</td>\n",
       "      <td>17</td>\n",
       "      <td>R</td>\n",
       "      <td>26</td>\n",
       "      <td>0</td>\n",
       "    </tr>\n",
       "    <tr>\n",
       "      <th>7</th>\n",
       "      <td>2018-02-13</td>\n",
       "      <td>Control1081</td>\n",
       "      <td>Control1081.vhdr</td>\n",
       "      <td>F</td>\n",
       "      <td>1940-11-19</td>\n",
       "      <td>77</td>\n",
       "      <td>13</td>\n",
       "      <td>R</td>\n",
       "      <td>24</td>\n",
       "      <td>0</td>\n",
       "    </tr>\n",
       "    <tr>\n",
       "      <th>8</th>\n",
       "      <td>2018-02-20</td>\n",
       "      <td>Control1091</td>\n",
       "      <td>Control1091.vhdr</td>\n",
       "      <td>F</td>\n",
       "      <td>1945-03-01</td>\n",
       "      <td>72</td>\n",
       "      <td>18</td>\n",
       "      <td>L</td>\n",
       "      <td>28</td>\n",
       "      <td>0</td>\n",
       "    </tr>\n",
       "    <tr>\n",
       "      <th>9</th>\n",
       "      <td>2018-02-27</td>\n",
       "      <td>Control1101</td>\n",
       "      <td>Control1101.vhdr</td>\n",
       "      <td>F</td>\n",
       "      <td>1948-01-11</td>\n",
       "      <td>70</td>\n",
       "      <td>17</td>\n",
       "      <td>R</td>\n",
       "      <td>27</td>\n",
       "      <td>0</td>\n",
       "    </tr>\n",
       "    <tr>\n",
       "      <th>10</th>\n",
       "      <td>2018-03-06</td>\n",
       "      <td>Control1111</td>\n",
       "      <td>Control1111.vhdr</td>\n",
       "      <td>M</td>\n",
       "      <td>1947-08-04</td>\n",
       "      <td>70</td>\n",
       "      <td>16</td>\n",
       "      <td>R</td>\n",
       "      <td>26</td>\n",
       "      <td>0</td>\n",
       "    </tr>\n",
       "    <tr>\n",
       "      <th>11</th>\n",
       "      <td>2018-04-04</td>\n",
       "      <td>Control1121</td>\n",
       "      <td>Control1121.vhdr</td>\n",
       "      <td>F</td>\n",
       "      <td>1954-02-08</td>\n",
       "      <td>64</td>\n",
       "      <td>20</td>\n",
       "      <td>R</td>\n",
       "      <td>28</td>\n",
       "      <td>0</td>\n",
       "    </tr>\n",
       "    <tr>\n",
       "      <th>12</th>\n",
       "      <td>2018-04-12</td>\n",
       "      <td>Control1131</td>\n",
       "      <td>Control1131.vhdr</td>\n",
       "      <td>F</td>\n",
       "      <td>1947-04-04</td>\n",
       "      <td>71</td>\n",
       "      <td>18</td>\n",
       "      <td>R</td>\n",
       "      <td>28</td>\n",
       "      <td>0</td>\n",
       "    </tr>\n",
       "    <tr>\n",
       "      <th>13</th>\n",
       "      <td>2018-04-19</td>\n",
       "      <td>Control1141</td>\n",
       "      <td>Control1141.vhdr</td>\n",
       "      <td>M</td>\n",
       "      <td>1946-11-26</td>\n",
       "      <td>71</td>\n",
       "      <td>18</td>\n",
       "      <td>R</td>\n",
       "      <td>23</td>\n",
       "      <td>0</td>\n",
       "    </tr>\n",
       "    <tr>\n",
       "      <th>14</th>\n",
       "      <td>2018-04-25</td>\n",
       "      <td>Control1151</td>\n",
       "      <td>Control1151.vhdr</td>\n",
       "      <td>M</td>\n",
       "      <td>1946-10-22</td>\n",
       "      <td>71</td>\n",
       "      <td>18</td>\n",
       "      <td>R</td>\n",
       "      <td>27</td>\n",
       "      <td>0</td>\n",
       "    </tr>\n",
       "    <tr>\n",
       "      <th>15</th>\n",
       "      <td>2018-05-02</td>\n",
       "      <td>Control1161</td>\n",
       "      <td>Control1161.vhdr</td>\n",
       "      <td>F</td>\n",
       "      <td>1960-04-13</td>\n",
       "      <td>58</td>\n",
       "      <td>15</td>\n",
       "      <td>R</td>\n",
       "      <td>27</td>\n",
       "      <td>0</td>\n",
       "    </tr>\n",
       "    <tr>\n",
       "      <th>16</th>\n",
       "      <td>2018-05-03</td>\n",
       "      <td>Control1171</td>\n",
       "      <td>Control1171.vhdr</td>\n",
       "      <td>M</td>\n",
       "      <td>1946-06-02</td>\n",
       "      <td>71</td>\n",
       "      <td>18</td>\n",
       "      <td>R</td>\n",
       "      <td>28</td>\n",
       "      <td>0</td>\n",
       "    </tr>\n",
       "    <tr>\n",
       "      <th>17</th>\n",
       "      <td>2018-05-10</td>\n",
       "      <td>Control1181</td>\n",
       "      <td>Control1181.vhdr</td>\n",
       "      <td>M</td>\n",
       "      <td>1941-04-01</td>\n",
       "      <td>77</td>\n",
       "      <td>19</td>\n",
       "      <td>R</td>\n",
       "      <td>26</td>\n",
       "      <td>0</td>\n",
       "    </tr>\n",
       "    <tr>\n",
       "      <th>18</th>\n",
       "      <td>2018-05-11</td>\n",
       "      <td>Control1191</td>\n",
       "      <td>Control1191.vhdr</td>\n",
       "      <td>M</td>\n",
       "      <td>1957-12-12</td>\n",
       "      <td>60</td>\n",
       "      <td>18</td>\n",
       "      <td>L</td>\n",
       "      <td>29</td>\n",
       "      <td>0</td>\n",
       "    </tr>\n",
       "    <tr>\n",
       "      <th>19</th>\n",
       "      <td>2018-05-17</td>\n",
       "      <td>Control1201</td>\n",
       "      <td>Control1201.vhdr</td>\n",
       "      <td>M</td>\n",
       "      <td>1937-09-25</td>\n",
       "      <td>80</td>\n",
       "      <td>20</td>\n",
       "      <td>R</td>\n",
       "      <td>26</td>\n",
       "      <td>0</td>\n",
       "    </tr>\n",
       "    <tr>\n",
       "      <th>20</th>\n",
       "      <td>2018-05-30</td>\n",
       "      <td>Control1211</td>\n",
       "      <td>Control1211.vhdr</td>\n",
       "      <td>F</td>\n",
       "      <td>1964-05-15</td>\n",
       "      <td>54</td>\n",
       "      <td>12</td>\n",
       "      <td>R</td>\n",
       "      <td>28</td>\n",
       "      <td>0</td>\n",
       "    </tr>\n",
       "    <tr>\n",
       "      <th>21</th>\n",
       "      <td>2018-05-30</td>\n",
       "      <td>Control1221</td>\n",
       "      <td>Control1221.vhdr</td>\n",
       "      <td>F</td>\n",
       "      <td>1960-10-07</td>\n",
       "      <td>57</td>\n",
       "      <td>13</td>\n",
       "      <td>R</td>\n",
       "      <td>27</td>\n",
       "      <td>0</td>\n",
       "    </tr>\n",
       "    <tr>\n",
       "      <th>22</th>\n",
       "      <td>2018-06-11</td>\n",
       "      <td>Control1231</td>\n",
       "      <td>Control1231.vhdr</td>\n",
       "      <td>F</td>\n",
       "      <td>1957-01-05</td>\n",
       "      <td>61</td>\n",
       "      <td>16</td>\n",
       "      <td>R</td>\n",
       "      <td>29</td>\n",
       "      <td>0</td>\n",
       "    </tr>\n",
       "    <tr>\n",
       "      <th>23</th>\n",
       "      <td>2018-06-14</td>\n",
       "      <td>Control1241</td>\n",
       "      <td>Control1241.vhdr</td>\n",
       "      <td>M</td>\n",
       "      <td>1938-04-02</td>\n",
       "      <td>80</td>\n",
       "      <td>18</td>\n",
       "      <td>R</td>\n",
       "      <td>24</td>\n",
       "      <td>0</td>\n",
       "    </tr>\n",
       "    <tr>\n",
       "      <th>24</th>\n",
       "      <td>2018-06-18</td>\n",
       "      <td>Control1251</td>\n",
       "      <td>Control1251.vhdr</td>\n",
       "      <td>F</td>\n",
       "      <td>1934-06-11</td>\n",
       "      <td>84</td>\n",
       "      <td>16</td>\n",
       "      <td>R</td>\n",
       "      <td>25</td>\n",
       "      <td>0</td>\n",
       "    </tr>\n",
       "    <tr>\n",
       "      <th>25</th>\n",
       "      <td>2018-06-22</td>\n",
       "      <td>Control1261</td>\n",
       "      <td>Control1261.vhdr</td>\n",
       "      <td>M</td>\n",
       "      <td>1946-09-17</td>\n",
       "      <td>71</td>\n",
       "      <td>18</td>\n",
       "      <td>R</td>\n",
       "      <td>27</td>\n",
       "      <td>0</td>\n",
       "    </tr>\n",
       "    <tr>\n",
       "      <th>26</th>\n",
       "      <td>2018-07-05</td>\n",
       "      <td>Control1271</td>\n",
       "      <td>Control1271.vhdr</td>\n",
       "      <td>M</td>\n",
       "      <td>1949-07-15</td>\n",
       "      <td>68</td>\n",
       "      <td>17</td>\n",
       "      <td>R</td>\n",
       "      <td>26</td>\n",
       "      <td>0</td>\n",
       "    </tr>\n",
       "    <tr>\n",
       "      <th>27</th>\n",
       "      <td>2018-07-09</td>\n",
       "      <td>Control1281</td>\n",
       "      <td>Control1281.vhdr</td>\n",
       "      <td>M</td>\n",
       "      <td>1953-09-22</td>\n",
       "      <td>64</td>\n",
       "      <td>14</td>\n",
       "      <td>R</td>\n",
       "      <td>26</td>\n",
       "      <td>0</td>\n",
       "    </tr>\n",
       "    <tr>\n",
       "      <th>28</th>\n",
       "      <td>2018-07-18</td>\n",
       "      <td>Control1291</td>\n",
       "      <td>Control1291.vhdr</td>\n",
       "      <td>F</td>\n",
       "      <td>1949-12-06</td>\n",
       "      <td>68</td>\n",
       "      <td>16</td>\n",
       "      <td>R</td>\n",
       "      <td>28</td>\n",
       "      <td>0</td>\n",
       "    </tr>\n",
       "    <tr>\n",
       "      <th>29</th>\n",
       "      <td>2018-09-05</td>\n",
       "      <td>Control1301</td>\n",
       "      <td>Control1301.vhdr</td>\n",
       "      <td>F</td>\n",
       "      <td>1945-04-21</td>\n",
       "      <td>73</td>\n",
       "      <td>14</td>\n",
       "      <td>R</td>\n",
       "      <td>30</td>\n",
       "      <td>0</td>\n",
       "    </tr>\n",
       "    <tr>\n",
       "      <th>30</th>\n",
       "      <td>2018-09-06</td>\n",
       "      <td>Control1311</td>\n",
       "      <td>Control1311.vhdr</td>\n",
       "      <td>M</td>\n",
       "      <td>1933-03-16</td>\n",
       "      <td>85</td>\n",
       "      <td>16</td>\n",
       "      <td>R</td>\n",
       "      <td>28</td>\n",
       "      <td>0</td>\n",
       "    </tr>\n",
       "    <tr>\n",
       "      <th>31</th>\n",
       "      <td>2018-09-07</td>\n",
       "      <td>Control1321</td>\n",
       "      <td>Control1321.vhdr</td>\n",
       "      <td>M</td>\n",
       "      <td>1945-09-11</td>\n",
       "      <td>72</td>\n",
       "      <td>16</td>\n",
       "      <td>R</td>\n",
       "      <td>28</td>\n",
       "      <td>0</td>\n",
       "    </tr>\n",
       "    <tr>\n",
       "      <th>32</th>\n",
       "      <td>2018-10-18</td>\n",
       "      <td>Control1331</td>\n",
       "      <td>Control1331.vhdr</td>\n",
       "      <td>M</td>\n",
       "      <td>1945-01-19</td>\n",
       "      <td>73</td>\n",
       "      <td>14</td>\n",
       "      <td>R</td>\n",
       "      <td>22</td>\n",
       "      <td>0</td>\n",
       "    </tr>\n",
       "    <tr>\n",
       "      <th>33</th>\n",
       "      <td>2018-09-19</td>\n",
       "      <td>Control1341</td>\n",
       "      <td>Control1341.vhdr</td>\n",
       "      <td>M</td>\n",
       "      <td>1939-04-10</td>\n",
       "      <td>79</td>\n",
       "      <td>16</td>\n",
       "      <td>R</td>\n",
       "      <td>24</td>\n",
       "      <td>0</td>\n",
       "    </tr>\n",
       "    <tr>\n",
       "      <th>34</th>\n",
       "      <td>2018-09-20</td>\n",
       "      <td>Control1351</td>\n",
       "      <td>Control1351.vhdr</td>\n",
       "      <td>M</td>\n",
       "      <td>1943-10-22</td>\n",
       "      <td>74</td>\n",
       "      <td>20</td>\n",
       "      <td>R</td>\n",
       "      <td>25</td>\n",
       "      <td>0</td>\n",
       "    </tr>\n",
       "    <tr>\n",
       "      <th>35</th>\n",
       "      <td>2018-09-21</td>\n",
       "      <td>Control1361</td>\n",
       "      <td>Control1361.vhdr</td>\n",
       "      <td>M</td>\n",
       "      <td>1940-01-27</td>\n",
       "      <td>78</td>\n",
       "      <td>16</td>\n",
       "      <td>R</td>\n",
       "      <td>25</td>\n",
       "      <td>0</td>\n",
       "    </tr>\n",
       "    <tr>\n",
       "      <th>36</th>\n",
       "      <td>2018-09-27</td>\n",
       "      <td>Control1371</td>\n",
       "      <td>Control1371.vhdr</td>\n",
       "      <td>F</td>\n",
       "      <td>1944-05-22</td>\n",
       "      <td>74</td>\n",
       "      <td>14</td>\n",
       "      <td>R</td>\n",
       "      <td>25</td>\n",
       "      <td>0</td>\n",
       "    </tr>\n",
       "    <tr>\n",
       "      <th>37</th>\n",
       "      <td>2018-10-17</td>\n",
       "      <td>Control1381</td>\n",
       "      <td>Control1381.vhdr</td>\n",
       "      <td>M</td>\n",
       "      <td>1948-09-11</td>\n",
       "      <td>70</td>\n",
       "      <td>16</td>\n",
       "      <td>R</td>\n",
       "      <td>30</td>\n",
       "      <td>0</td>\n",
       "    </tr>\n",
       "    <tr>\n",
       "      <th>38</th>\n",
       "      <td>2018-10-10</td>\n",
       "      <td>Control1391</td>\n",
       "      <td>Control1391.vhdr</td>\n",
       "      <td>M</td>\n",
       "      <td>1942-02-18</td>\n",
       "      <td>76</td>\n",
       "      <td>16</td>\n",
       "      <td>R</td>\n",
       "      <td>28</td>\n",
       "      <td>0</td>\n",
       "    </tr>\n",
       "    <tr>\n",
       "      <th>39</th>\n",
       "      <td>2019-09-03</td>\n",
       "      <td>Control1401</td>\n",
       "      <td>Control1401.vhdr</td>\n",
       "      <td>F</td>\n",
       "      <td>1948-08-15</td>\n",
       "      <td>71</td>\n",
       "      <td>16</td>\n",
       "      <td>R</td>\n",
       "      <td>28</td>\n",
       "      <td>0</td>\n",
       "    </tr>\n",
       "    <tr>\n",
       "      <th>40</th>\n",
       "      <td>2019-10-02</td>\n",
       "      <td>Control1411</td>\n",
       "      <td>Control1411.vhdr</td>\n",
       "      <td>F</td>\n",
       "      <td>1933-01-10</td>\n",
       "      <td>86</td>\n",
       "      <td>12</td>\n",
       "      <td>R</td>\n",
       "      <td>27</td>\n",
       "      <td>0</td>\n",
       "    </tr>\n",
       "  </tbody>\n",
       "</table>\n",
       "</div>"
      ],
      "text/plain": [
       "         Date         Rest         File_name Gender Date of Birth  Age  \\\n",
       "0  2017-11-14  Control1001  Control1001.vhdr      M    1956-02-17   61   \n",
       "1  2018-01-02  Control1021  Control1021.vhdr      M    1937-04-05   80   \n",
       "2  2018-01-09  Control1031  Control1031.vhdr      M    1941-06-02   76   \n",
       "3  2018-01-16  Control1041  Control1041.vhdr      F    1946-02-07   71   \n",
       "4  2018-01-23  Control1051  Control1051.vhdr      M    1953-05-29   64   \n",
       "5  2018-01-30  Control1061  Control1061.vhdr      F    1951-03-09   66   \n",
       "6  2018-02-06  Control1071  Control1071.vhdr      F    1941-12-02   76   \n",
       "7  2018-02-13  Control1081  Control1081.vhdr      F    1940-11-19   77   \n",
       "8  2018-02-20  Control1091  Control1091.vhdr      F    1945-03-01   72   \n",
       "9  2018-02-27  Control1101  Control1101.vhdr      F    1948-01-11   70   \n",
       "10 2018-03-06  Control1111  Control1111.vhdr      M    1947-08-04   70   \n",
       "11 2018-04-04  Control1121  Control1121.vhdr      F    1954-02-08   64   \n",
       "12 2018-04-12  Control1131  Control1131.vhdr      F    1947-04-04   71   \n",
       "13 2018-04-19  Control1141  Control1141.vhdr      M    1946-11-26   71   \n",
       "14 2018-04-25  Control1151  Control1151.vhdr      M    1946-10-22   71   \n",
       "15 2018-05-02  Control1161  Control1161.vhdr      F    1960-04-13   58   \n",
       "16 2018-05-03  Control1171  Control1171.vhdr      M    1946-06-02   71   \n",
       "17 2018-05-10  Control1181  Control1181.vhdr      M    1941-04-01   77   \n",
       "18 2018-05-11  Control1191  Control1191.vhdr      M    1957-12-12   60   \n",
       "19 2018-05-17  Control1201  Control1201.vhdr      M    1937-09-25   80   \n",
       "20 2018-05-30  Control1211  Control1211.vhdr      F    1964-05-15   54   \n",
       "21 2018-05-30  Control1221  Control1221.vhdr      F    1960-10-07   57   \n",
       "22 2018-06-11  Control1231  Control1231.vhdr      F    1957-01-05   61   \n",
       "23 2018-06-14  Control1241  Control1241.vhdr      M    1938-04-02   80   \n",
       "24 2018-06-18  Control1251  Control1251.vhdr      F    1934-06-11   84   \n",
       "25 2018-06-22  Control1261  Control1261.vhdr      M    1946-09-17   71   \n",
       "26 2018-07-05  Control1271  Control1271.vhdr      M    1949-07-15   68   \n",
       "27 2018-07-09  Control1281  Control1281.vhdr      M    1953-09-22   64   \n",
       "28 2018-07-18  Control1291  Control1291.vhdr      F    1949-12-06   68   \n",
       "29 2018-09-05  Control1301  Control1301.vhdr      F    1945-04-21   73   \n",
       "30 2018-09-06  Control1311  Control1311.vhdr      M    1933-03-16   85   \n",
       "31 2018-09-07  Control1321  Control1321.vhdr      M    1945-09-11   72   \n",
       "32 2018-10-18  Control1331  Control1331.vhdr      M    1945-01-19   73   \n",
       "33 2018-09-19  Control1341  Control1341.vhdr      M    1939-04-10   79   \n",
       "34 2018-09-20  Control1351  Control1351.vhdr      M    1943-10-22   74   \n",
       "35 2018-09-21  Control1361  Control1361.vhdr      M    1940-01-27   78   \n",
       "36 2018-09-27  Control1371  Control1371.vhdr      F    1944-05-22   74   \n",
       "37 2018-10-17  Control1381  Control1381.vhdr      M    1948-09-11   70   \n",
       "38 2018-10-10  Control1391  Control1391.vhdr      M    1942-02-18   76   \n",
       "39 2019-09-03  Control1401  Control1401.vhdr      F    1948-08-15   71   \n",
       "40 2019-10-02  Control1411  Control1411.vhdr      F    1933-01-10   86   \n",
       "\n",
       "    Schooling Handedness  MOCA  Category  \n",
       "0          16          R    26         0  \n",
       "1          20          R    26         0  \n",
       "2          18          R    25         0  \n",
       "3          20          L    27         0  \n",
       "4          18          R    26         0  \n",
       "5          16          R    29         0  \n",
       "6          17          R    26         0  \n",
       "7          13          R    24         0  \n",
       "8          18          L    28         0  \n",
       "9          17          R    27         0  \n",
       "10         16          R    26         0  \n",
       "11         20          R    28         0  \n",
       "12         18          R    28         0  \n",
       "13         18          R    23         0  \n",
       "14         18          R    27         0  \n",
       "15         15          R    27         0  \n",
       "16         18          R    28         0  \n",
       "17         19          R    26         0  \n",
       "18         18          L    29         0  \n",
       "19         20          R    26         0  \n",
       "20         12          R    28         0  \n",
       "21         13          R    27         0  \n",
       "22         16          R    29         0  \n",
       "23         18          R    24         0  \n",
       "24         16          R    25         0  \n",
       "25         18          R    27         0  \n",
       "26         17          R    26         0  \n",
       "27         14          R    26         0  \n",
       "28         16          R    28         0  \n",
       "29         14          R    30         0  \n",
       "30         16          R    28         0  \n",
       "31         16          R    28         0  \n",
       "32         14          R    22         0  \n",
       "33         16          R    24         0  \n",
       "34         20          R    25         0  \n",
       "35         16          R    25         0  \n",
       "36         14          R    25         0  \n",
       "37         16          R    30         0  \n",
       "38         16          R    28         0  \n",
       "39         16          R    28         0  \n",
       "40         12          R    27         0  "
      ]
     },
     "execution_count": 12,
     "metadata": {},
     "output_type": "execute_result"
    }
   ],
   "source": [
    "import pandas as pd\n",
    "df_text = pd.read_excel(r'C:\\Users\\shomo\\Downloads\\Participants_Info.xlsx')\n",
    "df_text"
   ]
  },
  {
   "cell_type": "code",
   "execution_count": 13,
   "id": "df3d7464",
   "metadata": {},
   "outputs": [],
   "source": [
    "file_path_text = r\"C:\\Users\\shomo\\Downloads\\Participants_Info.xlsx\"\n",
    "xls = pd.read_excel(file_path_text, sheet_name=['Control', 'NonFreezer', 'Freezer'])"
   ]
  },
  {
   "cell_type": "code",
   "execution_count": 14,
   "id": "2400df9e",
   "metadata": {},
   "outputs": [
    {
     "name": "stdout",
     "output_type": "stream",
     "text": [
      "        Date         Rest         File_name Gender Date of Birth  Age  \\\n",
      "0 2017-11-14  Control1001  Control1001.vhdr      M    1956-02-17   61   \n",
      "1 2018-01-02  Control1021  Control1021.vhdr      M    1937-04-05   80   \n",
      "2 2018-01-09  Control1031  Control1031.vhdr      M    1941-06-02   76   \n",
      "3 2018-01-16  Control1041  Control1041.vhdr      F    1946-02-07   71   \n",
      "4 2018-01-23  Control1051  Control1051.vhdr      M    1953-05-29   64   \n",
      "\n",
      "   Schooling Handedness  MOCA  Category  Number  Disease Duration (years)  \\\n",
      "0         16          R    26         0     NaN                       NaN   \n",
      "1         20          R    26         0     NaN                       NaN   \n",
      "2         18          R    25         0     NaN                       NaN   \n",
      "3         20          L    27         0     NaN                       NaN   \n",
      "4         18          R    26         0     NaN                       NaN   \n",
      "\n",
      "   Freezing_of_Gait  FOGQ_3  LEDD  UPDRS III  \n",
      "0               NaN     NaN   NaN        NaN  \n",
      "1               NaN     NaN   NaN        NaN  \n",
      "2               NaN     NaN   NaN        NaN  \n",
      "3               NaN     NaN   NaN        NaN  \n",
      "4               NaN     NaN   NaN        NaN  \n"
     ]
    }
   ],
   "source": [
    "combined_df = pd.concat(xls.values(), ignore_index=True)\n",
    "print(combined_df.head())"
   ]
  },
  {
   "cell_type": "code",
   "execution_count": 15,
   "id": "a8d9217c",
   "metadata": {},
   "outputs": [
    {
     "name": "stdout",
     "output_type": "stream",
     "text": [
      "0    82\n",
      "1    42\n",
      "Name: Category, dtype: int64\n"
     ]
    }
   ],
   "source": [
    "counts = combined_df['Category'].value_counts()\n",
    "print(counts)"
   ]
  },
  {
   "cell_type": "code",
   "execution_count": 16,
   "id": "047737bc",
   "metadata": {},
   "outputs": [
    {
     "name": "stderr",
     "output_type": "stream",
     "text": [
      "C:\\Users\\shomo\\AppData\\Local\\Temp\\ipykernel_15136\\603122760.py:9: FutureWarning: The default value of numeric_only in DataFrameGroupBy.mean is deprecated. In a future version, numeric_only will default to False. Either specify numeric_only or select only columns which should be valid for the function.\n",
      "  means = scaled_df.groupby('Category').mean()\n"
     ]
    },
    {
     "data": {
      "image/png": "[encoded data removed]",
      "text/plain": [
       "<Figure size 1000x600 with 1 Axes>"
      ]
     },
     "metadata": {},
     "output_type": "display_data"
    }
   ],
   "source": [
    "import pandas as pd\n",
    "from sklearn.preprocessing import MinMaxScaler\n",
    "scaler = MinMaxScaler()  \n",
    "scaled_df = combined_df.copy()\n",
    "scaled_df = scaled_df.drop(['FOGQ_3', 'Number'], axis=1)\n",
    "numeric_columns = ['Schooling', 'MOCA', 'Freezing_of_Gait', 'LEDD', 'UPDRS III', 'Age',  'Disease Duration (years)']  # Columns to scale\n",
    "scaled_df[numeric_columns] = scaler.fit_transform(combined_df[numeric_columns])\n",
    "\n",
    "means = scaled_df.groupby('Category').mean()  \n",
    "\n",
    "ax = means.plot(kind='bar', figsize=(10, 6), legend=True)\n",
    "plt.title('Scaled Mean Values for different textual features by Category FOG vs NFOG')\n",
    "plt.ylabel('Mean Value (Scaled)')\n",
    "plt.xlabel('Category')\n",
    "\n",
    "for container in ax.containers:\n",
    "    ax.bar_label(container, fmt='%.2f', label_type='edge')  \n",
    "\n",
    "\n",
    "plt.tight_layout()\n",
    "\n",
    "plt.savefig('final_scaled_mean_values_by_category.png')\n",
    "plt.show()"
   ]
  },
  {
   "cell_type": "code",
   "execution_count": 17,
   "id": "dfd129e7",
   "metadata": {},
   "outputs": [
    {
     "name": "stdout",
     "output_type": "stream",
     "text": [
      "          Date         Rest         File_name Gender Date of Birth  Age  \\\n",
      "0   2017-11-14  Control1001  Control1001.vhdr      M    1956-02-17   61   \n",
      "1   2018-01-02  Control1021  Control1021.vhdr      M    1937-04-05   80   \n",
      "2   2018-01-09  Control1031  Control1031.vhdr      M    1941-06-02   76   \n",
      "3   2018-01-16  Control1041  Control1041.vhdr      F    1946-02-07   71   \n",
      "4   2018-01-23  Control1051  Control1051.vhdr      M    1953-05-29   64   \n",
      "..         ...          ...               ...    ...           ...  ...   \n",
      "119 2019-04-16       PD1591       PD1591.vhdr      M    1951-06-02   67   \n",
      "120 2019-04-25       PD1611       PD1611.vhdr      M    1956-10-15   62   \n",
      "121 2019-12-03       PD1761       PD1761.vhdr      M    1945-06-30   74   \n",
      "122 2018-04-10       PD1121       PD1121.vhdr      M    1940-03-20   78   \n",
      "123 2018-05-22       PD1181       PD1181.vhdr      F    1943-11-11   74   \n",
      "\n",
      "     Schooling Handedness  MOCA  Category  Number  Disease Duration (years)  \\\n",
      "0           16          R    26         0     0.0                       0.0   \n",
      "1           20          R    26         0     0.0                       0.0   \n",
      "2           18          R    25         0     0.0                       0.0   \n",
      "3           20          L    27         0     0.0                       0.0   \n",
      "4           18          R    26         0     0.0                       0.0   \n",
      "..         ...        ...   ...       ...     ...                       ...   \n",
      "119         16          R    28         1    60.0                       3.0   \n",
      "120         14          R    28         1    62.0                      24.0   \n",
      "121         11          R    23         1    77.0                       2.0   \n",
      "122         12          R    16         1    13.0                      10.0   \n",
      "123         18          R    25         1    19.0                       5.0   \n",
      "\n",
      "     Freezing_of_Gait  FOGQ_3    LEDD  UPDRS III  \n",
      "0                 0.0     0.0     0.0        0.0  \n",
      "1                 0.0     0.0     0.0        0.0  \n",
      "2                 0.0     0.0     0.0        0.0  \n",
      "3                 0.0     0.0     0.0        0.0  \n",
      "4                 0.0     0.0     0.0        0.0  \n",
      "..                ...     ...     ...        ...  \n",
      "119              10.0     3.0  1100.0       22.0  \n",
      "120              13.0     3.0   950.0        8.0  \n",
      "121              14.0     3.0  1330.0       19.0  \n",
      "122              21.0     4.0  1500.0       20.0  \n",
      "123              16.0     4.0   350.0       27.0  \n",
      "\n",
      "[124 rows x 16 columns]\n"
     ]
    }
   ],
   "source": [
    "combined_df.fillna(0, inplace=True)\n",
    "print(combined_df)"
   ]
  },
  {
   "cell_type": "markdown",
   "id": "620fb7f8",
   "metadata": {},
   "source": [
    "# 5. Merging Signal Features with Text Features"
   ]
  },
  {
   "cell_type": "code",
   "execution_count": 18,
   "id": "cfe131e2",
   "metadata": {},
   "outputs": [
    {
     "name": "stdout",
     "output_type": "stream",
     "text": [
      "            Theta         Alpha          Beta         File_name       Date  \\\n",
      "0    3.174788e-09  6.747947e-10  7.561961e-10  Control1001.vhdr 2017-11-14   \n",
      "1    4.439765e-09  1.574872e-09  5.682345e-10  Control1021.vhdr 2018-01-02   \n",
      "2    4.655770e-09  9.068125e-10  4.200528e-10  Control1031.vhdr 2018-01-09   \n",
      "3    8.230544e-09  2.913235e-09  1.311144e-09  Control1041.vhdr 2018-01-16   \n",
      "4    2.769243e-09  5.816624e-10  3.722200e-10  Control1051.vhdr 2018-01-23   \n",
      "..            ...           ...           ...               ...        ...   \n",
      "119  2.001747e+01  3.716739e+00  2.423846e-01       PD1781.vhdr 2019-12-04   \n",
      "120  5.348969e-10  6.216397e-10  3.366794e-10       PD1791.vhdr 2019-12-04   \n",
      "121  7.981178e-10  4.237851e-09  2.679104e-10       PD1801.vhdr 2019-12-10   \n",
      "122  1.213459e-08  4.318471e-09  5.205654e-10       PD1811.vhdr 2019-12-17   \n",
      "123  3.330912e-09  2.131760e-09  3.707340e-10       PD1821.vhdr 2020-01-06   \n",
      "\n",
      "            Rest Gender Date of Birth  Age  Schooling Handedness  MOCA  \\\n",
      "0    Control1001      M    1956-02-17   61         16          R    26   \n",
      "1    Control1021      M    1937-04-05   80         20          R    26   \n",
      "2    Control1031      M    1941-06-02   76         18          R    25   \n",
      "3    Control1041      F    1946-02-07   71         20          L    27   \n",
      "4    Control1051      M    1953-05-29   64         18          R    26   \n",
      "..           ...    ...           ...  ...        ...        ...   ...   \n",
      "119       PD1781      M    1953-03-09   66         11          R    22   \n",
      "120       PD1791      F    1952-12-03   67         11          R    28   \n",
      "121       PD1801      M    1945-02-17   74         12          R    27   \n",
      "122       PD1811      M    1950-01-25   69         16          R    30   \n",
      "123       PD1821      F    1958-10-12   61         12          R    28   \n",
      "\n",
      "     Category  Number  Disease Duration (years)  Freezing_of_Gait  FOGQ_3  \\\n",
      "0           0     0.0                       0.0               0.0     0.0   \n",
      "1           0     0.0                       0.0               0.0     0.0   \n",
      "2           0     0.0                       0.0               0.0     0.0   \n",
      "3           0     0.0                       0.0               0.0     0.0   \n",
      "4           0     0.0                       0.0               0.0     0.0   \n",
      "..        ...     ...                       ...               ...     ...   \n",
      "119         1    79.0                       1.0              12.0     2.0   \n",
      "120         0    80.0                       2.0               2.0     0.0   \n",
      "121         1    81.0                       4.0               5.0     1.0   \n",
      "122         0    82.0                       1.0               0.0     0.0   \n",
      "123         0    83.0                       3.0               0.0     0.0   \n",
      "\n",
      "       LEDD  UPDRS III  \n",
      "0       0.0        0.0  \n",
      "1       0.0        0.0  \n",
      "2       0.0        0.0  \n",
      "3       0.0        0.0  \n",
      "4       0.0        0.0  \n",
      "..      ...        ...  \n",
      "119   900.0        4.0  \n",
      "120   300.0       20.0  \n",
      "121     0.0       18.0  \n",
      "122   300.0       15.0  \n",
      "123  1600.0        9.0  \n",
      "\n",
      "[124 rows x 19 columns]\n"
     ]
    }
   ],
   "source": [
    "import pandas as pd\n",
    "\n",
    "merged_df = pd.merge(df, combined_df, on='File_name', how='inner')\n",
    "print(merged_df)"
   ]
  },
  {
   "cell_type": "markdown",
   "id": "7ce6dccf",
   "metadata": {},
   "source": [
    "# 6. Baseline Model Accuracy: Applying basic XGB and Random Forest Algorithms to see the accuracy of the baseline model including only Signal Features"
   ]
  },
  {
   "cell_type": "markdown",
   "id": "945ccc04",
   "metadata": {},
   "source": [
    "## 6.1 Model Accuracy without Feature Engineering"
   ]
  },
  {
   "cell_type": "code",
   "execution_count": 19,
   "id": "1e374491",
   "metadata": {},
   "outputs": [],
   "source": [
    "import pandas as pd\n",
    "\n",
    "baseline_df = merged_df.copy()"
   ]
  },
  {
   "cell_type": "code",
   "execution_count": 20,
   "id": "e5275980",
   "metadata": {},
   "outputs": [
    {
     "name": "stdout",
     "output_type": "stream",
     "text": [
      "            Theta         Alpha          Beta  Category\n",
      "0    3.174788e-09  6.747947e-10  7.561961e-10         0\n",
      "1    4.439765e-09  1.574872e-09  5.682345e-10         0\n",
      "2    4.655770e-09  9.068125e-10  4.200528e-10         0\n",
      "3    8.230544e-09  2.913235e-09  1.311144e-09         0\n",
      "4    2.769243e-09  5.816624e-10  3.722200e-10         0\n",
      "..            ...           ...           ...       ...\n",
      "119  2.001747e+01  3.716739e+00  2.423846e-01         1\n",
      "120  5.348969e-10  6.216397e-10  3.366794e-10         0\n",
      "121  7.981178e-10  4.237851e-09  2.679104e-10         1\n",
      "122  1.213459e-08  4.318471e-09  5.205654e-10         0\n",
      "123  3.330912e-09  2.131760e-09  3.707340e-10         0\n",
      "\n",
      "[124 rows x 4 columns]\n"
     ]
    }
   ],
   "source": [
    "columns_to_keep = ['Theta', 'Alpha', 'Beta', 'Category']\n",
    "\n",
    "baseline_df = baseline_df[columns_to_keep]\n",
    "\n",
    "print(baseline_df)"
   ]
  },
  {
   "cell_type": "code",
   "execution_count": 21,
   "id": "7656d541",
   "metadata": {},
   "outputs": [],
   "source": [
    "X_baseline = baseline_df.drop(['Category'], axis=1).values\n",
    "y_baseline = baseline_df['Category'].values"
   ]
  },
  {
   "cell_type": "code",
   "execution_count": 22,
   "id": "503bca29",
   "metadata": {},
   "outputs": [
    {
     "name": "stdout",
     "output_type": "stream",
     "text": [
      "(124, 3)\n",
      "(124,)\n"
     ]
    }
   ],
   "source": [
    "print(X_baseline.shape)\n",
    "print(y_baseline.shape)"
   ]
  },
  {
   "cell_type": "code",
   "execution_count": 23,
   "id": "4d1028b6",
   "metadata": {},
   "outputs": [
    {
     "name": "stdout",
     "output_type": "stream",
     "text": [
      "[0 0 0 0 0 0 0 0 0 0 0 0 0 0 0 0 0 0 0 0 0 0 0 0 0 0 0 0 0 0 0 0 0 0 0 0 0\n",
      " 0 0 0 0 1 1 1 0 1 1 0 1 1 0 1 1 1 0 1 0 0 1 1 1 1 0 1 0 1 1 0 1 1 0 1 1 1\n",
      " 0 1 1 0 0 0 1 0 0 0 0 0 0 1 1 0 0 0 0 0 1 1 1 1 1 1 1 0 1 0 1 1 0 0 0 0 0\n",
      " 0 0 0 1 0 0 1 0 1 0 1 0 0]\n"
     ]
    }
   ],
   "source": [
    "print(y_baseline)"
   ]
  },
  {
   "cell_type": "code",
   "execution_count": 24,
   "id": "23dee64e",
   "metadata": {},
   "outputs": [],
   "source": [
    "import xgboost as xgb\n",
    "from xgboost import XGBClassifier\n",
    "from sklearn.model_selection import train_test_split\n",
    "from sklearn.ensemble import RandomForestClassifier\n",
    "from sklearn.metrics import accuracy_score\n",
    "import numpy as np\n",
    "\n",
    "X_train, X_test, y_train, y_test = train_test_split(X_baseline, y_baseline, test_size=0.2, random_state=42)"
   ]
  },
  {
   "cell_type": "code",
   "execution_count": 25,
   "id": "5c59aadd",
   "metadata": {},
   "outputs": [
    {
     "data": {
      "text/html": [
       "<style>#sk-container-id-1 {color: black;background-color: white;}#sk-container-id-1 pre{padding: 0;}#sk-container-id-1 div.sk-toggleable {background-color: white;}#sk-container-id-1 label.sk-toggleable__label {cursor: pointer;display: block;width: 100%;margin-bottom: 0;padding: 0.3em;box-sizing: border-box;text-align: center;}#sk-container-id-1 label.sk-toggleable__label-arrow:before {content: \"▸\";float: left;margin-right: 0.25em;color: #696969;}#sk-container-id-1 label.sk-toggleable__label-arrow:hover:before {color: black;}#sk-container-id-1 div.sk-estimator:hover label.sk-toggleable__label-arrow:before {color: black;}#sk-container-id-1 div.sk-toggleable__content {max-height: 0;max-width: 0;overflow: hidden;text-align: left;background-color: #f0f8ff;}#sk-container-id-1 div.sk-toggleable__content pre {margin: 0.2em;color: black;border-radius: 0.25em;background-color: #f0f8ff;}#sk-container-id-1 input.sk-toggleable__control:checked~div.sk-toggleable__content {max-height: 200px;max-width: 100%;overflow: auto;}#sk-container-id-1 input.sk-toggleable__control:checked~label.sk-toggleable__label-arrow:before {content: \"▾\";}#sk-container-id-1 div.sk-estimator input.sk-toggleable__control:checked~label.sk-toggleable__label {background-color: #d4ebff;}#sk-container-id-1 div.sk-label input.sk-toggleable__control:checked~label.sk-toggleable__label {background-color: #d4ebff;}#sk-container-id-1 input.sk-hidden--visually {border: 0;clip: rect(1px 1px 1px 1px);clip: rect(1px, 1px, 1px, 1px);height: 1px;margin: -1px;overflow: hidden;padding: 0;position: absolute;width: 1px;}#sk-container-id-1 div.sk-estimator {font-family: monospace;background-color: #f0f8ff;border: 1px dotted black;border-radius: 0.25em;box-sizing: border-box;margin-bottom: 0.5em;}#sk-container-id-1 div.sk-estimator:hover {background-color: #d4ebff;}#sk-container-id-1 div.sk-parallel-item::after {content: \"\";width: 100%;border-bottom: 1px solid gray;flex-grow: 1;}#sk-container-id-1 div.sk-label:hover label.sk-toggleable__label {background-color: #d4ebff;}#sk-container-id-1 div.sk-serial::before {content: \"\";position: absolute;border-left: 1px solid gray;box-sizing: border-box;top: 0;bottom: 0;left: 50%;z-index: 0;}#sk-container-id-1 div.sk-serial {display: flex;flex-direction: column;align-items: center;background-color: white;padding-right: 0.2em;padding-left: 0.2em;position: relative;}#sk-container-id-1 div.sk-item {position: relative;z-index: 1;}#sk-container-id-1 div.sk-parallel {display: flex;align-items: stretch;justify-content: center;background-color: white;position: relative;}#sk-container-id-1 div.sk-item::before, #sk-container-id-1 div.sk-parallel-item::before {content: \"\";position: absolute;border-left: 1px solid gray;box-sizing: border-box;top: 0;bottom: 0;left: 50%;z-index: -1;}#sk-container-id-1 div.sk-parallel-item {display: flex;flex-direction: column;z-index: 1;position: relative;background-color: white;}#sk-container-id-1 div.sk-parallel-item:first-child::after {align-self: flex-end;width: 50%;}#sk-container-id-1 div.sk-parallel-item:last-child::after {align-self: flex-start;width: 50%;}#sk-container-id-1 div.sk-parallel-item:only-child::after {width: 0;}#sk-container-id-1 div.sk-dashed-wrapped {border: 1px dashed gray;margin: 0 0.4em 0.5em 0.4em;box-sizing: border-box;padding-bottom: 0.4em;background-color: white;}#sk-container-id-1 div.sk-label label {font-family: monospace;font-weight: bold;display: inline-block;line-height: 1.2em;}#sk-container-id-1 div.sk-label-container {text-align: center;}#sk-container-id-1 div.sk-container {/* jupyter's `normalize.less` sets `[hidden] { display: none; }` but bootstrap.min.css set `[hidden] { display: none !important; }` so we also need the `!important` here to be able to override the default hidden behavior on the sphinx rendered scikit-learn.org. See: https://github.com/scikit-learn/scikit-learn/issues/21755 */display: inline-block !important;position: relative;}#sk-container-id-1 div.sk-text-repr-fallback {display: none;}</style><div id=\"sk-container-id-1\" class=\"sk-top-container\"><div class=\"sk-text-repr-fallback\"><pre>XGBClassifier(base_score=None, booster=None, callbacks=None,\n",
       "              colsample_bylevel=None, colsample_bynode=None,\n",
       "              colsample_bytree=None, device=None, early_stopping_rounds=None,\n",
       "              enable_categorical=False, eval_metric=None, feature_types=None,\n",
       "              gamma=None, grow_policy=None, importance_type=None,\n",
       "              interaction_constraints=None, learning_rate=None, max_bin=None,\n",
       "              max_cat_threshold=None, max_cat_to_onehot=None,\n",
       "              max_delta_step=None, max_depth=None, max_leaves=None,\n",
       "              min_child_weight=None, missing=nan, monotone_constraints=None,\n",
       "              multi_strategy=None, n_estimators=None, n_jobs=None,\n",
       "              num_parallel_tree=None, random_state=None, ...)</pre><b>In a Jupyter environment, please rerun this cell to show the HTML representation or trust the notebook. <br />On GitHub, the HTML representation is unable to render, please try loading this page with nbviewer.org.</b></div><div class=\"sk-container\" hidden><div class=\"sk-item\"><div class=\"sk-estimator sk-toggleable\"><input class=\"sk-toggleable__control sk-hidden--visually\" id=\"sk-estimator-id-1\" type=\"checkbox\" checked><label for=\"sk-estimator-id-1\" class=\"sk-toggleable__label sk-toggleable__label-arrow\">XGBClassifier</label><div class=\"sk-toggleable__content\"><pre>XGBClassifier(base_score=None, booster=None, callbacks=None,\n",
       "              colsample_bylevel=None, colsample_bynode=None,\n",
       "              colsample_bytree=None, device=None, early_stopping_rounds=None,\n",
       "              enable_categorical=False, eval_metric=None, feature_types=None,\n",
       "              gamma=None, grow_policy=None, importance_type=None,\n",
       "              interaction_constraints=None, learning_rate=None, max_bin=None,\n",
       "              max_cat_threshold=None, max_cat_to_onehot=None,\n",
       "              max_delta_step=None, max_depth=None, max_leaves=None,\n",
       "              min_child_weight=None, missing=nan, monotone_constraints=None,\n",
       "              multi_strategy=None, n_estimators=None, n_jobs=None,\n",
       "              num_parallel_tree=None, random_state=None, ...)</pre></div></div></div></div></div>"
      ],
      "text/plain": [
       "XGBClassifier(base_score=None, booster=None, callbacks=None,\n",
       "              colsample_bylevel=None, colsample_bynode=None,\n",
       "              colsample_bytree=None, device=None, early_stopping_rounds=None,\n",
       "              enable_categorical=False, eval_metric=None, feature_types=None,\n",
       "              gamma=None, grow_policy=None, importance_type=None,\n",
       "              interaction_constraints=None, learning_rate=None, max_bin=None,\n",
       "              max_cat_threshold=None, max_cat_to_onehot=None,\n",
       "              max_delta_step=None, max_depth=None, max_leaves=None,\n",
       "              min_child_weight=None, missing=nan, monotone_constraints=None,\n",
       "              multi_strategy=None, n_estimators=None, n_jobs=None,\n",
       "              num_parallel_tree=None, random_state=None, ...)"
      ]
     },
     "execution_count": 25,
     "metadata": {},
     "output_type": "execute_result"
    }
   ],
   "source": [
    "xgb_model = XGBClassifier()\n",
    "xgb_model.fit(X_train, y_train)"
   ]
  },
  {
   "cell_type": "code",
   "execution_count": 39,
   "id": "3b552174",
   "metadata": {},
   "outputs": [
    {
     "name": "stdout",
     "output_type": "stream",
     "text": [
      " XGB Model accuracy before feature selection: 60.00%\n"
     ]
    }
   ],
   "source": [
    "y_pred = xgb_model.predict(X_test)\n",
    "\n",
    "accuracy_xgb = accuracy_score(y_test, y_pred)\n",
    "print(f\" XGB Model accuracy before feature selection: {accuracy_xgb * 100:.2f}%\")"
   ]
  },
  {
   "cell_type": "code",
   "execution_count": 40,
   "id": "5b27729f",
   "metadata": {},
   "outputs": [
    {
     "name": "stdout",
     "output_type": "stream",
     "text": [
      "Random Forest Model accuracy before feature Selection: 60.00%\n"
     ]
    }
   ],
   "source": [
    "rf_model = RandomForestClassifier(n_estimators=100, random_state=42)\n",
    "rf_model.fit(X_train, y_train)\n",
    "\n",
    "y_pred_rf = rf_model.predict(X_test)\n",
    "\n",
    "accuracy_rf = accuracy_score(y_test, y_pred)\n",
    "print(f\"Random Forest Model accuracy before feature Selection: {accuracy_rf * 100:.2f}%\")"
   ]
  },
  {
   "cell_type": "markdown",
   "id": "a06e533d",
   "metadata": {},
   "source": [
    "## 6.2 Model accuracy after selecting important features"
   ]
  },
  {
   "cell_type": "code",
   "execution_count": 41,
   "id": "522232ae",
   "metadata": {},
   "outputs": [
    {
     "name": "stdout",
     "output_type": "stream",
     "text": [
      "Feature Importances (percentages): [0.29349226 0.34317982 0.36332792]\n"
     ]
    }
   ],
   "source": [
    "importances = xgb_model.feature_importances_\n",
    "print(\"Feature Importances (percentages):\", importances)\n",
    "least_important_channel_index = np.argmin(importances)"
   ]
  },
  {
   "cell_type": "code",
   "execution_count": 42,
   "id": "44a5e65d",
   "metadata": {},
   "outputs": [
    {
     "name": "stdout",
     "output_type": "stream",
     "text": [
      "Shape of X_train_reduced: (99, 2)\n",
      "Shape of X_test_reduced: (25, 2)\n"
     ]
    }
   ],
   "source": [
    "X_train, X_test, y_train, y_test = train_test_split(X_baseline, y_baseline, test_size=0.2, random_state=42)\n",
    "X_train_reduced = np.delete(X_train, least_important_channel_index, axis=1)\n",
    "X_test_reduced = np.delete(X_test, least_important_channel_index, axis=1)\n",
    "\n",
    "print(f\"Shape of X_train_reduced: {X_train_reduced.shape}\")\n",
    "print(f\"Shape of X_test_reduced: {X_test_reduced.shape}\")"
   ]
  },
  {
   "cell_type": "code",
   "execution_count": 43,
   "id": "e4b558fd",
   "metadata": {},
   "outputs": [
    {
     "data": {
      "text/html": [
       "<style>#sk-container-id-3 {color: black;background-color: white;}#sk-container-id-3 pre{padding: 0;}#sk-container-id-3 div.sk-toggleable {background-color: white;}#sk-container-id-3 label.sk-toggleable__label {cursor: pointer;display: block;width: 100%;margin-bottom: 0;padding: 0.3em;box-sizing: border-box;text-align: center;}#sk-container-id-3 label.sk-toggleable__label-arrow:before {content: \"▸\";float: left;margin-right: 0.25em;color: #696969;}#sk-container-id-3 label.sk-toggleable__label-arrow:hover:before {color: black;}#sk-container-id-3 div.sk-estimator:hover label.sk-toggleable__label-arrow:before {color: black;}#sk-container-id-3 div.sk-toggleable__content {max-height: 0;max-width: 0;overflow: hidden;text-align: left;background-color: #f0f8ff;}#sk-container-id-3 div.sk-toggleable__content pre {margin: 0.2em;color: black;border-radius: 0.25em;background-color: #f0f8ff;}#sk-container-id-3 input.sk-toggleable__control:checked~div.sk-toggleable__content {max-height: 200px;max-width: 100%;overflow: auto;}#sk-container-id-3 input.sk-toggleable__control:checked~label.sk-toggleable__label-arrow:before {content: \"▾\";}#sk-container-id-3 div.sk-estimator input.sk-toggleable__control:checked~label.sk-toggleable__label {background-color: #d4ebff;}#sk-container-id-3 div.sk-label input.sk-toggleable__control:checked~label.sk-toggleable__label {background-color: #d4ebff;}#sk-container-id-3 input.sk-hidden--visually {border: 0;clip: rect(1px 1px 1px 1px);clip: rect(1px, 1px, 1px, 1px);height: 1px;margin: -1px;overflow: hidden;padding: 0;position: absolute;width: 1px;}#sk-container-id-3 div.sk-estimator {font-family: monospace;background-color: #f0f8ff;border: 1px dotted black;border-radius: 0.25em;box-sizing: border-box;margin-bottom: 0.5em;}#sk-container-id-3 div.sk-estimator:hover {background-color: #d4ebff;}#sk-container-id-3 div.sk-parallel-item::after {content: \"\";width: 100%;border-bottom: 1px solid gray;flex-grow: 1;}#sk-container-id-3 div.sk-label:hover label.sk-toggleable__label {background-color: #d4ebff;}#sk-container-id-3 div.sk-serial::before {content: \"\";position: absolute;border-left: 1px solid gray;box-sizing: border-box;top: 0;bottom: 0;left: 50%;z-index: 0;}#sk-container-id-3 div.sk-serial {display: flex;flex-direction: column;align-items: center;background-color: white;padding-right: 0.2em;padding-left: 0.2em;position: relative;}#sk-container-id-3 div.sk-item {position: relative;z-index: 1;}#sk-container-id-3 div.sk-parallel {display: flex;align-items: stretch;justify-content: center;background-color: white;position: relative;}#sk-container-id-3 div.sk-item::before, #sk-container-id-3 div.sk-parallel-item::before {content: \"\";position: absolute;border-left: 1px solid gray;box-sizing: border-box;top: 0;bottom: 0;left: 50%;z-index: -1;}#sk-container-id-3 div.sk-parallel-item {display: flex;flex-direction: column;z-index: 1;position: relative;background-color: white;}#sk-container-id-3 div.sk-parallel-item:first-child::after {align-self: flex-end;width: 50%;}#sk-container-id-3 div.sk-parallel-item:last-child::after {align-self: flex-start;width: 50%;}#sk-container-id-3 div.sk-parallel-item:only-child::after {width: 0;}#sk-container-id-3 div.sk-dashed-wrapped {border: 1px dashed gray;margin: 0 0.4em 0.5em 0.4em;box-sizing: border-box;padding-bottom: 0.4em;background-color: white;}#sk-container-id-3 div.sk-label label {font-family: monospace;font-weight: bold;display: inline-block;line-height: 1.2em;}#sk-container-id-3 div.sk-label-container {text-align: center;}#sk-container-id-3 div.sk-container {/* jupyter's `normalize.less` sets `[hidden] { display: none; }` but bootstrap.min.css set `[hidden] { display: none !important; }` so we also need the `!important` here to be able to override the default hidden behavior on the sphinx rendered scikit-learn.org. See: https://github.com/scikit-learn/scikit-learn/issues/21755 */display: inline-block !important;position: relative;}#sk-container-id-3 div.sk-text-repr-fallback {display: none;}</style><div id=\"sk-container-id-3\" class=\"sk-top-container\"><div class=\"sk-text-repr-fallback\"><pre>XGBClassifier(base_score=None, booster=None, callbacks=None,\n",
       "              colsample_bylevel=None, colsample_bynode=None,\n",
       "              colsample_bytree=None, device=None, early_stopping_rounds=None,\n",
       "              enable_categorical=False, eval_metric=None, feature_types=None,\n",
       "              gamma=None, grow_policy=None, importance_type=None,\n",
       "              interaction_constraints=None, learning_rate=None, max_bin=None,\n",
       "              max_cat_threshold=None, max_cat_to_onehot=None,\n",
       "              max_delta_step=None, max_depth=None, max_leaves=None,\n",
       "              min_child_weight=None, missing=nan, monotone_constraints=None,\n",
       "              multi_strategy=None, n_estimators=None, n_jobs=None,\n",
       "              num_parallel_tree=None, random_state=42, ...)</pre><b>In a Jupyter environment, please rerun this cell to show the HTML representation or trust the notebook. <br />On GitHub, the HTML representation is unable to render, please try loading this page with nbviewer.org.</b></div><div class=\"sk-container\" hidden><div class=\"sk-item\"><div class=\"sk-estimator sk-toggleable\"><input class=\"sk-toggleable__control sk-hidden--visually\" id=\"sk-estimator-id-3\" type=\"checkbox\" checked><label for=\"sk-estimator-id-3\" class=\"sk-toggleable__label sk-toggleable__label-arrow\">XGBClassifier</label><div class=\"sk-toggleable__content\"><pre>XGBClassifier(base_score=None, booster=None, callbacks=None,\n",
       "              colsample_bylevel=None, colsample_bynode=None,\n",
       "              colsample_bytree=None, device=None, early_stopping_rounds=None,\n",
       "              enable_categorical=False, eval_metric=None, feature_types=None,\n",
       "              gamma=None, grow_policy=None, importance_type=None,\n",
       "              interaction_constraints=None, learning_rate=None, max_bin=None,\n",
       "              max_cat_threshold=None, max_cat_to_onehot=None,\n",
       "              max_delta_step=None, max_depth=None, max_leaves=None,\n",
       "              min_child_weight=None, missing=nan, monotone_constraints=None,\n",
       "              multi_strategy=None, n_estimators=None, n_jobs=None,\n",
       "              num_parallel_tree=None, random_state=42, ...)</pre></div></div></div></div></div>"
      ],
      "text/plain": [
       "XGBClassifier(base_score=None, booster=None, callbacks=None,\n",
       "              colsample_bylevel=None, colsample_bynode=None,\n",
       "              colsample_bytree=None, device=None, early_stopping_rounds=None,\n",
       "              enable_categorical=False, eval_metric=None, feature_types=None,\n",
       "              gamma=None, grow_policy=None, importance_type=None,\n",
       "              interaction_constraints=None, learning_rate=None, max_bin=None,\n",
       "              max_cat_threshold=None, max_cat_to_onehot=None,\n",
       "              max_delta_step=None, max_depth=None, max_leaves=None,\n",
       "              min_child_weight=None, missing=nan, monotone_constraints=None,\n",
       "              multi_strategy=None, n_estimators=None, n_jobs=None,\n",
       "              num_parallel_tree=None, random_state=42, ...)"
      ]
     },
     "execution_count": 43,
     "metadata": {},
     "output_type": "execute_result"
    }
   ],
   "source": [
    "xgb_model_fe = XGBClassifier(random_state=42)\n",
    "xgb_model_fe.fit(X_train_reduced, y_train)"
   ]
  },
  {
   "cell_type": "code",
   "execution_count": 44,
   "id": "f5190f22",
   "metadata": {},
   "outputs": [
    {
     "name": "stdout",
     "output_type": "stream",
     "text": [
      "XGB Model accuracy after feature selection: 68.00%\n"
     ]
    }
   ],
   "source": [
    "y_pred_reduced = xgb_model_fe.predict(X_test_reduced)\n",
    "\n",
    "accuracy_reduced = accuracy_score(y_test, y_pred_reduced)\n",
    "print(f\"XGB Model accuracy after feature selection: {accuracy_reduced * 100:.2f}%\")"
   ]
  },
  {
   "cell_type": "code",
   "execution_count": 45,
   "id": "180b6db4",
   "metadata": {},
   "outputs": [
    {
     "name": "stdout",
     "output_type": "stream",
     "text": [
      "Random Forest Model accuracy after feature Selection: 76.00%\n"
     ]
    }
   ],
   "source": [
    "rf_model = RandomForestClassifier(n_estimators=100, random_state=42)\n",
    "rf_model.fit(X_train_reduced, y_train)\n",
    "\n",
    "y_pred_reduced = rf_model.predict(X_test_reduced)\n",
    "\n",
    "accuracy_reduced = accuracy_score(y_test, y_pred_reduced)\n",
    "print(f\"Random Forest Model accuracy after feature Selection: {accuracy_reduced * 100:.2f}%\")"
   ]
  },
  {
   "cell_type": "markdown",
   "id": "8a2ea105",
   "metadata": {},
   "source": [
    "### 7. Conclusion: This code is built just to establish the importance of using feature importance method that is later used for SELECTING IMPORTANCE of the CHANNELS to REDUCE the number of channels. Only two sample algorithms have been used here to show how the method is used to increase the performance of the models. This same method will be used to reduce the number of channels later based on the importance of each channels for the same data.  "
   ]
  },
  {
   "cell_type": "markdown",
   "id": "974fda2d",
   "metadata": {},
   "source": [
    "### 8. Outcome:  The baseline model featuring only the signal features has the accuracy of 76%"
   ]
  },
  {
   "cell_type": "markdown",
   "id": "384a9121",
   "metadata": {},
   "source": [
    "### 9. Comment: The text features were not required here, I have just used them to show the overall procedures of training my models. This is the overall procedures that I have followed for all the models including both Signal and Text Features. "
   ]
  },
  {
   "cell_type": "code",
   "execution_count": null,
   "id": "e65e7fab",
   "metadata": {},
   "outputs": [],
   "source": []
  }
 ],
 "metadata": {
  "kernelspec": {
   "display_name": "Python 3 (ipykernel)",
   "language": "python",
   "name": "python3"
  },
  "language_info": {
   "codemirror_mode": {
    "name": "ipython",
    "version": 3
   },
   "file_extension": ".py",
   "mimetype": "text/x-python",
   "name": "python",
   "nbconvert_exporter": "python",
   "pygments_lexer": "ipython3",
   "version": "3.10.9"
  }
 },
 "nbformat": 4,
 "nbformat_minor": 5
}
